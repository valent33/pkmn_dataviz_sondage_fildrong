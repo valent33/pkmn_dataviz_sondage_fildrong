{
 "cells": [
  {
   "cell_type": "markdown",
   "metadata": {},
   "source": [
    "POKE :)"
   ]
  },
  {
   "cell_type": "code",
   "execution_count": 1,
   "metadata": {},
   "outputs": [],
   "source": [
    "import pandas as pd\n",
    "import numpy as np\n",
    "import plotly.express as px\n",
    "from plotly.subplots import make_subplots\n",
    "import plotly.graph_objects as go\n",
    "from PIL import Image"
   ]
  },
  {
   "cell_type": "markdown",
   "metadata": {},
   "source": [
    "## Statistics"
   ]
  },
  {
   "cell_type": "code",
   "execution_count": 2,
   "metadata": {},
   "outputs": [],
   "source": [
    "stats = pd.read_csv('PokeDataset.csv')"
   ]
  },
  {
   "cell_type": "code",
   "execution_count": 3,
   "metadata": {},
   "outputs": [],
   "source": [
    "stats['Type2'] = stats.Type2.fillna('')"
   ]
  },
  {
   "cell_type": "code",
   "execution_count": 4,
   "metadata": {},
   "outputs": [
    {
     "data": {
      "text/html": [
       "<div>\n",
       "<style scoped>\n",
       "    .dataframe tbody tr th:only-of-type {\n",
       "        vertical-align: middle;\n",
       "    }\n",
       "\n",
       "    .dataframe tbody tr th {\n",
       "        vertical-align: top;\n",
       "    }\n",
       "\n",
       "    .dataframe thead th {\n",
       "        text-align: right;\n",
       "    }\n",
       "</style>\n",
       "<table border=\"1\" class=\"dataframe\">\n",
       "  <thead>\n",
       "    <tr style=\"text-align: right;\">\n",
       "      <th></th>\n",
       "      <th>No</th>\n",
       "      <th>Name</th>\n",
       "      <th>Type1</th>\n",
       "      <th>Type2</th>\n",
       "      <th>Total</th>\n",
       "      <th>HP</th>\n",
       "      <th>Attack</th>\n",
       "      <th>Defense</th>\n",
       "      <th>Sp. Atk</th>\n",
       "      <th>Sp. Def</th>\n",
       "      <th>Speed</th>\n",
       "      <th>Generation</th>\n",
       "      <th>Legendary</th>\n",
       "      <th>Color</th>\n",
       "      <th>Height</th>\n",
       "      <th>Weight</th>\n",
       "      <th>Types</th>\n",
       "    </tr>\n",
       "  </thead>\n",
       "  <tbody>\n",
       "    <tr>\n",
       "      <th>0</th>\n",
       "      <td>1</td>\n",
       "      <td>Bulbasaur</td>\n",
       "      <td>Grass</td>\n",
       "      <td>Poison</td>\n",
       "      <td>318</td>\n",
       "      <td>45</td>\n",
       "      <td>49</td>\n",
       "      <td>49</td>\n",
       "      <td>65</td>\n",
       "      <td>65</td>\n",
       "      <td>45</td>\n",
       "      <td>1</td>\n",
       "      <td>False</td>\n",
       "      <td>Green</td>\n",
       "      <td>0.7</td>\n",
       "      <td>6.9</td>\n",
       "      <td>[Grass, Poison]</td>\n",
       "    </tr>\n",
       "    <tr>\n",
       "      <th>1</th>\n",
       "      <td>2</td>\n",
       "      <td>Ivysaur</td>\n",
       "      <td>Grass</td>\n",
       "      <td>Poison</td>\n",
       "      <td>405</td>\n",
       "      <td>60</td>\n",
       "      <td>62</td>\n",
       "      <td>63</td>\n",
       "      <td>80</td>\n",
       "      <td>80</td>\n",
       "      <td>60</td>\n",
       "      <td>1</td>\n",
       "      <td>False</td>\n",
       "      <td>Green</td>\n",
       "      <td>1.0</td>\n",
       "      <td>13.0</td>\n",
       "      <td>[Grass, Poison]</td>\n",
       "    </tr>\n",
       "    <tr>\n",
       "      <th>2</th>\n",
       "      <td>3</td>\n",
       "      <td>Venusaur</td>\n",
       "      <td>Grass</td>\n",
       "      <td>Poison</td>\n",
       "      <td>525</td>\n",
       "      <td>80</td>\n",
       "      <td>82</td>\n",
       "      <td>83</td>\n",
       "      <td>100</td>\n",
       "      <td>100</td>\n",
       "      <td>80</td>\n",
       "      <td>1</td>\n",
       "      <td>False</td>\n",
       "      <td>Green</td>\n",
       "      <td>2.0</td>\n",
       "      <td>100.0</td>\n",
       "      <td>[Grass, Poison]</td>\n",
       "    </tr>\n",
       "    <tr>\n",
       "      <th>3</th>\n",
       "      <td>4</td>\n",
       "      <td>Charmander</td>\n",
       "      <td>Fire</td>\n",
       "      <td></td>\n",
       "      <td>309</td>\n",
       "      <td>39</td>\n",
       "      <td>52</td>\n",
       "      <td>43</td>\n",
       "      <td>60</td>\n",
       "      <td>50</td>\n",
       "      <td>65</td>\n",
       "      <td>1</td>\n",
       "      <td>False</td>\n",
       "      <td>Red</td>\n",
       "      <td>0.6</td>\n",
       "      <td>8.5</td>\n",
       "      <td>[Fire]</td>\n",
       "    </tr>\n",
       "    <tr>\n",
       "      <th>4</th>\n",
       "      <td>5</td>\n",
       "      <td>Charmeleon</td>\n",
       "      <td>Fire</td>\n",
       "      <td></td>\n",
       "      <td>405</td>\n",
       "      <td>58</td>\n",
       "      <td>64</td>\n",
       "      <td>58</td>\n",
       "      <td>80</td>\n",
       "      <td>65</td>\n",
       "      <td>80</td>\n",
       "      <td>1</td>\n",
       "      <td>False</td>\n",
       "      <td>Red</td>\n",
       "      <td>1.1</td>\n",
       "      <td>19.0</td>\n",
       "      <td>[Fire]</td>\n",
       "    </tr>\n",
       "    <tr>\n",
       "      <th>...</th>\n",
       "      <td>...</td>\n",
       "      <td>...</td>\n",
       "      <td>...</td>\n",
       "      <td>...</td>\n",
       "      <td>...</td>\n",
       "      <td>...</td>\n",
       "      <td>...</td>\n",
       "      <td>...</td>\n",
       "      <td>...</td>\n",
       "      <td>...</td>\n",
       "      <td>...</td>\n",
       "      <td>...</td>\n",
       "      <td>...</td>\n",
       "      <td>...</td>\n",
       "      <td>...</td>\n",
       "      <td>...</td>\n",
       "      <td>...</td>\n",
       "    </tr>\n",
       "    <tr>\n",
       "      <th>900</th>\n",
       "      <td>901</td>\n",
       "      <td>Ursaluna</td>\n",
       "      <td>Ground</td>\n",
       "      <td>Normal</td>\n",
       "      <td>550</td>\n",
       "      <td>130</td>\n",
       "      <td>140</td>\n",
       "      <td>105</td>\n",
       "      <td>45</td>\n",
       "      <td>80</td>\n",
       "      <td>50</td>\n",
       "      <td>8</td>\n",
       "      <td>False</td>\n",
       "      <td>Brown</td>\n",
       "      <td>2.4</td>\n",
       "      <td>290.0</td>\n",
       "      <td>[Ground, Normal]</td>\n",
       "    </tr>\n",
       "    <tr>\n",
       "      <th>901</th>\n",
       "      <td>902</td>\n",
       "      <td>Basculegion</td>\n",
       "      <td>Water</td>\n",
       "      <td>Ghost</td>\n",
       "      <td>530</td>\n",
       "      <td>120</td>\n",
       "      <td>112</td>\n",
       "      <td>65</td>\n",
       "      <td>80</td>\n",
       "      <td>75</td>\n",
       "      <td>78</td>\n",
       "      <td>8</td>\n",
       "      <td>False</td>\n",
       "      <td>NaN</td>\n",
       "      <td>3.0</td>\n",
       "      <td>110.0</td>\n",
       "      <td>[Water, Ghost]</td>\n",
       "    </tr>\n",
       "    <tr>\n",
       "      <th>902</th>\n",
       "      <td>903</td>\n",
       "      <td>Sneasler</td>\n",
       "      <td>Fighting</td>\n",
       "      <td>Poison</td>\n",
       "      <td>510</td>\n",
       "      <td>80</td>\n",
       "      <td>130</td>\n",
       "      <td>60</td>\n",
       "      <td>40</td>\n",
       "      <td>80</td>\n",
       "      <td>120</td>\n",
       "      <td>8</td>\n",
       "      <td>False</td>\n",
       "      <td>Gray</td>\n",
       "      <td>1.3</td>\n",
       "      <td>43.0</td>\n",
       "      <td>[Fighting, Poison]</td>\n",
       "    </tr>\n",
       "    <tr>\n",
       "      <th>903</th>\n",
       "      <td>904</td>\n",
       "      <td>Overqwil</td>\n",
       "      <td>Dark</td>\n",
       "      <td>Poison</td>\n",
       "      <td>510</td>\n",
       "      <td>85</td>\n",
       "      <td>115</td>\n",
       "      <td>95</td>\n",
       "      <td>65</td>\n",
       "      <td>65</td>\n",
       "      <td>85</td>\n",
       "      <td>8</td>\n",
       "      <td>False</td>\n",
       "      <td>Black</td>\n",
       "      <td>2.5</td>\n",
       "      <td>60.5</td>\n",
       "      <td>[Dark, Poison]</td>\n",
       "    </tr>\n",
       "    <tr>\n",
       "      <th>904</th>\n",
       "      <td>905</td>\n",
       "      <td>Enamorus</td>\n",
       "      <td>Fairy</td>\n",
       "      <td>Flying</td>\n",
       "      <td>580</td>\n",
       "      <td>74</td>\n",
       "      <td>115</td>\n",
       "      <td>70</td>\n",
       "      <td>135</td>\n",
       "      <td>80</td>\n",
       "      <td>106</td>\n",
       "      <td>8</td>\n",
       "      <td>True</td>\n",
       "      <td>NaN</td>\n",
       "      <td>1.6</td>\n",
       "      <td>48.0</td>\n",
       "      <td>[Fairy, Flying]</td>\n",
       "    </tr>\n",
       "  </tbody>\n",
       "</table>\n",
       "<p>905 rows × 17 columns</p>\n",
       "</div>"
      ],
      "text/plain": [
       "      No         Name     Type1   Type2  Total   HP  Attack  Defense  Sp. Atk  \\\n",
       "0      1    Bulbasaur     Grass  Poison    318   45      49       49       65   \n",
       "1      2      Ivysaur     Grass  Poison    405   60      62       63       80   \n",
       "2      3     Venusaur     Grass  Poison    525   80      82       83      100   \n",
       "3      4   Charmander      Fire            309   39      52       43       60   \n",
       "4      5   Charmeleon      Fire            405   58      64       58       80   \n",
       "..   ...          ...       ...     ...    ...  ...     ...      ...      ...   \n",
       "900  901     Ursaluna    Ground  Normal    550  130     140      105       45   \n",
       "901  902  Basculegion     Water   Ghost    530  120     112       65       80   \n",
       "902  903     Sneasler  Fighting  Poison    510   80     130       60       40   \n",
       "903  904     Overqwil      Dark  Poison    510   85     115       95       65   \n",
       "904  905     Enamorus     Fairy  Flying    580   74     115       70      135   \n",
       "\n",
       "     Sp. Def  Speed  Generation  Legendary  Color  Height  Weight  \\\n",
       "0         65     45           1      False  Green     0.7     6.9   \n",
       "1         80     60           1      False  Green     1.0    13.0   \n",
       "2        100     80           1      False  Green     2.0   100.0   \n",
       "3         50     65           1      False    Red     0.6     8.5   \n",
       "4         65     80           1      False    Red     1.1    19.0   \n",
       "..       ...    ...         ...        ...    ...     ...     ...   \n",
       "900       80     50           8      False  Brown     2.4   290.0   \n",
       "901       75     78           8      False    NaN     3.0   110.0   \n",
       "902       80    120           8      False   Gray     1.3    43.0   \n",
       "903       65     85           8      False  Black     2.5    60.5   \n",
       "904       80    106           8       True    NaN     1.6    48.0   \n",
       "\n",
       "                  Types  \n",
       "0       [Grass, Poison]  \n",
       "1       [Grass, Poison]  \n",
       "2       [Grass, Poison]  \n",
       "3                [Fire]  \n",
       "4                [Fire]  \n",
       "..                  ...  \n",
       "900    [Ground, Normal]  \n",
       "901      [Water, Ghost]  \n",
       "902  [Fighting, Poison]  \n",
       "903      [Dark, Poison]  \n",
       "904     [Fairy, Flying]  \n",
       "\n",
       "[905 rows x 17 columns]"
      ]
     },
     "execution_count": 4,
     "metadata": {},
     "output_type": "execute_result"
    }
   ],
   "source": [
    "conditions = [stats['Type2'] == '', stats['Type2'] != '']\n",
    "values = [stats['Type1'], stats['Type1'] + '|' + stats['Type2']]\n",
    "\n",
    "stats['Types'] = stats['Type1'] + ',' + stats['Type2']\n",
    "stats['Types'] = stats['Types'].apply(lambda s: [l for l in str(s).split(',') if l not in [\"\"]])\n",
    "stats"
   ]
  },
  {
   "cell_type": "markdown",
   "metadata": {},
   "source": [
    "## Popularity"
   ]
  },
  {
   "cell_type": "code",
   "execution_count": 5,
   "metadata": {},
   "outputs": [],
   "source": [
    "ranks = pd.read_csv('PokeRank.csv')\n",
    "ranks = ranks.rename(columns={\"Nombre de votes\": \"Votes\"})\n",
    "ranks = ranks.rename(columns={\"% de joueurs ayant voté pour\": \"Percentage\"})"
   ]
  },
  {
   "cell_type": "code",
   "execution_count": 6,
   "metadata": {},
   "outputs": [],
   "source": [
    "trad = pd.read_csv('PokeTrad.csv')"
   ]
  },
  {
   "cell_type": "code",
   "execution_count": 7,
   "metadata": {},
   "outputs": [],
   "source": [
    "ranks['English'] = ranks['Pokémon'].map(trad.set_index('French')['English'])"
   ]
  },
  {
   "cell_type": "code",
   "execution_count": 8,
   "metadata": {},
   "outputs": [],
   "source": [
    "ranks = ranks.dropna(axis=0)\n",
    "total_votes = ranks['Votes'].sum() # après épurage des pokémons spéciaux\n",
    "total_voters = 18004 # source Fildrong"
   ]
  },
  {
   "cell_type": "code",
   "execution_count": 9,
   "metadata": {},
   "outputs": [],
   "source": [
    "ranks['Type1'] = ranks['English'].map(stats.set_index('Name')['Type1'])\n",
    "ranks['Type2'] = ranks['English'].map(stats.set_index('Name')['Type2'])\n",
    "ranks['Types'] = ranks['English'].map(stats.set_index('Name')['Types'])\n",
    "ranks['Gen'] = ranks['English'].map(stats.set_index('Name')['Generation'])\n",
    "ranks['Legendary'] = ranks['English'].map(stats.set_index('Name')['Legendary'])\n",
    "ranks['Color'] = ranks['English'].map(stats.set_index('Name')['Color'])\n",
    "ranks['No'] = ranks['English'].map(stats.set_index('Name')['No'])"
   ]
  },
  {
   "cell_type": "code",
   "execution_count": 10,
   "metadata": {},
   "outputs": [
    {
     "data": {
      "text/html": [
       "<div>\n",
       "<style scoped>\n",
       "    .dataframe tbody tr th:only-of-type {\n",
       "        vertical-align: middle;\n",
       "    }\n",
       "\n",
       "    .dataframe tbody tr th {\n",
       "        vertical-align: top;\n",
       "    }\n",
       "\n",
       "    .dataframe thead th {\n",
       "        text-align: right;\n",
       "    }\n",
       "</style>\n",
       "<table border=\"1\" class=\"dataframe\">\n",
       "  <thead>\n",
       "    <tr style=\"text-align: right;\">\n",
       "      <th></th>\n",
       "      <th>Classement</th>\n",
       "      <th>Pokémon</th>\n",
       "      <th>Votes</th>\n",
       "      <th>% de joueurs ayant vote pour</th>\n",
       "      <th>English</th>\n",
       "      <th>Type1</th>\n",
       "      <th>Type2</th>\n",
       "      <th>Types</th>\n",
       "      <th>Gen</th>\n",
       "      <th>Legendary</th>\n",
       "      <th>Color</th>\n",
       "      <th>No</th>\n",
       "    </tr>\n",
       "  </thead>\n",
       "  <tbody>\n",
       "    <tr>\n",
       "      <th>0</th>\n",
       "      <td>1</td>\n",
       "      <td>Carchacrok</td>\n",
       "      <td>2190</td>\n",
       "      <td>12,16%</td>\n",
       "      <td>Garchomp</td>\n",
       "      <td>Dragon</td>\n",
       "      <td>Ground</td>\n",
       "      <td>[Dragon, Ground]</td>\n",
       "      <td>4</td>\n",
       "      <td>False</td>\n",
       "      <td>Blue</td>\n",
       "      <td>445</td>\n",
       "    </tr>\n",
       "    <tr>\n",
       "      <th>1</th>\n",
       "      <td>2</td>\n",
       "      <td>Ectoplasma</td>\n",
       "      <td>1999</td>\n",
       "      <td>11,10%</td>\n",
       "      <td>Gengar</td>\n",
       "      <td>Ghost</td>\n",
       "      <td>Poison</td>\n",
       "      <td>[Ghost, Poison]</td>\n",
       "      <td>1</td>\n",
       "      <td>False</td>\n",
       "      <td>Purple</td>\n",
       "      <td>94</td>\n",
       "    </tr>\n",
       "    <tr>\n",
       "      <th>2</th>\n",
       "      <td>3</td>\n",
       "      <td>Rayquaza</td>\n",
       "      <td>1672</td>\n",
       "      <td>9,29%</td>\n",
       "      <td>Rayquaza</td>\n",
       "      <td>Dragon</td>\n",
       "      <td>Flying</td>\n",
       "      <td>[Dragon, Flying]</td>\n",
       "      <td>3</td>\n",
       "      <td>True</td>\n",
       "      <td>Green</td>\n",
       "      <td>384</td>\n",
       "    </tr>\n",
       "    <tr>\n",
       "      <th>3</th>\n",
       "      <td>4</td>\n",
       "      <td>Amphinobi</td>\n",
       "      <td>1654</td>\n",
       "      <td>9,19%</td>\n",
       "      <td>Greninja</td>\n",
       "      <td>Water</td>\n",
       "      <td>Dark</td>\n",
       "      <td>[Water, Dark]</td>\n",
       "      <td>6</td>\n",
       "      <td>False</td>\n",
       "      <td>Blue</td>\n",
       "      <td>658</td>\n",
       "    </tr>\n",
       "    <tr>\n",
       "      <th>4</th>\n",
       "      <td>5</td>\n",
       "      <td>Lucario</td>\n",
       "      <td>1441</td>\n",
       "      <td>8,00%</td>\n",
       "      <td>Lucario</td>\n",
       "      <td>Fighting</td>\n",
       "      <td>Steel</td>\n",
       "      <td>[Fighting, Steel]</td>\n",
       "      <td>4</td>\n",
       "      <td>False</td>\n",
       "      <td>Blue</td>\n",
       "      <td>448</td>\n",
       "    </tr>\n",
       "    <tr>\n",
       "      <th>...</th>\n",
       "      <td>...</td>\n",
       "      <td>...</td>\n",
       "      <td>...</td>\n",
       "      <td>...</td>\n",
       "      <td>...</td>\n",
       "      <td>...</td>\n",
       "      <td>...</td>\n",
       "      <td>...</td>\n",
       "      <td>...</td>\n",
       "      <td>...</td>\n",
       "      <td>...</td>\n",
       "      <td>...</td>\n",
       "    </tr>\n",
       "    <tr>\n",
       "      <th>931</th>\n",
       "      <td>932</td>\n",
       "      <td>Muciole</td>\n",
       "      <td>11</td>\n",
       "      <td>0,06%</td>\n",
       "      <td>Volbeat</td>\n",
       "      <td>Bug</td>\n",
       "      <td></td>\n",
       "      <td>[Bug]</td>\n",
       "      <td>3</td>\n",
       "      <td>False</td>\n",
       "      <td>Gray</td>\n",
       "      <td>313</td>\n",
       "    </tr>\n",
       "    <tr>\n",
       "      <th>932</th>\n",
       "      <td>933</td>\n",
       "      <td>Manglouton</td>\n",
       "      <td>10</td>\n",
       "      <td>0,06%</td>\n",
       "      <td>Yungoos</td>\n",
       "      <td>Normal</td>\n",
       "      <td></td>\n",
       "      <td>[Normal]</td>\n",
       "      <td>7</td>\n",
       "      <td>False</td>\n",
       "      <td>Brown</td>\n",
       "      <td>734</td>\n",
       "    </tr>\n",
       "    <tr>\n",
       "      <th>933</th>\n",
       "      <td>934</td>\n",
       "      <td>Opermine</td>\n",
       "      <td>9</td>\n",
       "      <td>0,05%</td>\n",
       "      <td>Binacle</td>\n",
       "      <td>Rock</td>\n",
       "      <td>Water</td>\n",
       "      <td>[Rock, Water]</td>\n",
       "      <td>6</td>\n",
       "      <td>False</td>\n",
       "      <td>Brown</td>\n",
       "      <td>688</td>\n",
       "    </tr>\n",
       "    <tr>\n",
       "      <th>934</th>\n",
       "      <td>935</td>\n",
       "      <td>Noeunoeuf</td>\n",
       "      <td>8</td>\n",
       "      <td>0,04%</td>\n",
       "      <td>Exeggcute</td>\n",
       "      <td>Grass</td>\n",
       "      <td>Psychic</td>\n",
       "      <td>[Grass, Psychic]</td>\n",
       "      <td>1</td>\n",
       "      <td>False</td>\n",
       "      <td>Pink</td>\n",
       "      <td>102</td>\n",
       "    </tr>\n",
       "    <tr>\n",
       "      <th>935</th>\n",
       "      <td>936</td>\n",
       "      <td>Hastacuda</td>\n",
       "      <td>8</td>\n",
       "      <td>0,04%</td>\n",
       "      <td>Barraskewda</td>\n",
       "      <td>Water</td>\n",
       "      <td></td>\n",
       "      <td>[Water]</td>\n",
       "      <td>8</td>\n",
       "      <td>False</td>\n",
       "      <td>Brown</td>\n",
       "      <td>847</td>\n",
       "    </tr>\n",
       "  </tbody>\n",
       "</table>\n",
       "<p>898 rows × 12 columns</p>\n",
       "</div>"
      ],
      "text/plain": [
       "     Classement     Pokémon  Votes % de joueurs ayant vote pour      English  \\\n",
       "0             1  Carchacrok   2190                       12,16%     Garchomp   \n",
       "1             2  Ectoplasma   1999                       11,10%       Gengar   \n",
       "2             3    Rayquaza   1672                        9,29%     Rayquaza   \n",
       "3             4   Amphinobi   1654                        9,19%     Greninja   \n",
       "4             5     Lucario   1441                        8,00%      Lucario   \n",
       "..          ...         ...    ...                          ...          ...   \n",
       "931         932     Muciole     11                        0,06%      Volbeat   \n",
       "932         933  Manglouton     10                        0,06%      Yungoos   \n",
       "933         934    Opermine      9                        0,05%      Binacle   \n",
       "934         935   Noeunoeuf      8                        0,04%    Exeggcute   \n",
       "935         936   Hastacuda      8                        0,04%  Barraskewda   \n",
       "\n",
       "        Type1    Type2              Types  Gen  Legendary   Color   No  \n",
       "0      Dragon   Ground   [Dragon, Ground]    4      False    Blue  445  \n",
       "1       Ghost   Poison    [Ghost, Poison]    1      False  Purple   94  \n",
       "2      Dragon   Flying   [Dragon, Flying]    3       True   Green  384  \n",
       "3       Water     Dark      [Water, Dark]    6      False    Blue  658  \n",
       "4    Fighting    Steel  [Fighting, Steel]    4      False    Blue  448  \n",
       "..        ...      ...                ...  ...        ...     ...  ...  \n",
       "931       Bug                       [Bug]    3      False    Gray  313  \n",
       "932    Normal                    [Normal]    7      False   Brown  734  \n",
       "933      Rock    Water      [Rock, Water]    6      False   Brown  688  \n",
       "934     Grass  Psychic   [Grass, Psychic]    1      False    Pink  102  \n",
       "935     Water                     [Water]    8      False   Brown  847  \n",
       "\n",
       "[898 rows x 12 columns]"
      ]
     },
     "execution_count": 10,
     "metadata": {},
     "output_type": "execute_result"
    }
   ],
   "source": [
    "ranks"
   ]
  },
  {
   "cell_type": "code",
   "execution_count": 11,
   "metadata": {},
   "outputs": [],
   "source": [
    "LegVotes = ranks[ranks[\"Legendary\"]==True][\"Votes\"].sum()\n",
    "NonLegVotes = ranks[ranks[\"Legendary\"]==False][\"Votes\"].sum()\n",
    "total_votes = ranks[\"Votes\"].sum()\n",
    "Leg = ranks[ranks[\"Legendary\"]==True][\"Votes\"].count()\n",
    "NonLeg = ranks[ranks[\"Legendary\"]==False][\"Votes\"].count()\n",
    "total_pokemons = ranks[\"Votes\"].count()"
   ]
  },
  {
   "cell_type": "markdown",
   "metadata": {},
   "source": [
    "## VISUALIZATION\n",
    "pie types votes</br>\n",
    "~~pie gen votes~~</br>\n",
    "true scatterpolar per type</br>\n",
    "radar/scatterpolar stats pondérées\n",
    "</br>bar vote just the curve"
   ]
  },
  {
   "cell_type": "code",
   "execution_count": 12,
   "metadata": {},
   "outputs": [],
   "source": [
    "palette = {\n",
    "    'Grass': '#2CA02C',\n",
    "    'Fire': '#FD3216',\n",
    "    'Water': '#0071FF',\n",
    "    'Bug': '#90AD1C',\n",
    "    'Normal': '#BAB0AC',\n",
    "    'Poison': '#9E38AD',\n",
    "    'Electric': '#EECA3B',\n",
    "    'Ground': '#B68100',\n",
    "    'Fairy': '#E49DCF',\n",
    "    'Fighting': '#FF7818',\n",
    "    'Psychic': '#F261A7',\n",
    "    'Rock': '#A38B5B',\n",
    "    'Ghost': '#4C3B7A',\n",
    "    'Ice': '#19D3F3',\n",
    "    'Dragon': '#1616A7',\n",
    "    'Dark': '#222A2A',\n",
    "    'Steel': '#778AAE',\n",
    "    'Flying': '#72B7B2'\n",
    "}"
   ]
  },
  {
   "cell_type": "code",
   "execution_count": 13,
   "metadata": {},
   "outputs": [],
   "source": [
    "type_temp = stats['Types'].apply(lambda s: str(s).replace(\"'\", \"\").replace('[', '').replace(']', '').split(', ')).explode().value_counts().sort_values(ascending=True)\n",
    "color_temp = stats['Color'].value_counts().sort_values(ascending=True)"
   ]
  },
  {
   "cell_type": "code",
   "execution_count": 14,
   "metadata": {},
   "outputs": [],
   "source": [
    "gen_columns = ['gen1', 'gen2', 'gen3', 'gen4', 'gen5', 'gen6', 'gen7', 'gen8']\n",
    "type_freq = pd.DataFrame(columns=['type', 'freq']+gen_columns)\n",
    "color_freq = pd.DataFrame(columns=['color', 'freq']+gen_columns)"
   ]
  },
  {
   "cell_type": "code",
   "execution_count": 15,
   "metadata": {},
   "outputs": [
    {
     "name": "stderr",
     "output_type": "stream",
     "text": [
      "C:\\Windows\\Temp\\ipykernel_24540\\2656124746.py:2: FutureWarning: The frame.append method is deprecated and will be removed from pandas in a future version. Use pandas.concat instead.\n",
      "  type_freq = type_freq.append(pd.Series([type,\n",
      "C:\\Windows\\Temp\\ipykernel_24540\\2656124746.py:2: FutureWarning: The frame.append method is deprecated and will be removed from pandas in a future version. Use pandas.concat instead.\n",
      "  type_freq = type_freq.append(pd.Series([type,\n",
      "C:\\Windows\\Temp\\ipykernel_24540\\2656124746.py:2: FutureWarning: The frame.append method is deprecated and will be removed from pandas in a future version. Use pandas.concat instead.\n",
      "  type_freq = type_freq.append(pd.Series([type,\n",
      "C:\\Windows\\Temp\\ipykernel_24540\\2656124746.py:2: FutureWarning: The frame.append method is deprecated and will be removed from pandas in a future version. Use pandas.concat instead.\n",
      "  type_freq = type_freq.append(pd.Series([type,\n",
      "C:\\Windows\\Temp\\ipykernel_24540\\2656124746.py:2: FutureWarning: The frame.append method is deprecated and will be removed from pandas in a future version. Use pandas.concat instead.\n",
      "  type_freq = type_freq.append(pd.Series([type,\n",
      "C:\\Windows\\Temp\\ipykernel_24540\\2656124746.py:2: FutureWarning: The frame.append method is deprecated and will be removed from pandas in a future version. Use pandas.concat instead.\n",
      "  type_freq = type_freq.append(pd.Series([type,\n",
      "C:\\Windows\\Temp\\ipykernel_24540\\2656124746.py:2: FutureWarning: The frame.append method is deprecated and will be removed from pandas in a future version. Use pandas.concat instead.\n",
      "  type_freq = type_freq.append(pd.Series([type,\n",
      "C:\\Windows\\Temp\\ipykernel_24540\\2656124746.py:2: FutureWarning: The frame.append method is deprecated and will be removed from pandas in a future version. Use pandas.concat instead.\n",
      "  type_freq = type_freq.append(pd.Series([type,\n",
      "C:\\Windows\\Temp\\ipykernel_24540\\2656124746.py:2: FutureWarning: The frame.append method is deprecated and will be removed from pandas in a future version. Use pandas.concat instead.\n",
      "  type_freq = type_freq.append(pd.Series([type,\n",
      "C:\\Windows\\Temp\\ipykernel_24540\\2656124746.py:2: FutureWarning: The frame.append method is deprecated and will be removed from pandas in a future version. Use pandas.concat instead.\n",
      "  type_freq = type_freq.append(pd.Series([type,\n",
      "C:\\Windows\\Temp\\ipykernel_24540\\2656124746.py:2: FutureWarning: The frame.append method is deprecated and will be removed from pandas in a future version. Use pandas.concat instead.\n",
      "  type_freq = type_freq.append(pd.Series([type,\n",
      "C:\\Windows\\Temp\\ipykernel_24540\\2656124746.py:2: FutureWarning: The frame.append method is deprecated and will be removed from pandas in a future version. Use pandas.concat instead.\n",
      "  type_freq = type_freq.append(pd.Series([type,\n",
      "C:\\Windows\\Temp\\ipykernel_24540\\2656124746.py:2: FutureWarning: The frame.append method is deprecated and will be removed from pandas in a future version. Use pandas.concat instead.\n",
      "  type_freq = type_freq.append(pd.Series([type,\n",
      "C:\\Windows\\Temp\\ipykernel_24540\\2656124746.py:2: FutureWarning: The frame.append method is deprecated and will be removed from pandas in a future version. Use pandas.concat instead.\n",
      "  type_freq = type_freq.append(pd.Series([type,\n",
      "C:\\Windows\\Temp\\ipykernel_24540\\2656124746.py:2: FutureWarning: The frame.append method is deprecated and will be removed from pandas in a future version. Use pandas.concat instead.\n",
      "  type_freq = type_freq.append(pd.Series([type,\n",
      "C:\\Windows\\Temp\\ipykernel_24540\\2656124746.py:2: FutureWarning: The frame.append method is deprecated and will be removed from pandas in a future version. Use pandas.concat instead.\n",
      "  type_freq = type_freq.append(pd.Series([type,\n",
      "C:\\Windows\\Temp\\ipykernel_24540\\2656124746.py:2: FutureWarning: The frame.append method is deprecated and will be removed from pandas in a future version. Use pandas.concat instead.\n",
      "  type_freq = type_freq.append(pd.Series([type,\n",
      "C:\\Windows\\Temp\\ipykernel_24540\\2656124746.py:2: FutureWarning: The frame.append method is deprecated and will be removed from pandas in a future version. Use pandas.concat instead.\n",
      "  type_freq = type_freq.append(pd.Series([type,\n",
      "C:\\Windows\\Temp\\ipykernel_24540\\2656124746.py:16: FutureWarning: The frame.append method is deprecated and will be removed from pandas in a future version. Use pandas.concat instead.\n",
      "  color_freq = color_freq.append(pd.Series([color,\n",
      "C:\\Windows\\Temp\\ipykernel_24540\\2656124746.py:16: FutureWarning: The frame.append method is deprecated and will be removed from pandas in a future version. Use pandas.concat instead.\n",
      "  color_freq = color_freq.append(pd.Series([color,\n",
      "C:\\Windows\\Temp\\ipykernel_24540\\2656124746.py:16: FutureWarning: The frame.append method is deprecated and will be removed from pandas in a future version. Use pandas.concat instead.\n",
      "  color_freq = color_freq.append(pd.Series([color,\n",
      "C:\\Windows\\Temp\\ipykernel_24540\\2656124746.py:16: FutureWarning: The frame.append method is deprecated and will be removed from pandas in a future version. Use pandas.concat instead.\n",
      "  color_freq = color_freq.append(pd.Series([color,\n",
      "C:\\Windows\\Temp\\ipykernel_24540\\2656124746.py:16: FutureWarning: The frame.append method is deprecated and will be removed from pandas in a future version. Use pandas.concat instead.\n",
      "  color_freq = color_freq.append(pd.Series([color,\n",
      "C:\\Windows\\Temp\\ipykernel_24540\\2656124746.py:16: FutureWarning: The frame.append method is deprecated and will be removed from pandas in a future version. Use pandas.concat instead.\n",
      "  color_freq = color_freq.append(pd.Series([color,\n",
      "C:\\Windows\\Temp\\ipykernel_24540\\2656124746.py:16: FutureWarning: The frame.append method is deprecated and will be removed from pandas in a future version. Use pandas.concat instead.\n",
      "  color_freq = color_freq.append(pd.Series([color,\n",
      "C:\\Windows\\Temp\\ipykernel_24540\\2656124746.py:16: FutureWarning: The frame.append method is deprecated and will be removed from pandas in a future version. Use pandas.concat instead.\n",
      "  color_freq = color_freq.append(pd.Series([color,\n",
      "C:\\Windows\\Temp\\ipykernel_24540\\2656124746.py:16: FutureWarning: The frame.append method is deprecated and will be removed from pandas in a future version. Use pandas.concat instead.\n",
      "  color_freq = color_freq.append(pd.Series([color,\n",
      "C:\\Windows\\Temp\\ipykernel_24540\\2656124746.py:16: FutureWarning: The frame.append method is deprecated and will be removed from pandas in a future version. Use pandas.concat instead.\n",
      "  color_freq = color_freq.append(pd.Series([color,\n"
     ]
    }
   ],
   "source": [
    "for type in type_temp.index:\n",
    "    type_freq = type_freq.append(pd.Series([type,\n",
    "                                            type_temp[f'{type}'],\n",
    "                                            stats[(stats['Generation']==1) & ((stats['Type1']==type) | (stats['Type2']==type))].count()[0], \n",
    "                                            stats[(stats['Generation']==2) & ((stats['Type1']==type) | (stats['Type2']==type))].count()[0],\n",
    "                                            stats[(stats['Generation']==3) & ((stats['Type1']==type) | (stats['Type2']==type))].count()[0],\n",
    "                                            stats[(stats['Generation']==4) & ((stats['Type1']==type) | (stats['Type2']==type))].count()[0],\n",
    "                                            stats[(stats['Generation']==5) & ((stats['Type1']==type) | (stats['Type2']==type))].count()[0],\n",
    "                                            stats[(stats['Generation']==6) & ((stats['Type1']==type) | (stats['Type2']==type))].count()[0],\n",
    "                                            stats[(stats['Generation']==7) & ((stats['Type1']==type) | (stats['Type2']==type))].count()[0],\n",
    "                                            stats[(stats['Generation']==8) & ((stats['Type1']==type) | (stats['Type2']==type))].count()[0],],\n",
    "                                            index=['type', 'freq', 'gen1', 'gen2', 'gen3', 'gen4', 'gen5', 'gen6', 'gen7', 'gen8']),\n",
    "                                            ignore_index=True)\n",
    "\n",
    "for color in color_temp.index:\n",
    "    color_freq = color_freq.append(pd.Series([color,\n",
    "                                            color_temp[f'{color}'],\n",
    "                                            stats[(stats['Generation']==1) & (stats['Color']==color)].count()[0], \n",
    "                                            stats[(stats['Generation']==2) & (stats['Color']==color)].count()[0],\n",
    "                                            stats[(stats['Generation']==3) & (stats['Color']==color)].count()[0],\n",
    "                                            stats[(stats['Generation']==4) & (stats['Color']==color)].count()[0],\n",
    "                                            stats[(stats['Generation']==5) & (stats['Color']==color)].count()[0],\n",
    "                                            stats[(stats['Generation']==6) & (stats['Color']==color)].count()[0],\n",
    "                                            stats[(stats['Generation']==7) & (stats['Color']==color)].count()[0],\n",
    "                                            stats[(stats['Generation']==8) & (stats['Color']==color)].count()[0],],\n",
    "                                            index=['color', 'freq', 'gen1', 'gen2', 'gen3', 'gen4', 'gen5', 'gen6', 'gen7', 'gen8']),\n",
    "                                            ignore_index=True)\n"
   ]
  },
  {
   "cell_type": "markdown",
   "metadata": {},
   "source": [
    "### OLD BAR CHART"
   ]
  },
  {
   "cell_type": "code",
   "execution_count": 16,
   "metadata": {},
   "outputs": [
    {
     "data": {
      "application/vnd.plotly.v1+json": {
       "config": {
        "plotlyServerURL": "https://plot.ly"
       },
       "data": [
        {
         "alignmentgroup": "True",
         "customdata": [
          [
           5,
           5,
           6,
           6,
           7,
           4,
           1,
           7
          ]
         ],
         "hovertemplate": "gen1=%{customdata[0]}<br>gen2=%{customdata[1]}<br>gen3=%{customdata[2]}<br>gen4=%{customdata[3]}<br>gen5=%{customdata[4]}<br>gen6=%{customdata[5]}<br>gen7=%{customdata[6]}<br>gen8=%{customdata[7]}<extra></extra>",
         "legendgroup": "Ice",
         "marker": {
          "color": "#19D3F3",
          "pattern": {
           "shape": ""
          }
         },
         "name": "Ice",
         "offsetgroup": "Ice",
         "orientation": "h",
         "showlegend": true,
         "text": [
          41
         ],
         "textposition": "auto",
         "type": "bar",
         "x": [
          41
         ],
         "xaxis": "x",
         "y": [
          "Ice"
         ],
         "yaxis": "y"
        },
        {
         "alignmentgroup": "True",
         "customdata": [
          [
           3,
           1,
           6,
           8,
           9,
           8,
           8,
           9
          ]
         ],
         "hovertemplate": "gen1=%{customdata[0]}<br>gen2=%{customdata[1]}<br>gen3=%{customdata[2]}<br>gen4=%{customdata[3]}<br>gen5=%{customdata[4]}<br>gen6=%{customdata[5]}<br>gen7=%{customdata[6]}<br>gen8=%{customdata[7]}<extra></extra>",
         "legendgroup": "Ghost",
         "marker": {
          "color": "#4C3B7A",
          "pattern": {
           "shape": ""
          }
         },
         "name": "Ghost",
         "offsetgroup": "Ghost",
         "orientation": "h",
         "showlegend": true,
         "text": [
          52
         ],
         "textposition": "auto",
         "type": "bar",
         "x": [
          52
         ],
         "xaxis": "x",
         "y": [
          "Ghost"
         ],
         "yaxis": "y"
        },
        {
         "alignmentgroup": "True",
         "customdata": [
          [
           2,
           4,
           9,
           10,
           11,
           5,
           8,
           5
          ]
         ],
         "hovertemplate": "gen1=%{customdata[0]}<br>gen2=%{customdata[1]}<br>gen3=%{customdata[2]}<br>gen4=%{customdata[3]}<br>gen5=%{customdata[4]}<br>gen6=%{customdata[5]}<br>gen7=%{customdata[6]}<br>gen8=%{customdata[7]}<extra></extra>",
         "legendgroup": "Steel",
         "marker": {
          "color": "#778AAE",
          "pattern": {
           "shape": ""
          }
         },
         "name": "Steel",
         "offsetgroup": "Steel",
         "orientation": "h",
         "showlegend": true,
         "text": [
          54
         ],
         "textposition": "auto",
         "type": "bar",
         "x": [
          54
         ],
         "xaxis": "x",
         "y": [
          "Steel"
         ],
         "yaxis": "y"
        },
        {
         "alignmentgroup": "True",
         "customdata": [
          [
           5,
           8,
           5,
           2,
           2,
           13,
           12,
           8
          ]
         ],
         "hovertemplate": "gen1=%{customdata[0]}<br>gen2=%{customdata[1]}<br>gen3=%{customdata[2]}<br>gen4=%{customdata[3]}<br>gen5=%{customdata[4]}<br>gen6=%{customdata[5]}<br>gen7=%{customdata[6]}<br>gen8=%{customdata[7]}<extra></extra>",
         "legendgroup": "Fairy",
         "marker": {
          "color": "#E49DCF",
          "pattern": {
           "shape": ""
          }
         },
         "name": "Fairy",
         "offsetgroup": "Fairy",
         "orientation": "h",
         "showlegend": true,
         "text": [
          55
         ],
         "textposition": "auto",
         "type": "bar",
         "x": [
          55
         ],
         "xaxis": "x",
         "y": [
          "Fairy"
         ],
         "yaxis": "y"
        },
        {
         "alignmentgroup": "True",
         "customdata": [
          [
           0,
           6,
           10,
           7,
           16,
           5,
           2,
           10
          ]
         ],
         "hovertemplate": "gen1=%{customdata[0]}<br>gen2=%{customdata[1]}<br>gen3=%{customdata[2]}<br>gen4=%{customdata[3]}<br>gen5=%{customdata[4]}<br>gen6=%{customdata[5]}<br>gen7=%{customdata[6]}<br>gen8=%{customdata[7]}<extra></extra>",
         "legendgroup": "Dark",
         "marker": {
          "color": "#222A2A",
          "pattern": {
           "shape": ""
          }
         },
         "name": "Dark",
         "offsetgroup": "Dark",
         "orientation": "h",
         "showlegend": true,
         "text": [
          56
         ],
         "textposition": "auto",
         "type": "bar",
         "x": [
          56
         ],
         "xaxis": "x",
         "y": [
          "Dark"
         ],
         "yaxis": "y"
        },
        {
         "alignmentgroup": "True",
         "customdata": [
          [
           3,
           1,
           9,
           6,
           10,
           9,
           7,
           11
          ]
         ],
         "hovertemplate": "gen1=%{customdata[0]}<br>gen2=%{customdata[1]}<br>gen3=%{customdata[2]}<br>gen4=%{customdata[3]}<br>gen5=%{customdata[4]}<br>gen6=%{customdata[5]}<br>gen7=%{customdata[6]}<br>gen8=%{customdata[7]}<extra></extra>",
         "legendgroup": "Dragon",
         "marker": {
          "color": "#1616A7",
          "pattern": {
           "shape": ""
          }
         },
         "name": "Dragon",
         "offsetgroup": "Dragon",
         "orientation": "h",
         "showlegend": true,
         "text": [
          56
         ],
         "textposition": "auto",
         "type": "bar",
         "x": [
          56
         ],
         "xaxis": "x",
         "y": [
          "Dragon"
         ],
         "yaxis": "y"
        },
        {
         "alignmentgroup": "True",
         "customdata": [
          [
           9,
           8,
           4,
           7,
           11,
           3,
           6,
           9
          ]
         ],
         "hovertemplate": "gen1=%{customdata[0]}<br>gen2=%{customdata[1]}<br>gen3=%{customdata[2]}<br>gen4=%{customdata[3]}<br>gen5=%{customdata[4]}<br>gen6=%{customdata[5]}<br>gen7=%{customdata[6]}<br>gen8=%{customdata[7]}<extra></extra>",
         "legendgroup": "Electric",
         "marker": {
          "color": "#EECA3B",
          "pattern": {
           "shape": ""
          }
         },
         "name": "Electric",
         "offsetgroup": "Electric",
         "orientation": "h",
         "showlegend": true,
         "text": [
          57
         ],
         "textposition": "auto",
         "type": "bar",
         "x": [
          57
         ],
         "xaxis": "x",
         "y": [
          "Electric"
         ],
         "yaxis": "y"
        },
        {
         "alignmentgroup": "True",
         "customdata": [
          [
           8,
           3,
           7,
           7,
           15,
           4,
           10,
           8
          ]
         ],
         "hovertemplate": "gen1=%{customdata[0]}<br>gen2=%{customdata[1]}<br>gen3=%{customdata[2]}<br>gen4=%{customdata[3]}<br>gen5=%{customdata[4]}<br>gen6=%{customdata[5]}<br>gen7=%{customdata[6]}<br>gen8=%{customdata[7]}<extra></extra>",
         "legendgroup": "Fighting",
         "marker": {
          "color": "#FF7818",
          "pattern": {
           "shape": ""
          }
         },
         "name": "Fighting",
         "offsetgroup": "Fighting",
         "orientation": "h",
         "showlegend": true,
         "text": [
          62
         ],
         "textposition": "auto",
         "type": "bar",
         "x": [
          62
         ],
         "xaxis": "x",
         "y": [
          "Fighting"
         ],
         "yaxis": "y"
        },
        {
         "alignmentgroup": "True",
         "customdata": [
          [
           11,
           7,
           12,
           7,
           10,
           8,
           5,
           6
          ]
         ],
         "hovertemplate": "gen1=%{customdata[0]}<br>gen2=%{customdata[1]}<br>gen3=%{customdata[2]}<br>gen4=%{customdata[3]}<br>gen5=%{customdata[4]}<br>gen6=%{customdata[5]}<br>gen7=%{customdata[6]}<br>gen8=%{customdata[7]}<extra></extra>",
         "legendgroup": "Rock",
         "marker": {
          "color": "#A38B5B",
          "pattern": {
           "shape": ""
          }
         },
         "name": "Rock",
         "offsetgroup": "Rock",
         "orientation": "h",
         "showlegend": true,
         "text": [
          66
         ],
         "textposition": "auto",
         "type": "bar",
         "x": [
          66
         ],
         "xaxis": "x",
         "y": [
          "Rock"
         ],
         "yaxis": "y"
        },
        {
         "alignmentgroup": "True",
         "customdata": [
          [
           14,
           10,
           13,
           10,
           11,
           2,
           4,
           4
          ]
         ],
         "hovertemplate": "gen1=%{customdata[0]}<br>gen2=%{customdata[1]}<br>gen3=%{customdata[2]}<br>gen4=%{customdata[3]}<br>gen5=%{customdata[4]}<br>gen6=%{customdata[5]}<br>gen7=%{customdata[6]}<br>gen8=%{customdata[7]}<extra></extra>",
         "legendgroup": "Ground",
         "marker": {
          "color": "#B68100",
          "pattern": {
           "shape": ""
          }
         },
         "name": "Ground",
         "offsetgroup": "Ground",
         "orientation": "h",
         "showlegend": true,
         "text": [
          68
         ],
         "textposition": "auto",
         "type": "bar",
         "x": [
          68
         ],
         "xaxis": "x",
         "y": [
          "Ground"
         ],
         "yaxis": "y"
        },
        {
         "alignmentgroup": "True",
         "customdata": [
          [
           12,
           10,
           6,
           5,
           15,
           7,
           9,
           7
          ]
         ],
         "hovertemplate": "gen1=%{customdata[0]}<br>gen2=%{customdata[1]}<br>gen3=%{customdata[2]}<br>gen4=%{customdata[3]}<br>gen5=%{customdata[4]}<br>gen6=%{customdata[5]}<br>gen7=%{customdata[6]}<br>gen8=%{customdata[7]}<extra></extra>",
         "legendgroup": "Fire",
         "marker": {
          "color": "#FD3216",
          "pattern": {
           "shape": ""
          }
         },
         "name": "Fire",
         "offsetgroup": "Fire",
         "orientation": "h",
         "showlegend": true,
         "text": [
          71
         ],
         "textposition": "auto",
         "type": "bar",
         "x": [
          71
         ],
         "xaxis": "x",
         "y": [
          "Fire"
         ],
         "yaxis": "y"
        },
        {
         "alignmentgroup": "True",
         "customdata": [
          [
           33,
           4,
           5,
           8,
           7,
           2,
           7,
           5
          ]
         ],
         "hovertemplate": "gen1=%{customdata[0]}<br>gen2=%{customdata[1]}<br>gen3=%{customdata[2]}<br>gen4=%{customdata[3]}<br>gen5=%{customdata[4]}<br>gen6=%{customdata[5]}<br>gen7=%{customdata[6]}<br>gen8=%{customdata[7]}<extra></extra>",
         "legendgroup": "Poison",
         "marker": {
          "color": "#9E38AD",
          "pattern": {
           "shape": ""
          }
         },
         "name": "Poison",
         "offsetgroup": "Poison",
         "orientation": "h",
         "showlegend": true,
         "text": [
          71
         ],
         "textposition": "auto",
         "type": "bar",
         "x": [
          71
         ],
         "xaxis": "x",
         "y": [
          "Poison"
         ],
         "yaxis": "y"
        },
        {
         "alignmentgroup": "True",
         "customdata": [
          [
           12,
           10,
           14,
           9,
           17,
           4,
           11,
           8
          ]
         ],
         "hovertemplate": "gen1=%{customdata[0]}<br>gen2=%{customdata[1]}<br>gen3=%{customdata[2]}<br>gen4=%{customdata[3]}<br>gen5=%{customdata[4]}<br>gen6=%{customdata[5]}<br>gen7=%{customdata[6]}<br>gen8=%{customdata[7]}<extra></extra>",
         "legendgroup": "Bug",
         "marker": {
          "color": "#90AD1C",
          "pattern": {
           "shape": ""
          }
         },
         "name": "Bug",
         "offsetgroup": "Bug",
         "orientation": "h",
         "showlegend": true,
         "text": [
          85
         ],
         "textposition": "auto",
         "type": "bar",
         "x": [
          85
         ],
         "xaxis": "x",
         "y": [
          "Bug"
         ],
         "yaxis": "y"
        },
        {
         "alignmentgroup": "True",
         "customdata": [
          [
           13,
           10,
           20,
           10,
           15,
           6,
           8,
           9
          ]
         ],
         "hovertemplate": "gen1=%{customdata[0]}<br>gen2=%{customdata[1]}<br>gen3=%{customdata[2]}<br>gen4=%{customdata[3]}<br>gen5=%{customdata[4]}<br>gen6=%{customdata[5]}<br>gen7=%{customdata[6]}<br>gen8=%{customdata[7]}<extra></extra>",
         "legendgroup": "Psychic",
         "marker": {
          "color": "#F261A7",
          "pattern": {
           "shape": ""
          }
         },
         "name": "Psychic",
         "offsetgroup": "Psychic",
         "orientation": "h",
         "showlegend": true,
         "text": [
          91
         ],
         "textposition": "auto",
         "type": "bar",
         "x": [
          91
         ],
         "xaxis": "x",
         "y": [
          "Psychic"
         ],
         "yaxis": "y"
        },
        {
         "alignmentgroup": "True",
         "customdata": [
          [
           19,
           19,
           12,
           14,
           18,
           8,
           8,
           5
          ]
         ],
         "hovertemplate": "gen1=%{customdata[0]}<br>gen2=%{customdata[1]}<br>gen3=%{customdata[2]}<br>gen4=%{customdata[3]}<br>gen5=%{customdata[4]}<br>gen6=%{customdata[5]}<br>gen7=%{customdata[6]}<br>gen8=%{customdata[7]}<extra></extra>",
         "legendgroup": "Flying",
         "marker": {
          "color": "#72B7B2",
          "pattern": {
           "shape": ""
          }
         },
         "name": "Flying",
         "offsetgroup": "Flying",
         "orientation": "h",
         "showlegend": true,
         "text": [
          103
         ],
         "textposition": "auto",
         "type": "bar",
         "x": [
          103
         ],
         "xaxis": "x",
         "y": [
          "Flying"
         ],
         "yaxis": "y"
        },
        {
         "alignmentgroup": "True",
         "customdata": [
          [
           14,
           9,
           18,
           14,
           20,
           9,
           13,
           10
          ]
         ],
         "hovertemplate": "gen1=%{customdata[0]}<br>gen2=%{customdata[1]}<br>gen3=%{customdata[2]}<br>gen4=%{customdata[3]}<br>gen5=%{customdata[4]}<br>gen6=%{customdata[5]}<br>gen7=%{customdata[6]}<br>gen8=%{customdata[7]}<extra></extra>",
         "legendgroup": "Grass",
         "marker": {
          "color": "#2CA02C",
          "pattern": {
           "shape": ""
          }
         },
         "name": "Grass",
         "offsetgroup": "Grass",
         "orientation": "h",
         "showlegend": true,
         "text": [
          107
         ],
         "textposition": "auto",
         "type": "bar",
         "x": [
          107
         ],
         "xaxis": "x",
         "y": [
          "Grass"
         ],
         "yaxis": "y"
        },
        {
         "alignmentgroup": "True",
         "customdata": [
          [
           22,
           15,
           18,
           16,
           18,
           8,
           12,
           8
          ]
         ],
         "hovertemplate": "gen1=%{customdata[0]}<br>gen2=%{customdata[1]}<br>gen3=%{customdata[2]}<br>gen4=%{customdata[3]}<br>gen5=%{customdata[4]}<br>gen6=%{customdata[5]}<br>gen7=%{customdata[6]}<br>gen8=%{customdata[7]}<extra></extra>",
         "legendgroup": "Normal",
         "marker": {
          "color": "#BAB0AC",
          "pattern": {
           "shape": ""
          }
         },
         "name": "Normal",
         "offsetgroup": "Normal",
         "orientation": "h",
         "showlegend": true,
         "text": [
          117
         ],
         "textposition": "auto",
         "type": "bar",
         "x": [
          117
         ],
         "xaxis": "x",
         "y": [
          "Normal"
         ],
         "yaxis": "y"
        },
        {
         "alignmentgroup": "True",
         "customdata": [
          [
           32,
           18,
           28,
           14,
           17,
           8,
           14,
           11
          ]
         ],
         "hovertemplate": "gen1=%{customdata[0]}<br>gen2=%{customdata[1]}<br>gen3=%{customdata[2]}<br>gen4=%{customdata[3]}<br>gen5=%{customdata[4]}<br>gen6=%{customdata[5]}<br>gen7=%{customdata[6]}<br>gen8=%{customdata[7]}<extra></extra>",
         "legendgroup": "Water",
         "marker": {
          "color": "#0071FF",
          "pattern": {
           "shape": ""
          }
         },
         "name": "Water",
         "offsetgroup": "Water",
         "orientation": "h",
         "showlegend": true,
         "text": [
          142
         ],
         "textposition": "auto",
         "type": "bar",
         "x": [
          142
         ],
         "xaxis": "x",
         "y": [
          "Water"
         ],
         "yaxis": "y"
        }
       ],
       "layout": {
        "barmode": "relative",
        "height": 700,
        "images": [
         {
          "sizex": 0.06,
          "sizey": 0.06,
          "source": "data:image/png;base64,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",
          "x": 0,
          "xanchor": "right",
          "xref": "x domain",
          "y": 0.985,
          "yanchor": "top",
          "yref": "y domain"
         },
         {
          "sizex": 0.06,
          "sizey": 0.06,
          "source": "data:image/png;base64,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",
          "x": 0,
          "xanchor": "right",
          "xref": "x domain",
          "y": 0.9295,
          "yanchor": "top",
          "yref": "y domain"
         },
         {
          "sizex": 0.06,
          "sizey": 0.06,
          "source": "data:image/png;base64,iVBORw0KGgoAAAANSUhEUgAAALQAAAArCAYAAADR/aKkAAAQ5ElEQVR4nO2ceXAcV53Hv7/3Xk/PofuwZdmSLcuOj0ASJ2FjkyKOA1lY2EAFAgksR6VYQmVdS22WvU/YWpYKxbJbRRHCsmwWkq2QkyQVs7nsxItNHOeyc/mILduSJVuaSNaMZnp6uvu93/7RLWlkK7EVRofNfKpGo+p5/bp75tu/93u/3+81UKFChQoVKlSoUKFChalA09Hpxge2JwC5GqCFANR0HGMymBlS2dj/9KMDv/rhNwatRBUJIUA0LZdZ4TfDBzAIYHhoaMiUq9Oyim3jA78mAJ0Afxrg6wC6uJz9T4GnAWxDeH0cvSrMHQhAAcBBANsaGhp6yyXqMltPbgfwzwA+g2my/mcCAT4YOjoHg4qg5yIWgPMR/j6PAciUo1NRjk4AYOMDz9UC8rOAuA4QNGt6ZgOGYRKChRBlG8oqlB0GoAEsA1Bbrk7LaaEXAXQ9QHJ8E6NU2Mz8G5tKAt7WJyYicGSQicgQUdlu2ArTAgOIA5Cna3imlFPQDQBWT9x0qvDaamKw1RQNuBl/68l4CAy/w0SPTvmnwpynbC5hOQUtAcTe7kNmxryUhWvPr0NtXMIwQxCd2ZVEjbRh3LlrCH0jPpiBSvCiwsnMSEht1PFY3mijrTaGvWkXz/Y46GyI4SPLakJhirdXp2aDjKvR9ZYPX0fqnmNiZmZi5vHhIXR3qORzXdr+nfx7Y8wEV4mImIgmvfcnOW5Z2p6tzEyMmEP/duW8OJQkPNeTx960iyHHx6ULE2hKWGO//KifbRgYzAfYk3axb9DFsREfrmdQ8EMdzDE9TxALEbGUUsgwCA5jDGut2RjDzIxRETGfqqVRV6q0r3dqO5lIJ2tf4qIREUEIQQAMM4OZ+VyJ1c9Q0oNRG5doqbZgScLyRht9uQCL62OojYWnYJgRGCDjauxNu3j1uIPerA83MPA1wzAgadyQ6zlmVyJxsWVZor29TX14w4ZF569auVAppbp7jqbfOLAnu+XpbceDQHNtbbUkEjy560hgY4iZ4TiO9oOgWFdXG6dJFUfMzCKTyWrXdXV9XZ1l27HIFzu5b0KxWDS5XJ4vueSS2lWrVtalBwb8559/fuDY8f5CRdBTgAEsb4yjKiZBRFjfWY117VWQBFiSYJhxeMjDUwdz6B72UAgM/MCAASgRtqlPKiytt9HREMOhQRc7ehyYOSTqyMqJG274dOvNN39lQ8fC1lZJRKFJBlxT9H5+zyPPBX7g3njj9VfpaKQ5RXYECCNAzNiy5emXdr32+rGb/+grV8disXB+cpLupLDw0zvu2nLXPQ92/fgH3/vY4o62BYbNKe2EEHjzQFfPJz/1xYe+/KXPX/TRj/3upYcOdvV+69bvPvXQw5sc27bPCUVPu6Cj3xMrmuNIWgLEQEwQYrFoaCUg7xrs7MnjtWNOeFISqIoL1MUlljXaOH9eEu11McRkuE9DXOGF3gK8uWOmyfcD/aEPbWj66le/fFVn59LFnpcv9PUe788OZ3ON8xvrU3YymVRkhkYcU8i6Ra0NGIxYLGalUsmkUILyecdxvWJRQQKG4WmOGyirKp5KWpalCoVCwS0WPSPGr1tKjaLnaWVZlEwm4qlEMuEW3GKh4LrMhnXUVgiBolv0hBBQllK2UrYVsyylFE3izZy1zIiFrktILKi2IEsnfjT+ZklCTRT5IADLmxJY31mNJbUxKEHIeQaOZ2DFJZQktNZYaE4p9Gb9mTj9M6JYLJprrvnoovb2tibP8/zbb/+vp2677cevO05BJ+IJ+fsf+WBLvlAwmx7bfOzW733/FQDkOAX953+yceXGjTd9uLahvuZnd969+e//8Vsvp1JJw8wWQOIPPvfZTgr7d++67/7N3/zmt18RYlzRzCDHcXjt2nVN4RbCjhdf3PVnf/F323p7+4pSyrHJp+/53NjUnJjp72YmmT5BR7e9YWBFUxx1cTlxFOToDwFxS6C1xhoLw3XU21g1LwEYxst9DrYeGoGnGR/srMGa1iQsSVjWaKM365+Uupk9giDgRYsWzkumkqndu149+sQTT/cMDAx6lqVEsej5/3PvL7oQpnu153kagO04jgkCbRAOVNBaG8dxNBGpyB+fEAnRWrPjFEypSJmZgiCY8CUYY9h1XeM4BS2lHJvwBUFwDtniyZmeTFoUJGYiCCJ0NsSRsiUm1AmFKT8ABCJCjS3RkFQIDJDO+8i7Gvmiwf8dzmH/W0X0ZHxs2pdBwTewJGH1vAQkAfQ2U6uZhgSR6zgea20aGmoT7e0Lq5mNCYLAJyKDUMxgZk1EgogYRBzNck+5J6NoBYM4Ei+DDHOgtQ6CAKMvY8Y1zwxEuVgLQKC19oJAa98PdBAEvxVlANPqcjCA5pSFBTUWlEBorkt/v5KZdbUdRkH6cwHecjSGCxp1SQk7Cm0YEGSUyZY07nb0j/jg2bfRbMds+ez2Xx9de9lFgx0dbc03feVL6zqWLE48s3V777PP7uwHYFuWEgBsACyEMILIkBTEgkR0g/PoZwAghBCCjAYAAoma6lR85fJlSU8bFTYXGB4e9tPpgSIB0MbAwEApWbu0Y0kqbsdh2CgA5Hme7u4+6szO1zNzTKugDQOdjTYakqrEjE4iPhEKuikZnk5/zkfaCdDWaOP97VWwZOhfX9yaRFyFoo4rgfPnJ9A/Mjf8aNuOiXsffPjoks7FL95w/Sfff9na31m2csV5S666av2RXbtf2fPIQ5t6frV9R9qyrLF9eArekrIs9f5161a3L2pviQJAICnoqSc377v1u//2RmnbJUsWN3396398deD7ARMzETAwkB6+6aZbNpftguco0yZoBiAFob0uhir7JM8mcjeYgRNOgP6cj96sj56MBymArKuRzvkIAoMLFyTQXmeDwWhISlCkAVsRVjTF8UzXCIyZ/Ty4EILS6aHird/5992DgyfyGzZcccHyZZ2L1q19X+eai967dO2aiw/c/fP7dv7ojju7pJxyLQ5LIWRrS0vLvOamRjLhBIWUor7u7vTJvvG8+U219fV11Qxmw75DRNzXdzzBk2VnzjGmT9DMaEoqLKhWUJLCyiJBcD2D/pyPYyOhiAfyPtK5AGkngBv5xwzg2IiPEVejPqHQkIxuCB77A0GE5iqF+VUWerPedF3GVGDLUjhxIlv8xjdvfeXxJ7b0Xbn+Ay3r1r1v2ZVXXL5yzaUXLq9rqEnsO3SosG3bjl5MwTprY0h7nrfjhRd2b9267ZAISwohpaDnX9w1aNslFsMABw8e7nriic17c7m85we+QwQMDZ1whRDnfPXh9AiaCMYwOupiaKmykC1oHB320Jv10DPsY9AJMFgIMOxqEIC22hguW5RCXVxi/6CL/ekijo34OFHQqE+qqESfx/oeJWkJrGiO42jWm1UvOsyphClnKSVqaqrlrl2vpnfufGlg9eoV3bd87ebM9Tdc+4HWttbWL33xhgu3bdvRw8xnZKbDMgCG1lq/9sae3m99+1/fkFKOTf8sZQnLssaFyoy+3uMD3//Bj1/tPtLtKmUxEMahIx/+nGbaLDQByHkG/7svg/6cj4yrkXU1HN/AVoSljTYuX1yFttoYGpMKNXGJeFRWujftom/ERzrvY2mDXdLpRNnGlcCiWgvgMO41W6KerMDHsiyhlOKuriPZ227/ycvrr7z8goULFzSsueiCBe/2OFJKkUolZWnYzhhDE12OsE4jmUjIVColo7AdA0AQBO/20GcN0yZoQcChE0UcGHLhBYzGpMIFLQl0NNhorYmhNi6QikkkLBEqMQoot1RbqIsrZFyN3qwPxzdIqolSZQICzXi9v4CtXSOz7T6XMuFMwiIg4MRwpuA4BZ+IYMftGVs0/NvI9FloIhSj6fji+hiuWVmHtroYEkrAkgREVXXMEwPJzUmFlupI0BkPWVcjWR1GBkabjbgaz3TlsONoHhk3AMamirMDM5Nh1hde8J4Gxyn4hw8fGYmq2BCLxcSqlec1LZy3oIZ9Nv0D/YPGGBm6DaeHACgpT3t94SRcICrwm+wcQUQkJEhJGEgJwYjbMdsC2At3D33s0Qo8ZpZnW9HStFoLolC4x0d8PHkgi4+uqEVHvT1W2nhKiSMIzSmFBVUW9qWL6DrhYagQYH6NBQJBG0b3sIdNezM4dKIINzDj+ZlZJp/L67+85Wtr5s+f13b/Q4+8vPnprQdHRnLetZ/42Huu+9TH1ySTybiTd5wnfrnlAMbHpDMiWnZGdsyWzU1NMSHFhEzh8PCwRhToISIopWR9fZ3lFlwj1bh7UiwWQQgThwTAiinznlUrGv/wC19YIaUgWJRksNy370D6pZdf6fO8OTHZnhLTPvwREXzNODhYxM9eGsT6jmqsbU8hZdGky6gSMYEFNRaSMYGCb3D4hIel9TaIgBf7HDx5IIu38gG0iXyUOSBmIJy4WTFLvffC97avXrVi4d/+1Z8GDGYphaWUsopF1925c+fu2//zp3smXjeVvk1WIgoAiNt2/POfue7q66/9xAZdUpykpMJ/33HXlnt/senwaNt1l1665rGH7zufmTFenER4882uozd87sZHjDHGBIFpmTe/8cs3fvFDbAyDAA0tDAyeeWb7/r/+m396tH8gPTeC/FNgRvw5orBEdNjV+OX+DLqHi/i95TVorragBE2oxyAAC2tjmF+lcHjIw4FBF50NNnYfL2Dn0Twc34D4ndYUzg6JuC02Pf7Uwcb582s62ha2KiVsEMj3fa9/ID304AOPvPDD/7jj9UxmvKJKEMFxHD+TzWaFECafz3ul63qZGU7BCTKZbGa0fJSJo5t5tBFgtDGe55lMNpvLZDLZ0rraIDLmQghorXXeKejXXt8z0NbauteQMZiwpJlSbFgePtI9VPS8szJVXjZVbHzguSsRPuDltAgCWqosfPi8GqxsjiNlicifDodNJzB48LVh7DiSQ9wSiCuBvG/gGz55IfkpF0FC4s1nHn18+4/+ZXssWVW21cSngZiZlVLCsizqWNKeXHHe8ho7bssjR7rze/buz+bzjg6CYCy3MVoqbVlK2LYthBAoFFzj+74pXV0ipaREIi5KZwmlvgoR4LpFEwQBJ+JxIaU8tQYM4XcUaM2FQsFYSpGyLDrZ6xldROD7gfF9n2doJYsE8JOhoaHD5ehsVmbchoHerIe7dw/hio5qXL44hYa4GvOFk7ZEc0rBVgQvMChqHtfx3DLMozARQWttgiDAnr37c3v27s+d3AaY+AgGIkIQaBMEjindVrqP1ppzufwZWUunUNCnbwX4QcD+GYTw5tooeCbMWgiJiFDwDTYfzKIv6+GDndVYXGdDCuDoUJiEORsTtZEIzsIzPzcop6A1wgfwWadrOAoRIdCMV48XMJALcEVHFRKWwLbDORwaKkYW+eyzEhVmj7IJmplPAHiDiC6cyn7R4lIcz/l4+I0MpCDkPQ1BAJcOz+U60QpzkbL9vGXL7TNzN4D7EFrqKUHRQgBPGxR8DSnCkF5Y/l8R8zkMASjiXWjm7ShnsUoWwD3MfD/GHt41NYgmj01PDT7lnwpzhyjKM2qnJMJH6mbL1X9ZJ4Vbt249uH79+n8A+CDAH0f4uNRoljQDtpYZBAlAWMYYyxijoqcDTe9xK5wxo88vYWaPiPYD2E5EI+Xqv9xRDgawHwi+A9DDAFrGjyFnxGQSEYhpgJkHo7LOGThqhakQCVoz81vGmOFozWVZmK6wXQbAztINBD0DvjBDQEIgiF51mPCAuQpzgtJ1BiZyM623WcXj67K51xUqVKhQoUKFCuXi/wFw4N2Rm+OFbAAAAABJRU5ErkJggg==",
          "x": 0,
          "xanchor": "right",
          "xref": "x domain",
          "y": 0.874,
          "yanchor": "top",
          "yref": "y domain"
         },
         {
          "sizex": 0.06,
          "sizey": 0.06,
          "source": "data:image/png;base64,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",
          "x": 0,
          "xanchor": "right",
          "xref": "x domain",
          "y": 0.8185,
          "yanchor": "top",
          "yref": "y domain"
         },
         {
          "sizex": 0.06,
          "sizey": 0.06,
          "source": "data:image/png;base64,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",
          "x": 0,
          "xanchor": "right",
          "xref": "x domain",
          "y": 0.763,
          "yanchor": "top",
          "yref": "y domain"
         },
         {
          "sizex": 0.06,
          "sizey": 0.06,
          "source": "data:image/png;base64,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",
          "x": 0,
          "xanchor": "right",
          "xref": "x domain",
          "y": 0.7075,
          "yanchor": "top",
          "yref": "y domain"
         },
         {
          "sizex": 0.06,
          "sizey": 0.06,
          "source": "data:image/png;base64,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",
          "x": 0,
          "xanchor": "right",
          "xref": "x domain",
          "y": 0.6519999999999999,
          "yanchor": "top",
          "yref": "y domain"
         },
         {
          "sizex": 0.06,
          "sizey": 0.06,
          "source": "data:image/png;base64,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",
          "x": 0,
          "xanchor": "right",
          "xref": "x domain",
          "y": 0.5965,
          "yanchor": "top",
          "yref": "y domain"
         },
         {
          "sizex": 0.06,
          "sizey": 0.06,
          "source": "data:image/png;base64,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",
          "x": 0,
          "xanchor": "right",
          "xref": "x domain",
          "y": 0.5409999999999999,
          "yanchor": "top",
          "yref": "y domain"
         },
         {
          "sizex": 0.06,
          "sizey": 0.06,
          "source": "data:image/png;base64,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",
          "x": 0,
          "xanchor": "right",
          "xref": "x domain",
          "y": 0.4855,
          "yanchor": "top",
          "yref": "y domain"
         },
         {
          "sizex": 0.06,
          "sizey": 0.06,
          "source": "data:image/png;base64,iVBORw0KGgoAAAANSUhEUgAAALQAAAArCAYAAADR/aKkAAAOhElEQVR4nO2de2wcx33Hv7+Z3b09Hh8iqQdlibIoSipjyVZlybViWw8rrt0KrZLYsty0SGw1SFG0SIHGRdOgbtDWQRugqIs2adHCSGBXSB2lcRI4bWRLgeTYelR+qNaL1IOkHqZIieLryLvbvd2d+fWP3TuSEiXT0pHUsfcBlgT3bmf28Z3fzO83v1kCJUqUKFGiRIkSEw5NRKFdX9wIrTWYNYhyVXC0TUiVYQ0MmAbj+2d78ccHP0SFKSCEGHEOJW5H+vr6ClaWUbCSEAo5Ig7wXQDmFbqOcdINoBcT2XpK3Co+wmc0UFNTowsl6kKLjQA0AngSoC0A31vg8sfLXgD7EF5frmsocftAABwAbQif00UAuhAFF0zQF7etA4AFAL4BYCsRiMcro7G+eGvDBB+AQnjjNEqCvh0xASxD+HxeB5AsRKGFtNBVWqvPAdiCUV39jbXEzIDWAOvwMCEAItDVh41X30wAExMRCyEK0upLTAiM0OgsBlCF21DQ85n1UwBkbse1Rnb0DmaGsG3E7lkJc8kS6IEB+Ofa4be1QafTICk/lh9JxGAWAAuQIE1E4pauqMREwwBsjNDMrVJIQdcQ0V0f9yAOAqjBJOzaWbDXPAjVcwX+qZPI7N2DoLMjFPXNwCWHsIgo2JCwkIKWAKyPcwARgYMA3slmiLIymA2NMOrmQdTOAkggvfO/oPp6QYJQCliUGA9T3iUTEaA1VG8fVG8fwAwyLMTuvQ9G/Z2Rw0goZr+Oma/ZrvqctNZivNuNyrqV85gOTEWMeDS5mypEuCEMj1BFJUR1NSDlBE/HTB45AeUmepg57KWYiZnHdYlExCOFeL1Jo6vFOrLOjzq2mJkyQXP+B0CWBXP+Ahhz6oYFThRtGDusVyREoqVYzBIzqqoMUCQjyvU6xMwsmJnS6XSQSqWVHYuJiooKQwjCQHIwyLqujtm2mFFVaRARiMIYEDNzoBQ7jqsdx1Faa84VP3vWTEsaBg33bAQw5//Kulk1ODQUKKV4Ogl7ygQd2QuACNaiJYg//EgUNQ73seeB02kgUKGVzlu3qTrjm8eyLPH0Fz6/9GvPfnmTIaVkArQYbqSCCUQGfvb67ve/9txfHfzi57cu+t1tT6+Px+P2C//4rTde2r6jddu2p5d+5Q9/7zESRISwoWvWujfZ1/fWWwdbX97+yokPPjjWq7XmWMwSr+/80Rdqa6urmYd7NwJBMgFC4sjR4+1f+epzu0+cODFgGEYR3tWxmUJBMyAIRv0ClH36s5CzZ4+yzqqzA6q3J/xTCEBKIAgiizdVZ33TcLzMZDthx4UgkXFcN+t62dyHoaADZLPZQLNmsyxu2wm7zI7HbGEaHojYsizDsmNxrTWn05m0UkoRgWpm1Mz6rc9tuWPRooXzn//G3/30wMF3BmIxkvGyuB2Px+NexvNT6XQ6sh0whASkgJvNekrr4u36rsPUCDoyG8Yd85F4fCvMhY3DEylRQMM7fRLqSjfkzFkw5i8AVACv9TTgeVNyygWAiYBMxnFf2v7Km3/zty+8ZxiSAOTH0EEQsOO4Ohw2RKOK8FAAABFRT29vz5/++V/8ePfuX1yZNavW+qMv//7KJ7d85oFVq1c2PvbYpxYfOXr8KIceH1gzt55pbd3y28+8lkqnFUAgggYISin2fZ+llMVnHm7ApEc5mENTYcy5A4nNT8Bc0hRZ3GHrrJNJ+GfbYdTNReUzX0LlM18CxcvCGUUUc7wDxGAopdhxHOU4bn7LZBzt+8F4punZ8zztulnd0dHpvvAP/3z4TGtbe8yOixUrli9taLizQuctL4NZs+O6OpNxdFSndhxHZ7NZzjml04lJtNCcf1RiRjXimzbDXLY8vKEjnT4iBJc6gcBH2acehbW0CUHXRQQfngN8P4pJFyHDl8ismYMgGLGD847eRxbDAHPOryR0dnalPM/PEAFl8bgdt205HMkgMAmtIgAwETERkRBieGhd1DZiNJM75CBAxGKIb9iI2L2rQmvc3wfVPwBzYcPw95SCrKmGmFENABCJMsiqKnBPdxg/LcYgnmYGwASiRFmZvbChocKIunsiwtBQKhgY6PeDQKkbFcPM5LgK6XRaCSHw1NbHG+vqZtcDhM6uS1cuX+52cmJlArSUQUNDQ5njOCqsC+Q4jtfd3eMopSRNMxM9yWNohrXsbsQfWAuSEjqZhLN7F2AaMBsW5cwPZN1cUPsZsJMGmCEqZyD20AYEVy4DySQmeqHAhBB1RLGYZW1Y/1DT0sVLa3OhOzJNOnTovQsvvvidlq6urusKmpkRt+3YE5t/vWH1PZ+oLC8vtzc+sn5ZQ8PCuQP9fe7hw0daO7suZWIxS0RVYvbs2XOef/7rvxoOQxhCKJw/33Hp299+8f3W1nZXiCmfWysokyZoZkBUVCK+biMokQAHPrKH34N7YB9iq1eHoTqtQWDI6hpYy1aApAQHAciQsFeugu7thrNrJ9jNYnQ6XhGIOwq8Synlgvp5s+rr5lYhOnElpRhKDjqJePy0vkHMnZm5qqqy4neeemKdCgJfGoZhxEy742Jnz6439hz+2c5drUppBZAEQidy5szaueXlibKwBA0hAsTj8Vh5eaKVmZ2JvuzJZpIEHT4kq3EpjLnzQRBQfVfgvLUHysnAv9wNPTQEkSjPW2mzYRHY96PDGWQYiK99GLq/H86B/WClRoTvisBiCwIRIZv1vH37/+fYwQOHTovIIVDMdPLUmYH+/n7XkJLHSJ4FEArUdV3n1JkzbbYViy1pXHQnCUnvv/vBqb/8628eGhoa8izLzC1qADPj8qWuS9u3f3+v5/sqtNBMHR2d2QsXOlJSyullnjGpQw6CubQJZFpgP4DXfALBlStgAlT3JWSPHUH8wXXgQIGIAaWGM+04dChFWTniDz8Kr60NqqszKrc4/Jlc4wtUEBw73tz5/Df/vtk0jLygDNMkyzRJCMGgsa+KQBhKpVL/9t2XD13uupx57qt/suH+B9bcvbixYcZdy5qqDh44lBwxGQhm5r7enoF/+ta/tA4OpvJeqJQSlmUKIYRg5mk1UzipLdSYUweYJlgFyB77IIpHE/TQINyD++CfbQdJMZyPlCM3DQ5A1s6EvXIVIAqWQjvpSEOK8kRCJhIJkdtilvXR/hkBWmse6B/I7vr53kt79v6iJdnbO9jU1LT407+xqd40LR6dw0EgEhSPx0UiUZbfbDsmorHztBIzMNlxaMMMk3FcB8HFDwHkk3Pgn21DeudrCC5eCGcGr4cQsJY2AcUavrtlCEIQWZZFP/zJa2ebW06ejdl2bOOGtZ/45Cfvqw6CoDi6rAlikgQdevPsOGClwOl0mKsRRrJABLAK4J04itRPXkVw4WxogUemQY/IVBMVlcWZ1FEglNaQQhgtp85k3nx7//krVy5nljYtXvyZzZuaamtrTGbWYcYHg5RWWvP10lCn3U2cRAvNUN2XwL4PNZjMO3+5RdlEBFYKXvMxpH70A/htp/PrC0eXAnDWK5ah88QQ3joyDVP8x45XT7W1tZ81DMPY9GuPrH7wgftnKqVy066QQojammpzZm2tld9m1lqVFRWmEIKmW070pDqF/rk22PetgbBiGCsqQVHozjvdAuw0UP7ZrTDm12OUerVGcKmrCFNKCeEVfvSoNeyYQseBRuwBRrdvKQW1t5/rf3vfgdONjQ0L582fV/3YoxvvPnqseQAASBAtXrJkyZu7//sPckbDiBK9jhw53v7sn339583NpWy7m8Y71QLV0w0xowYwDVD2OqJmRvbYEVi/dBfknDqQkMgnnPo+vJbjgFYoFjPNzEhn0n4ymUw6juul0pkbZlil0hkvmRwc9DzPSqczvtaaM5m0l0wODiaTg6ls1lM5YVuWKV7691da1tx/X8M99yxftHLlivo7F8yPDwwkB6WUBueG1Bw1DxGa90ApNd2sM1DA4O3Fbes2IHzByxhEYQsSiK1chcRvPo6hH3wPfsuJfObdcCyZAQ6HH/GH1iGx+XHIquowOV1r+KdPYvC7/wqdSY9ZjySBHWf73nj23Qv7K62bXWFbcMgwJNm2LZiBbDarfd/XY9lqZoZpmiIWiwkiwHVdHQSKDcMg27aF1opdN6ujxHyKwm5k27YwTYO01nAcV8VtWwohrmnyuRqDIGA3m9XRooAJvwE3QAL4Tl9f37lCFDa5U9/MyB75X8g5c2H/8koEF85Bp1LXtCoGACKI8gqQZeYT/4OOC0j99FVoJ5MP+RUJHASKU6l0/j0h1xMRESEIAh0Ewah3igRBwKlU6urjc2Jk13WV6w5/P53JBBgHpbDddeExtjFQCs6eXVB9fbAaF0OUleX9Q46sMAgwFzbAWn43REUltOPAO3MKqR/vQPDh+eg70+tBlCgMBbTQpBC+gssc3nf1DEmUru55yOzeCbOhEZRIAE4GBALFYhDVNTDm1cP+lTWQtTPhnT4Fv6UZ7jsHoHq6i8wwl5hsCiZoZvQDaCaiFdGeEZ+OSLllgDlMKPPOnBoxC0iAYUFW10LOmo3gwnlk33sX/vl2qO7Leas83brIEgAK6MsVUNB8gYj+E8ByjPlqJ8r/uubsGWAwODWE7PGj0bQ4QqHn3nU3zdIcSwAIpZBF+I67glBIlQwC2MHMP0S00io/LmYGjzWmzr2mgIYjtCQlyDBBpgkyDJAQo5dojRcqkpje/zOiUGEusC4RvlJ3sFDlF8xC17/8Nr7XgLb169c9x8zNRPQkkViGXFBOa4RrTa7Xu9y6/hgEEgyQNllrU2syoiVHt1x2icIQzTMwM3tEdBrAfiIaKlT5BQ3brVu3lgG0QusXSBqvE4m6XB2M3FT31Yx3Sds4RUkMEHczozcK0Y7z7EtMFpGgFTP3aK0HTNMs2GuPCyro+pffBgB0PL02BeCd0Z/m0wvGoECiu0G0sMTtQ242mIggpSzo/1gpUaJEiRIlSpSYBP4PfYslMXTQyjwAAAAASUVORK5CYII=",
          "x": 0,
          "xanchor": "right",
          "xref": "x domain",
          "y": 0.42999999999999994,
          "yanchor": "top",
          "yref": "y domain"
         },
         {
          "sizex": 0.06,
          "sizey": 0.06,
          "source": "data:image/png;base64,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",
          "x": 0,
          "xanchor": "right",
          "xref": "x domain",
          "y": 0.37449999999999994,
          "yanchor": "top",
          "yref": "y domain"
         },
         {
          "sizex": 0.06,
          "sizey": 0.06,
          "source": "data:image/png;base64,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",
          "x": 0,
          "xanchor": "right",
          "xref": "x domain",
          "y": 0.31899999999999995,
          "yanchor": "top",
          "yref": "y domain"
         },
         {
          "sizex": 0.06,
          "sizey": 0.06,
          "source": "data:image/png;base64,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",
          "x": 0,
          "xanchor": "right",
          "xref": "x domain",
          "y": 0.26349999999999996,
          "yanchor": "top",
          "yref": "y domain"
         },
         {
          "sizex": 0.06,
          "sizey": 0.06,
          "source": "data:image/png;base64,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",
          "x": 0,
          "xanchor": "right",
          "xref": "x domain",
          "y": 0.20799999999999996,
          "yanchor": "top",
          "yref": "y domain"
         },
         {
          "sizex": 0.06,
          "sizey": 0.06,
          "source": "data:image/png;base64,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",
          "x": 0,
          "xanchor": "right",
          "xref": "x domain",
          "y": 0.15249999999999997,
          "yanchor": "top",
          "yref": "y domain"
         },
         {
          "sizex": 0.06,
          "sizey": 0.06,
          "source": "data:image/png;base64,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",
          "x": 0,
          "xanchor": "right",
          "xref": "x domain",
          "y": 0.09699999999999998,
          "yanchor": "top",
          "yref": "y domain"
         },
         {
          "sizex": 0.06,
          "sizey": 0.06,
          "source": "data:image/png;base64,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",
          "x": 0,
          "xanchor": "right",
          "xref": "x domain",
          "y": 0.04149999999999998,
          "yanchor": "top",
          "yref": "y domain"
         }
        ],
        "legend": {
         "title": {
          "text": "type"
         },
         "tracegroupgap": 0
        },
        "margin": {
         "t": 60
        },
        "showlegend": false,
        "template": {
         "data": {
          "bar": [
           {
            "error_x": {
             "color": "#2a3f5f"
            },
            "error_y": {
             "color": "#2a3f5f"
            },
            "marker": {
             "line": {
              "color": "#E5ECF6",
              "width": 0.5
             },
             "pattern": {
              "fillmode": "overlay",
              "size": 10,
              "solidity": 0.2
             }
            },
            "type": "bar"
           }
          ],
          "barpolar": [
           {
            "marker": {
             "line": {
              "color": "#E5ECF6",
              "width": 0.5
             },
             "pattern": {
              "fillmode": "overlay",
              "size": 10,
              "solidity": 0.2
             }
            },
            "type": "barpolar"
           }
          ],
          "carpet": [
           {
            "aaxis": {
             "endlinecolor": "#2a3f5f",
             "gridcolor": "white",
             "linecolor": "white",
             "minorgridcolor": "white",
             "startlinecolor": "#2a3f5f"
            },
            "baxis": {
             "endlinecolor": "#2a3f5f",
             "gridcolor": "white",
             "linecolor": "white",
             "minorgridcolor": "white",
             "startlinecolor": "#2a3f5f"
            },
            "type": "carpet"
           }
          ],
          "choropleth": [
           {
            "colorbar": {
             "outlinewidth": 0,
             "ticks": ""
            },
            "type": "choropleth"
           }
          ],
          "contour": [
           {
            "colorbar": {
             "outlinewidth": 0,
             "ticks": ""
            },
            "colorscale": [
             [
              0,
              "#0d0887"
             ],
             [
              0.1111111111111111,
              "#46039f"
             ],
             [
              0.2222222222222222,
              "#7201a8"
             ],
             [
              0.3333333333333333,
              "#9c179e"
             ],
             [
              0.4444444444444444,
              "#bd3786"
             ],
             [
              0.5555555555555556,
              "#d8576b"
             ],
             [
              0.6666666666666666,
              "#ed7953"
             ],
             [
              0.7777777777777778,
              "#fb9f3a"
             ],
             [
              0.8888888888888888,
              "#fdca26"
             ],
             [
              1,
              "#f0f921"
             ]
            ],
            "type": "contour"
           }
          ],
          "contourcarpet": [
           {
            "colorbar": {
             "outlinewidth": 0,
             "ticks": ""
            },
            "type": "contourcarpet"
           }
          ],
          "heatmap": [
           {
            "colorbar": {
             "outlinewidth": 0,
             "ticks": ""
            },
            "colorscale": [
             [
              0,
              "#0d0887"
             ],
             [
              0.1111111111111111,
              "#46039f"
             ],
             [
              0.2222222222222222,
              "#7201a8"
             ],
             [
              0.3333333333333333,
              "#9c179e"
             ],
             [
              0.4444444444444444,
              "#bd3786"
             ],
             [
              0.5555555555555556,
              "#d8576b"
             ],
             [
              0.6666666666666666,
              "#ed7953"
             ],
             [
              0.7777777777777778,
              "#fb9f3a"
             ],
             [
              0.8888888888888888,
              "#fdca26"
             ],
             [
              1,
              "#f0f921"
             ]
            ],
            "type": "heatmap"
           }
          ],
          "heatmapgl": [
           {
            "colorbar": {
             "outlinewidth": 0,
             "ticks": ""
            },
            "colorscale": [
             [
              0,
              "#0d0887"
             ],
             [
              0.1111111111111111,
              "#46039f"
             ],
             [
              0.2222222222222222,
              "#7201a8"
             ],
             [
              0.3333333333333333,
              "#9c179e"
             ],
             [
              0.4444444444444444,
              "#bd3786"
             ],
             [
              0.5555555555555556,
              "#d8576b"
             ],
             [
              0.6666666666666666,
              "#ed7953"
             ],
             [
              0.7777777777777778,
              "#fb9f3a"
             ],
             [
              0.8888888888888888,
              "#fdca26"
             ],
             [
              1,
              "#f0f921"
             ]
            ],
            "type": "heatmapgl"
           }
          ],
          "histogram": [
           {
            "marker": {
             "pattern": {
              "fillmode": "overlay",
              "size": 10,
              "solidity": 0.2
             }
            },
            "type": "histogram"
           }
          ],
          "histogram2d": [
           {
            "colorbar": {
             "outlinewidth": 0,
             "ticks": ""
            },
            "colorscale": [
             [
              0,
              "#0d0887"
             ],
             [
              0.1111111111111111,
              "#46039f"
             ],
             [
              0.2222222222222222,
              "#7201a8"
             ],
             [
              0.3333333333333333,
              "#9c179e"
             ],
             [
              0.4444444444444444,
              "#bd3786"
             ],
             [
              0.5555555555555556,
              "#d8576b"
             ],
             [
              0.6666666666666666,
              "#ed7953"
             ],
             [
              0.7777777777777778,
              "#fb9f3a"
             ],
             [
              0.8888888888888888,
              "#fdca26"
             ],
             [
              1,
              "#f0f921"
             ]
            ],
            "type": "histogram2d"
           }
          ],
          "histogram2dcontour": [
           {
            "colorbar": {
             "outlinewidth": 0,
             "ticks": ""
            },
            "colorscale": [
             [
              0,
              "#0d0887"
             ],
             [
              0.1111111111111111,
              "#46039f"
             ],
             [
              0.2222222222222222,
              "#7201a8"
             ],
             [
              0.3333333333333333,
              "#9c179e"
             ],
             [
              0.4444444444444444,
              "#bd3786"
             ],
             [
              0.5555555555555556,
              "#d8576b"
             ],
             [
              0.6666666666666666,
              "#ed7953"
             ],
             [
              0.7777777777777778,
              "#fb9f3a"
             ],
             [
              0.8888888888888888,
              "#fdca26"
             ],
             [
              1,
              "#f0f921"
             ]
            ],
            "type": "histogram2dcontour"
           }
          ],
          "mesh3d": [
           {
            "colorbar": {
             "outlinewidth": 0,
             "ticks": ""
            },
            "type": "mesh3d"
           }
          ],
          "parcoords": [
           {
            "line": {
             "colorbar": {
              "outlinewidth": 0,
              "ticks": ""
             }
            },
            "type": "parcoords"
           }
          ],
          "pie": [
           {
            "automargin": true,
            "type": "pie"
           }
          ],
          "scatter": [
           {
            "marker": {
             "colorbar": {
              "outlinewidth": 0,
              "ticks": ""
             }
            },
            "type": "scatter"
           }
          ],
          "scatter3d": [
           {
            "line": {
             "colorbar": {
              "outlinewidth": 0,
              "ticks": ""
             }
            },
            "marker": {
             "colorbar": {
              "outlinewidth": 0,
              "ticks": ""
             }
            },
            "type": "scatter3d"
           }
          ],
          "scattercarpet": [
           {
            "marker": {
             "colorbar": {
              "outlinewidth": 0,
              "ticks": ""
             }
            },
            "type": "scattercarpet"
           }
          ],
          "scattergeo": [
           {
            "marker": {
             "colorbar": {
              "outlinewidth": 0,
              "ticks": ""
             }
            },
            "type": "scattergeo"
           }
          ],
          "scattergl": [
           {
            "marker": {
             "colorbar": {
              "outlinewidth": 0,
              "ticks": ""
             }
            },
            "type": "scattergl"
           }
          ],
          "scattermapbox": [
           {
            "marker": {
             "colorbar": {
              "outlinewidth": 0,
              "ticks": ""
             }
            },
            "type": "scattermapbox"
           }
          ],
          "scatterpolar": [
           {
            "marker": {
             "colorbar": {
              "outlinewidth": 0,
              "ticks": ""
             }
            },
            "type": "scatterpolar"
           }
          ],
          "scatterpolargl": [
           {
            "marker": {
             "colorbar": {
              "outlinewidth": 0,
              "ticks": ""
             }
            },
            "type": "scatterpolargl"
           }
          ],
          "scatterternary": [
           {
            "marker": {
             "colorbar": {
              "outlinewidth": 0,
              "ticks": ""
             }
            },
            "type": "scatterternary"
           }
          ],
          "surface": [
           {
            "colorbar": {
             "outlinewidth": 0,
             "ticks": ""
            },
            "colorscale": [
             [
              0,
              "#0d0887"
             ],
             [
              0.1111111111111111,
              "#46039f"
             ],
             [
              0.2222222222222222,
              "#7201a8"
             ],
             [
              0.3333333333333333,
              "#9c179e"
             ],
             [
              0.4444444444444444,
              "#bd3786"
             ],
             [
              0.5555555555555556,
              "#d8576b"
             ],
             [
              0.6666666666666666,
              "#ed7953"
             ],
             [
              0.7777777777777778,
              "#fb9f3a"
             ],
             [
              0.8888888888888888,
              "#fdca26"
             ],
             [
              1,
              "#f0f921"
             ]
            ],
            "type": "surface"
           }
          ],
          "table": [
           {
            "cells": {
             "fill": {
              "color": "#EBF0F8"
             },
             "line": {
              "color": "white"
             }
            },
            "header": {
             "fill": {
              "color": "#C8D4E3"
             },
             "line": {
              "color": "white"
             }
            },
            "type": "table"
           }
          ]
         },
         "layout": {
          "annotationdefaults": {
           "arrowcolor": "#2a3f5f",
           "arrowhead": 0,
           "arrowwidth": 1
          },
          "autotypenumbers": "strict",
          "coloraxis": {
           "colorbar": {
            "outlinewidth": 0,
            "ticks": ""
           }
          },
          "colorscale": {
           "diverging": [
            [
             0,
             "#8e0152"
            ],
            [
             0.1,
             "#c51b7d"
            ],
            [
             0.2,
             "#de77ae"
            ],
            [
             0.3,
             "#f1b6da"
            ],
            [
             0.4,
             "#fde0ef"
            ],
            [
             0.5,
             "#f7f7f7"
            ],
            [
             0.6,
             "#e6f5d0"
            ],
            [
             0.7,
             "#b8e186"
            ],
            [
             0.8,
             "#7fbc41"
            ],
            [
             0.9,
             "#4d9221"
            ],
            [
             1,
             "#276419"
            ]
           ],
           "sequential": [
            [
             0,
             "#0d0887"
            ],
            [
             0.1111111111111111,
             "#46039f"
            ],
            [
             0.2222222222222222,
             "#7201a8"
            ],
            [
             0.3333333333333333,
             "#9c179e"
            ],
            [
             0.4444444444444444,
             "#bd3786"
            ],
            [
             0.5555555555555556,
             "#d8576b"
            ],
            [
             0.6666666666666666,
             "#ed7953"
            ],
            [
             0.7777777777777778,
             "#fb9f3a"
            ],
            [
             0.8888888888888888,
             "#fdca26"
            ],
            [
             1,
             "#f0f921"
            ]
           ],
           "sequentialminus": [
            [
             0,
             "#0d0887"
            ],
            [
             0.1111111111111111,
             "#46039f"
            ],
            [
             0.2222222222222222,
             "#7201a8"
            ],
            [
             0.3333333333333333,
             "#9c179e"
            ],
            [
             0.4444444444444444,
             "#bd3786"
            ],
            [
             0.5555555555555556,
             "#d8576b"
            ],
            [
             0.6666666666666666,
             "#ed7953"
            ],
            [
             0.7777777777777778,
             "#fb9f3a"
            ],
            [
             0.8888888888888888,
             "#fdca26"
            ],
            [
             1,
             "#f0f921"
            ]
           ]
          },
          "colorway": [
           "#636efa",
           "#EF553B",
           "#00cc96",
           "#ab63fa",
           "#FFA15A",
           "#19d3f3",
           "#FF6692",
           "#B6E880",
           "#FF97FF",
           "#FECB52"
          ],
          "font": {
           "color": "#2a3f5f"
          },
          "geo": {
           "bgcolor": "white",
           "lakecolor": "white",
           "landcolor": "#E5ECF6",
           "showlakes": true,
           "showland": true,
           "subunitcolor": "white"
          },
          "hoverlabel": {
           "align": "left"
          },
          "hovermode": "closest",
          "mapbox": {
           "style": "light"
          },
          "paper_bgcolor": "white",
          "plot_bgcolor": "#E5ECF6",
          "polar": {
           "angularaxis": {
            "gridcolor": "white",
            "linecolor": "white",
            "ticks": ""
           },
           "bgcolor": "#E5ECF6",
           "radialaxis": {
            "gridcolor": "white",
            "linecolor": "white",
            "ticks": ""
           }
          },
          "scene": {
           "xaxis": {
            "backgroundcolor": "#E5ECF6",
            "gridcolor": "white",
            "gridwidth": 2,
            "linecolor": "white",
            "showbackground": true,
            "ticks": "",
            "zerolinecolor": "white"
           },
           "yaxis": {
            "backgroundcolor": "#E5ECF6",
            "gridcolor": "white",
            "gridwidth": 2,
            "linecolor": "white",
            "showbackground": true,
            "ticks": "",
            "zerolinecolor": "white"
           },
           "zaxis": {
            "backgroundcolor": "#E5ECF6",
            "gridcolor": "white",
            "gridwidth": 2,
            "linecolor": "white",
            "showbackground": true,
            "ticks": "",
            "zerolinecolor": "white"
           }
          },
          "shapedefaults": {
           "line": {
            "color": "#2a3f5f"
           }
          },
          "ternary": {
           "aaxis": {
            "gridcolor": "white",
            "linecolor": "white",
            "ticks": ""
           },
           "baxis": {
            "gridcolor": "white",
            "linecolor": "white",
            "ticks": ""
           },
           "bgcolor": "#E5ECF6",
           "caxis": {
            "gridcolor": "white",
            "linecolor": "white",
            "ticks": ""
           }
          },
          "title": {
           "x": 0.05
          },
          "xaxis": {
           "automargin": true,
           "gridcolor": "white",
           "linecolor": "white",
           "ticks": "",
           "title": {
            "standoff": 15
           },
           "zerolinecolor": "white",
           "zerolinewidth": 2
          },
          "yaxis": {
           "automargin": true,
           "gridcolor": "white",
           "linecolor": "white",
           "ticks": "",
           "title": {
            "standoff": 15
           },
           "zerolinecolor": "white",
           "zerolinewidth": 2
          }
         }
        },
        "width": 1200,
        "xaxis": {
         "anchor": "y",
         "domain": [
          0,
          1
         ],
         "title": {
          "text": "Pokémon type frequency accross all Generations"
         }
        },
        "yaxis": {
         "anchor": "x",
         "categoryarray": [
          "Water",
          "Normal",
          "Grass",
          "Flying",
          "Psychic",
          "Bug",
          "Poison",
          "Fire",
          "Ground",
          "Rock",
          "Fighting",
          "Electric",
          "Dragon",
          "Dark",
          "Fairy",
          "Steel",
          "Ghost",
          "Ice"
         ],
         "categoryorder": "array",
         "domain": [
          0,
          1
         ],
         "title": {
          "text": "type"
         },
         "visible": false
        }
       }
      }
     },
     "metadata": {},
     "output_type": "display_data"
    }
   ],
   "source": [
    "fig = px.bar(type_freq,\n",
    "             x='freq',\n",
    "             y='type',\n",
    "             color='type',\n",
    "             orientation=\"h\",\n",
    "             color_discrete_map=palette,\n",
    "             text='freq',\n",
    "             hover_data={'type':False,\n",
    "                         'freq':False,\n",
    "                         'gen1':True,\n",
    "                         'gen2':True,\n",
    "                         'gen3':True,\n",
    "                         'gen4':True,\n",
    "                         'gen5':True,\n",
    "                         'gen6':True,\n",
    "                         'gen7':True,\n",
    "                         'gen8':True,},\n",
    "             labels={'x': 'Number of Pokémons per type', 'y': \"\"})\n",
    "\n",
    "fig.update_layout(height=700, width=1200, showlegend=False, yaxis={'visible': False}, xaxis={'title': 'Pokémon type frequency accross all Generations'})\n",
    "\n",
    "sources = [f\"types\\{typ}.png\" for typ in type_freq['type'].unique()]\n",
    "\n",
    "count=0\n",
    "for col, src in enumerate(sources):\n",
    "    fig.add_layout_image(\n",
    "        # row=1,\n",
    "        # col=col + 1,\n",
    "        source=Image.open(sources[col]),\n",
    "        xref=\"x domain\",\n",
    "        yref=\"y domain\",\n",
    "        x=0,\n",
    "        y=0.985-col*0.0555,\n",
    "        xanchor=\"right\",\n",
    "        yanchor=\"top\",\n",
    "        sizex=0.06,\n",
    "        sizey=0.06\n",
    "    ) \n",
    "\n",
    "fig.show()"
   ]
  },
  {
   "cell_type": "code",
   "execution_count": 17,
   "metadata": {},
   "outputs": [],
   "source": [
    "# fig = px.bar(color_freq,\n",
    "#              x='freq',\n",
    "#              y='color',\n",
    "#              color='color',\n",
    "#              orientation=\"h\",\n",
    "#              color_discrete_map={'Black':'black',\n",
    "#                                 'Pink':'pink',\n",
    "#                                 'Yellow':'yellow',\n",
    "#                                 'White':'white',\n",
    "#                                 'Purple':'purple',\n",
    "#                                 'Red':'red',\n",
    "#                                 'Gray':'darkgray',\n",
    "#                                 'Green':'green',\n",
    "#                                 'Brown':'brown',\n",
    "#                                 'Blue':'blue'},\n",
    "#              text='freq',\n",
    "#              hover_data={'color':False,\n",
    "#                          'freq':False,\n",
    "#                          'gen1':True,\n",
    "#                          'gen2':True,\n",
    "#                          'gen3':True,\n",
    "#                          'gen4':True,\n",
    "#                          'gen5':True,\n",
    "#                          'gen6':True,\n",
    "#                          'gen7':True,\n",
    "#                          'gen8':True,},\n",
    "#              labels={'x': 'Number of Pokémons per color', 'y': \"\"})\n",
    "\n",
    "# fig.update_layout(height=700, showlegend=False, yaxis={'visible': False}, xaxis={'title': 'Pokémon color frequency accross all Generations'})\n",
    "\n",
    "# fig.show()"
   ]
  },
  {
   "cell_type": "code",
   "execution_count": 18,
   "metadata": {},
   "outputs": [
    {
     "data": {
      "application/vnd.plotly.v1+json": {
       "config": {
        "plotlyServerURL": "https://plot.ly"
       },
       "data": [
        {
         "fill": "toself",
         "fillcolor": "#2CA02C",
         "hovertemplate": "%{r:.1f}<extra></extra>",
         "line": {
          "color": "#2CA02C"
         },
         "marker": {
          "size": 0.1
         },
         "name": "409.8",
         "r": [
          65.81308411214954,
          73.78504672897196,
          71.57009345794393,
          58.308411214953274,
          70.14953271028037,
          70.13084112149532,
          65.81308411214954
         ],
         "subplot": "polar",
         "theta": [
          "HP",
          "Atk",
          "Def",
          "Speed",
          "Sp. Def",
          "Sp. Atk",
          "HP"
         ],
         "type": "scatterpolar"
        },
        {
         "line": {
          "color": "black",
          "dash": "dash"
         },
         "r": [
          69.09060773480662,
          76.69502762430939,
          71.80773480662984,
          66.0243093922652,
          69.77237569060773,
          69.56243093922652,
          69.09060773480662
         ],
         "subplot": "polar",
         "theta": [
          "HP",
          "Atk",
          "Def",
          "Speed",
          "Sp. Def",
          "Sp. Atk",
          "HP"
         ],
         "type": "scatterpolar"
        },
        {
         "fill": "toself",
         "fillcolor": "#FD3216",
         "hovertemplate": "%{r:.1f}<extra></extra>",
         "line": {
          "color": "#FD3216"
         },
         "marker": {
          "size": 0.1
         },
         "name": "445.3",
         "r": [
          68.98591549295774,
          80.91549295774648,
          66.02816901408451,
          74.40845070422536,
          69.98591549295774,
          85,
          68.98591549295774
         ],
         "subplot": "polar2",
         "theta": [
          "HP",
          "Atk",
          "Def",
          "Speed",
          "Sp. Def",
          "Sp. Atk",
          "HP"
         ],
         "type": "scatterpolar"
        },
        {
         "line": {
          "color": "black",
          "dash": "dash"
         },
         "r": [
          69.09060773480662,
          76.69502762430939,
          71.80773480662984,
          66.0243093922652,
          69.77237569060773,
          69.56243093922652,
          69.09060773480662
         ],
         "subplot": "polar2",
         "theta": [
          "HP",
          "Atk",
          "Def",
          "Speed",
          "Sp. Def",
          "Sp. Atk",
          "HP"
         ],
         "type": "scatterpolar"
        },
        {
         "fill": "toself",
         "fillcolor": "#0071FF",
         "hovertemplate": "%{r:.1f}<extra></extra>",
         "line": {
          "color": "#0071FF"
         },
         "marker": {
          "size": 0.1
         },
         "name": "416.3",
         "r": [
          69.01408450704226,
          71.3169014084507,
          72.35915492957747,
          63.901408450704224,
          69.11267605633803,
          70.54929577464789,
          69.01408450704226
         ],
         "subplot": "polar3",
         "theta": [
          "HP",
          "Atk",
          "Def",
          "Speed",
          "Sp. Def",
          "Sp. Atk",
          "HP"
         ],
         "type": "scatterpolar"
        },
        {
         "line": {
          "color": "black",
          "dash": "dash"
         },
         "r": [
          69.09060773480662,
          76.69502762430939,
          71.80773480662984,
          66.0243093922652,
          69.77237569060773,
          69.56243093922652,
          69.09060773480662
         ],
         "subplot": "polar3",
         "theta": [
          "HP",
          "Atk",
          "Def",
          "Speed",
          "Sp. Def",
          "Sp. Atk",
          "HP"
         ],
         "type": "scatterpolar"
        },
        {
         "fill": "toself",
         "fillcolor": "#90AD1C",
         "hovertemplate": "%{r:.1f}<extra></extra>",
         "line": {
          "color": "#90AD1C"
         },
         "marker": {
          "size": 0.1
         },
         "name": "373.3",
         "r": [
          56.529411764705884,
          67.34117647058824,
          68.76470588235294,
          60.77647058823529,
          63.470588235294116,
          56.45882352941177,
          56.529411764705884
         ],
         "subplot": "polar4",
         "theta": [
          "HP",
          "Atk",
          "Def",
          "Speed",
          "Sp. Def",
          "Sp. Atk",
          "HP"
         ],
         "type": "scatterpolar"
        },
        {
         "line": {
          "color": "black",
          "dash": "dash"
         },
         "r": [
          69.09060773480662,
          76.69502762430939,
          71.80773480662984,
          66.0243093922652,
          69.77237569060773,
          69.56243093922652,
          69.09060773480662
         ],
         "subplot": "polar4",
         "theta": [
          "HP",
          "Atk",
          "Def",
          "Speed",
          "Sp. Def",
          "Sp. Atk",
          "HP"
         ],
         "type": "scatterpolar"
        },
        {
         "fill": "toself",
         "fillcolor": "#BAB0AC",
         "hovertemplate": "%{r:.1f}<extra></extra>",
         "line": {
          "color": "#BAB0AC"
         },
         "marker": {
          "size": 0.1
         },
         "name": "400.0",
         "r": [
          76.75213675213675,
          73.64957264957265,
          60.02564102564103,
          68.5982905982906,
          63.41880341880342,
          57.52991452991453,
          76.75213675213675
         ],
         "subplot": "polar5",
         "theta": [
          "HP",
          "Atk",
          "Def",
          "Speed",
          "Sp. Def",
          "Sp. Atk",
          "HP"
         ],
         "type": "scatterpolar"
        },
        {
         "line": {
          "color": "black",
          "dash": "dash"
         },
         "r": [
          69.09060773480662,
          76.69502762430939,
          71.80773480662984,
          66.0243093922652,
          69.77237569060773,
          69.56243093922652,
          69.09060773480662
         ],
         "subplot": "polar5",
         "theta": [
          "HP",
          "Atk",
          "Def",
          "Speed",
          "Sp. Def",
          "Sp. Atk",
          "HP"
         ],
         "type": "scatterpolar"
        },
        {
         "fill": "toself",
         "fillcolor": "#9E38AD",
         "hovertemplate": "%{r:.1f}<extra></extra>",
         "line": {
          "color": "#9E38AD"
         },
         "marker": {
          "size": 0.1
         },
         "name": "400.7",
         "r": [
          64.2394366197183,
          69.33802816901408,
          64.15492957746478,
          66.36619718309859,
          67.3943661971831,
          69.22535211267606,
          64.2394366197183
         ],
         "subplot": "polar6",
         "theta": [
          "HP",
          "Atk",
          "Def",
          "Speed",
          "Sp. Def",
          "Sp. Atk",
          "HP"
         ],
         "type": "scatterpolar"
        },
        {
         "line": {
          "color": "black",
          "dash": "dash"
         },
         "r": [
          69.09060773480662,
          76.69502762430939,
          71.80773480662984,
          66.0243093922652,
          69.77237569060773,
          69.56243093922652,
          69.09060773480662
         ],
         "subplot": "polar6",
         "theta": [
          "HP",
          "Atk",
          "Def",
          "Speed",
          "Sp. Def",
          "Sp. Atk",
          "HP"
         ],
         "type": "scatterpolar"
        },
        {
         "fill": "toself",
         "fillcolor": "#EECA3B",
         "hovertemplate": "%{r:.1f}<extra></extra>",
         "line": {
          "color": "#EECA3B"
         },
         "marker": {
          "size": 0.1
         },
         "name": "436.4",
         "r": [
          65.26315789473684,
          73.84210526315789,
          63.05263157894737,
          81.7719298245614,
          68,
          84.50877192982456,
          65.26315789473684
         ],
         "subplot": "polar7",
         "theta": [
          "HP",
          "Atk",
          "Def",
          "Speed",
          "Sp. Def",
          "Sp. Atk",
          "HP"
         ],
         "type": "scatterpolar"
        },
        {
         "line": {
          "color": "black",
          "dash": "dash"
         },
         "r": [
          69.09060773480662,
          76.69502762430939,
          71.80773480662984,
          66.0243093922652,
          69.77237569060773,
          69.56243093922652,
          69.09060773480662
         ],
         "subplot": "polar7",
         "theta": [
          "HP",
          "Atk",
          "Def",
          "Speed",
          "Sp. Def",
          "Sp. Atk",
          "HP"
         ],
         "type": "scatterpolar"
        },
        {
         "fill": "toself",
         "fillcolor": "#B68100",
         "hovertemplate": "%{r:.1f}<extra></extra>",
         "line": {
          "color": "#B68100"
         },
         "marker": {
          "size": 0.1
         },
         "name": "422.7",
         "r": [
          74.76470588235294,
          87.55882352941177,
          84.79411764705883,
          56.705882352941174,
          62.48529411764706,
          56.4264705882353,
          74.76470588235294
         ],
         "subplot": "polar8",
         "theta": [
          "HP",
          "Atk",
          "Def",
          "Speed",
          "Sp. Def",
          "Sp. Atk",
          "HP"
         ],
         "type": "scatterpolar"
        },
        {
         "line": {
          "color": "black",
          "dash": "dash"
         },
         "r": [
          69.09060773480662,
          76.69502762430939,
          71.80773480662984,
          66.0243093922652,
          69.77237569060773,
          69.56243093922652,
          69.09060773480662
         ],
         "subplot": "polar8",
         "theta": [
          "HP",
          "Atk",
          "Def",
          "Speed",
          "Sp. Def",
          "Sp. Atk",
          "HP"
         ],
         "type": "scatterpolar"
        },
        {
         "fill": "toself",
         "fillcolor": "#E49DCF",
         "hovertemplate": "%{r:.1f}<extra></extra>",
         "line": {
          "color": "#E49DCF"
         },
         "marker": {
          "size": 0.1
         },
         "name": "421.3",
         "r": [
          66.85454545454546,
          63.61818181818182,
          69.07272727272728,
          60.981818181818184,
          82.72727272727273,
          78.07272727272728,
          66.85454545454546
         ],
         "subplot": "polar9",
         "theta": [
          "HP",
          "Atk",
          "Def",
          "Speed",
          "Sp. Def",
          "Sp. Atk",
          "HP"
         ],
         "type": "scatterpolar"
        },
        {
         "line": {
          "color": "black",
          "dash": "dash"
         },
         "r": [
          69.09060773480662,
          76.69502762430939,
          71.80773480662984,
          66.0243093922652,
          69.77237569060773,
          69.56243093922652,
          69.09060773480662
         ],
         "subplot": "polar9",
         "theta": [
          "HP",
          "Atk",
          "Def",
          "Speed",
          "Sp. Def",
          "Sp. Atk",
          "HP"
         ],
         "type": "scatterpolar"
        },
        {
         "fill": "toself",
         "fillcolor": "#FF7818",
         "hovertemplate": "%{r:.1f}<extra></extra>",
         "line": {
          "color": "#FF7818"
         },
         "marker": {
          "size": 0.1
         },
         "name": "454.4",
         "r": [
          75.04838709677419,
          101.24193548387096,
          74.08064516129032,
          72.58064516129032,
          69.14516129032258,
          62.274193548387096,
          75.04838709677419
         ],
         "subplot": "polar10",
         "theta": [
          "HP",
          "Atk",
          "Def",
          "Speed",
          "Sp. Def",
          "Sp. Atk",
          "HP"
         ],
         "type": "scatterpolar"
        },
        {
         "line": {
          "color": "black",
          "dash": "dash"
         },
         "r": [
          69.09060773480662,
          76.69502762430939,
          71.80773480662984,
          66.0243093922652,
          69.77237569060773,
          69.56243093922652,
          69.09060773480662
         ],
         "subplot": "polar10",
         "theta": [
          "HP",
          "Atk",
          "Def",
          "Speed",
          "Sp. Def",
          "Sp. Atk",
          "HP"
         ],
         "type": "scatterpolar"
        },
        {
         "fill": "toself",
         "fillcolor": "#F261A7",
         "hovertemplate": "%{r:.1f}<extra></extra>",
         "line": {
          "color": "#F261A7"
         },
         "marker": {
          "size": 0.1
         },
         "name": "450.1",
         "r": [
          71.38461538461539,
          65.98901098901099,
          71.97802197802197,
          69.56043956043956,
          83.89010989010988,
          87.26373626373626,
          71.38461538461539
         ],
         "subplot": "polar11",
         "theta": [
          "HP",
          "Atk",
          "Def",
          "Speed",
          "Sp. Def",
          "Sp. Atk",
          "HP"
         ],
         "type": "scatterpolar"
        },
        {
         "line": {
          "color": "black",
          "dash": "dash"
         },
         "r": [
          69.09060773480662,
          76.69502762430939,
          71.80773480662984,
          66.0243093922652,
          69.77237569060773,
          69.56243093922652,
          69.09060773480662
         ],
         "subplot": "polar11",
         "theta": [
          "HP",
          "Atk",
          "Def",
          "Speed",
          "Sp. Def",
          "Sp. Atk",
          "HP"
         ],
         "type": "scatterpolar"
        },
        {
         "fill": "toself",
         "fillcolor": "#A38B5B",
         "hovertemplate": "%{r:.1f}<extra></extra>",
         "line": {
          "color": "#A38B5B"
         },
         "marker": {
          "size": 0.1
         },
         "name": "439.0",
         "r": [
          67.10606060606061,
          87.45454545454545,
          104.68181818181819,
          50.303030303030305,
          71.98484848484848,
          57.515151515151516,
          67.10606060606061
         ],
         "subplot": "polar12",
         "theta": [
          "HP",
          "Atk",
          "Def",
          "Speed",
          "Sp. Def",
          "Sp. Atk",
          "HP"
         ],
         "type": "scatterpolar"
        },
        {
         "line": {
          "color": "black",
          "dash": "dash"
         },
         "r": [
          69.09060773480662,
          76.69502762430939,
          71.80773480662984,
          66.0243093922652,
          69.77237569060773,
          69.56243093922652,
          69.09060773480662
         ],
         "subplot": "polar12",
         "theta": [
          "HP",
          "Atk",
          "Def",
          "Speed",
          "Sp. Def",
          "Sp. Atk",
          "HP"
         ],
         "type": "scatterpolar"
        },
        {
         "fill": "toself",
         "fillcolor": "#4C3B7A",
         "hovertemplate": "%{r:.1f}<extra></extra>",
         "line": {
          "color": "#4C3B7A"
         },
         "marker": {
          "size": 0.1
         },
         "name": "445.1",
         "r": [
          64.6923076923077,
          77.51923076923077,
          76.84615384615384,
          65.23076923076923,
          79.0576923076923,
          81.76923076923077,
          64.6923076923077
         ],
         "subplot": "polar13",
         "theta": [
          "HP",
          "Atk",
          "Def",
          "Speed",
          "Sp. Def",
          "Sp. Atk",
          "HP"
         ],
         "type": "scatterpolar"
        },
        {
         "line": {
          "color": "black",
          "dash": "dash"
         },
         "r": [
          69.09060773480662,
          76.69502762430939,
          71.80773480662984,
          66.0243093922652,
          69.77237569060773,
          69.56243093922652,
          69.09060773480662
         ],
         "subplot": "polar13",
         "theta": [
          "HP",
          "Atk",
          "Def",
          "Speed",
          "Sp. Def",
          "Sp. Atk",
          "HP"
         ],
         "type": "scatterpolar"
        },
        {
         "fill": "toself",
         "fillcolor": "#19D3F3",
         "hovertemplate": "%{r:.1f}<extra></extra>",
         "line": {
          "color": "#19D3F3"
         },
         "marker": {
          "size": 0.1
         },
         "name": "448.5",
         "r": [
          76.82926829268293,
          78.85365853658537,
          75.8048780487805,
          62.19512195121951,
          77.8780487804878,
          76.90243902439025,
          76.82926829268293
         ],
         "subplot": "polar14",
         "theta": [
          "HP",
          "Atk",
          "Def",
          "Speed",
          "Sp. Def",
          "Sp. Atk",
          "HP"
         ],
         "type": "scatterpolar"
        },
        {
         "line": {
          "color": "black",
          "dash": "dash"
         },
         "r": [
          69.09060773480662,
          76.69502762430939,
          71.80773480662984,
          66.0243093922652,
          69.77237569060773,
          69.56243093922652,
          69.09060773480662
         ],
         "subplot": "polar14",
         "theta": [
          "HP",
          "Atk",
          "Def",
          "Speed",
          "Sp. Def",
          "Sp. Atk",
          "HP"
         ],
         "type": "scatterpolar"
        },
        {
         "fill": "toself",
         "fillcolor": "#1616A7",
         "hovertemplate": "%{r:.1f}<extra></extra>",
         "line": {
          "color": "#1616A7"
         },
         "marker": {
          "size": 0.1
         },
         "name": "494.4",
         "r": [
          81.55357142857143,
          93.30357142857143,
          81.17857142857143,
          75.57142857142857,
          77.08928571428571,
          85.75,
          81.55357142857143
         ],
         "subplot": "polar15",
         "theta": [
          "HP",
          "Atk",
          "Def",
          "Speed",
          "Sp. Def",
          "Sp. Atk",
          "HP"
         ],
         "type": "scatterpolar"
        },
        {
         "line": {
          "color": "black",
          "dash": "dash"
         },
         "r": [
          69.09060773480662,
          76.69502762430939,
          71.80773480662984,
          66.0243093922652,
          69.77237569060773,
          69.56243093922652,
          69.09060773480662
         ],
         "subplot": "polar15",
         "theta": [
          "HP",
          "Atk",
          "Def",
          "Speed",
          "Sp. Def",
          "Sp. Atk",
          "HP"
         ],
         "type": "scatterpolar"
        },
        {
         "fill": "toself",
         "fillcolor": "#222A2A",
         "hovertemplate": "%{r:.1f}<extra></extra>",
         "line": {
          "color": "#222A2A"
         },
         "marker": {
          "size": 0.1
         },
         "name": "443.4",
         "r": [
          73.58928571428571,
          90.51785714285714,
          67.35714285714286,
          74.69642857142857,
          65.32142857142857,
          71.94642857142857,
          73.58928571428571
         ],
         "subplot": "polar16",
         "theta": [
          "HP",
          "Atk",
          "Def",
          "Speed",
          "Sp. Def",
          "Sp. Atk",
          "HP"
         ],
         "type": "scatterpolar"
        },
        {
         "line": {
          "color": "black",
          "dash": "dash"
         },
         "r": [
          69.09060773480662,
          76.69502762430939,
          71.80773480662984,
          66.0243093922652,
          69.77237569060773,
          69.56243093922652,
          69.09060773480662
         ],
         "subplot": "polar16",
         "theta": [
          "HP",
          "Atk",
          "Def",
          "Speed",
          "Sp. Def",
          "Sp. Atk",
          "HP"
         ],
         "type": "scatterpolar"
        },
        {
         "fill": "toself",
         "fillcolor": "#778AAE",
         "hovertemplate": "%{r:.1f}<extra></extra>",
         "line": {
          "color": "#778AAE"
         },
         "marker": {
          "size": 0.1
         },
         "name": "479.2",
         "r": [
          69.62962962962963,
          91.92592592592592,
          110.77777777777777,
          56.592592592592595,
          79.68518518518519,
          70.62962962962963,
          69.62962962962963
         ],
         "subplot": "polar17",
         "theta": [
          "HP",
          "Atk",
          "Def",
          "Speed",
          "Sp. Def",
          "Sp. Atk",
          "HP"
         ],
         "type": "scatterpolar"
        },
        {
         "line": {
          "color": "black",
          "dash": "dash"
         },
         "r": [
          69.09060773480662,
          76.69502762430939,
          71.80773480662984,
          66.0243093922652,
          69.77237569060773,
          69.56243093922652,
          69.09060773480662
         ],
         "subplot": "polar17",
         "theta": [
          "HP",
          "Atk",
          "Def",
          "Speed",
          "Sp. Def",
          "Sp. Atk",
          "HP"
         ],
         "type": "scatterpolar"
        },
        {
         "fill": "toself",
         "fillcolor": "#72B7B2",
         "hovertemplate": "%{r:.1f}<extra></extra>",
         "line": {
          "color": "#72B7B2"
         },
         "marker": {
          "size": 0.1
         },
         "name": "431.8",
         "r": [
          69.9126213592233,
          75.90291262135922,
          65.57281553398059,
          81.33980582524272,
          68.6504854368932,
          70.46601941747574,
          69.9126213592233
         ],
         "subplot": "polar18",
         "theta": [
          "HP",
          "Atk",
          "Def",
          "Speed",
          "Sp. Def",
          "Sp. Atk",
          "HP"
         ],
         "type": "scatterpolar"
        },
        {
         "line": {
          "color": "black",
          "dash": "dash"
         },
         "r": [
          69.09060773480662,
          76.69502762430939,
          71.80773480662984,
          66.0243093922652,
          69.77237569060773,
          69.56243093922652,
          69.09060773480662
         ],
         "subplot": "polar18",
         "theta": [
          "HP",
          "Atk",
          "Def",
          "Speed",
          "Sp. Def",
          "Sp. Atk",
          "HP"
         ],
         "type": "scatterpolar"
        }
       ],
       "layout": {
        "height": 700,
        "images": [
         {
          "sizex": 0.1,
          "sizey": 0.1,
          "source": "data:image/png;base64,iVBORw0KGgoAAAANSUhEUgAAALQAAAArCAYAAADR/aKkAAAXyElEQVR4nO19eXRc1Znn73tLrdpK+74vlrXZkix5keMFMNjgGDtuIECY0J2QMz3TJCcBQiBrMzkz9KS7D/RyIB2WDgwJcQIJdAwhNkY2xrtsCW/YlmVr31VVkmp5y/3mj6qSZcdMIF2S7Ix+OnUkPd2697v3/d5X33avgHnMYx7zmMc85jGPecxjHp8GNBOdrvnJMjuZYiExZ4FImYkxrgZmhqQqGNrvHmz/adeIbJNIkiQQzcg05/Gfgw5gBIB7dHRURKvTqJJt7U+WEYAiBv4ChK1g1Eaz/0+BXQDeR2h+HH7N49oBAfADaAfwfmJiYk+0SB1VQjOQC+B/ALgDIIoGj5gv9fGJNG2oiQ6GGf5NYJ7Q1yJUABUI3Z+3AXii0akUjU4A4IZnG+PJFJ8nIbaSEASODpmdFidsihVEdBm5PxZCAMxMErEkSVH7KJtH1MEATADFAOKj1WnUCA0gh5jvIsEyCQYxh5T0nwhmBgG4bcHNqEorh0x/XNQp0jODiAQRMRHNa+drFwzABkCOVofRNDlcICqPVmeCGSXJhbih8DPwBrx/ShfznuD1g6gpnWgSWgZgiUZHzAyJCKsLmpDtyoFP88HkadbDldO/Pqh7pZTznxwzgFkLqV0NDAaF7/P0n002UZ5ahsWZ1bCqdviNAAQLEAgM/gNDiQTNOamZmZj5Y6UgIvMKp1ZCmNRX8w0+zgG+cpz/l1n1x2S6ypgSpq0kM5uXCXwd+CRzRujITbQpViTY49E3PgBQ6LosKViauwRFiflgU0fACIZs6uk3mQBFUqBKKvxB/9TDMFeIkIeIIEkSZFmmiLxCmGHTnjk8D4rMP9LmU0ZzIuMQAMHM4NDgV20sy7Iky1JYFoYQgk3TZFwiryZJkizLsipLEoEIQgg2DCPSN64XX2RONbRVsWBN4UpUpC7Ak3uegkwyBAsUJxaiJq0CFsUOt38UmqkDCDt94a94SxzWFa5G93gv9nUenitCE4ApMtntNikzM9NWU1MTv2xZfUZMjMMqTCFOnz7jOdbaNnb2TPuw2+3Rg5ombDab5HIlqAh1MGV/GLouAoGg8Pn9phCCw0/FFJmYGTablRsb611lZcWZgwPDEwcOHO7v6x/w0xWMVlWV0tNS7Zs23ZpXWlocx8w8PDKqHdh/ZKi5efeAPxAQAHSbzcqVFQvjl9UvSS8rLUlTFUW52Nk1eKj1yOCe9w+MBoPB64LMwFwSmoBkZxJur7gV3e4eACGzAwCq0ytQmlwCQMCn+2EI47K3KpKC2sxqrC+7Af984PnZlhwIEZkR4jJAoIUlpY4vf+kLNevW31DrSkp0Ck2QMJgBxqYN60mQwX39A2M/+vt/fu+nL7168isP3F/47ccf3myaJmQQiAkgwvDg4PC+w0fO/Pgn/368te24J0zqqYFN0+Ti4kLn17/+1421tTU1w0MjI0899ew7zzz7wnmHwy5FmGdRVfmez2/Ne/CrD6xJc6WlShKREMwkEX3x7ruCr/7ytff/+9ce2e9KiFe/8Y2/qfjCXXc2uRIS4kNhT4AkwsTk5ORDj397269//dbgJwqZXgOYE0IzMxwWB9aVrEV2XBbOjZwHSwwBgfS4VFSnV8BucQIs4PF7oZs6AJoyO1IdybiraitkScXQ5PCcmRvMbACgutpFaT/4zrduaGxYUioMnQMTwcDQ0PCIx+32MsC5OTmZdqfdlpGSHlNTXREPgmpVVMVpc9oNTTN9fp9PN3WDiGRXSmLq7ZtvyywtKy59+Jvffa2lpXWEmeVwSJJMIbTq6kpHcWFRmcPmtGRmWNIrKhakKYpynpmnVHpd/eLURx/9+iaXKyF2YmIyMDIw4vb5/XqCK8GhyLJNUmXFNAz9K1/5Yvl9992xMikpKdHnmfR3dnR2aZqm5+blZmkAKYoSzdDujGPWCR0hZbIzETcXrwWzgDc4DgAQEChJKkZ5ShmIBUCEEf8oAkYQFFJgsMgWrC+9CYWuPHSMdWLENzbbU5iCrutcU1OV+PjjD61dtqxhgRbQgi3HWj967sWXj777bnOvz+8zCAS73Sbffc/WnHXr1pSNusf0KReWCP2Dg/1P/sNTb//slW1dOTlZcff/l3tq7r7njsaqqorsLZs3Ljp3rmO31+uNOGMcGxNjrapcmJ2ekR43MT4RVBRZqqpaWLa0sa59/4EjA4pFJVmR6b5776y3223O8fGJwD8+9a87X3jh/xw1DEPExDgta1avLABgxMTEKDfcsLo4NTUj+eLFjt6//dsf/X779nd6mJljY5zKPffeUdLb22dcTwGZOdHQqqzi5pK1SLS7EDQ0BIwgAMCu2FGWVISU2HQgpPww5nNDM7XwOwkFrlysL7kREknwBL0IGIG5mAKYmW02q3z357eWLW1cUq7pmv7+B/uOPva9J/aePHHapyjKVPQhqGn8zDMvdv/0p6/2FxXlx00PyTAza7ou/IGA2dnV4/nWd554b+nyhqzFi6oXNDbUFSYkxO3zer1BZibDMEVVVXF8TXVluRYMmu3t5wcTEuJs+fm5qZWV5a4P9h0aADMTSVRQmJdIJEnd3T0jzz//UovP5xdEhNFRLfCr1944pes6L15cm+RKTIwnIpw69dG5AwcODfh8PlOSJAoGg/rTTz97MizjdVPgNesfJ0SEFGcy1hZ8BjLJMNmET/ODmZFiT0JefE5IO4dawxv0QjN1EAh2xYatFZ9FnC0OhjAwNDk8Z8pD13VetrQhffnShmqb1Yb29o6up//l2aMftp2YUJSQnohEPsKRAjE56dPb2k4OM6YH1SFJRDIzS8wsaUENpmYyBDg2NlaRw+GJUHgOtLB8QUJFxYKc0ZHRiebde88NDAyNpKakOBctqs5OSUm2CsEAM016fV5JJnY6nbYl9bUpfn9A13XDnBaNobGxsYAe1IIQQGpSSkJaaopN03VDCGEQkYmwn3C9RDiAWSZ0KJ1NWJ2/AvG2ODAYuqnDGxgHCyDJnoic+EyE6lUQMjl8YwiGNfiijEo0ZNVCkeQQoSeG50p7sK7rKCkqiltQUppqaiafPH764js73uu32WyReC1FSAqAhBCGEEIPf58e31VMIRS/389jY25es2Zlan5OTqIqKdTX3d89OTEZSelzcnKStXZxdX5cfJx1bMzt+cW2109e7OzuNwWhqqqyoLqq0mEaBkzDkN/evqMtGAxOZGVlJD32rW/c8sjDD5ZXVZW7TNOUNE1jWZalkydPuNuOftjuH58IVJVXlH/zoa8u/68P3F9SUlzk1DRdM0NyinAZwTUfgwbmwORIdiRiTcEKqJIKAsEQJjxBLwBGnC0WKc5kIFIHwgJj/pDJEW+Lw6byDbApVgCAZuro8fbNtvgAQg9mbFycUpCfn2BzOCxjIyPuU2fODrEwMT3Mpmm68Af8IvzUCQCh5NA0BW2zWa2rmpbnpCYlWZxOp2X9zTeWp6QkJwcDAX3nzt1n3W6PDgBCCM7LzbEvWVJbrAU17unpGzx48EjvqVNn0kZHhn1FRQWpCxeWuXa++56HWWDbr3/TV1FTfmTjbbcsr69fXFBSWpS9atWKc63HPrzw1ts7zr/X/H6/0+mU/+3Fl05mZmYkrlrZVH/z+nX1VdUVCzasv+l8y9G2c6/8/Bdnz5/v8iuKfGVE8JrFrBKaiLAsdwnS49KntKohDHgCXhAkxFicoegGQjH/gfEBjPrHIFhgRV4jFiSXQJZCdSy6qaN3jggthEBqYpIlLS0tAcyYmJiY6Ozu9siyclnM+HOf+2zGhnU3FtqsNpUIDBAMXTf37tvfJQQzmJHgio+9fdOGpZtuXW8qsqJarVZr/+Bg/85dzcdf2batyx8ICEVRIEmSVFRUkFBSWpzi9XgCx1o/HGRm49Dho0MDA0PDVTVVudXVFYXp6alDIyOjwbGxseB3vvvDQ+Pj45O1tTULCgryM9auXVXeWF9XsnxpQ8dzL7z8wbZf/eZ8W+tx9/d/+OSeB+7vc9fVLaosKS3KuWnd2uolS2rLGutr2/7lmZ+07Hh3dz8uhSqvaczqbpIYqxOrC1fCEtaywCVC2xQrXPYEkKQAQgckGQe6jqDb04sUZzLWFa+Fw+JAJL1lsIl+3+ClZZ5FBRIyAQRDJgMyICmSbFVVhUM1s5FkC1atasq8a+uWtWSzhWrDhQBrGsfGOvft+eBAJwBoQS1wtr2939AMpbS0JN3qsGH3B/tOPvrtHxz0uD2moihgZpGY6LI2NtYXOR1OdbB3YGjnrt3tAGHv3n19fQNDfZWGyC0vLckuKMhrHRoanlQURfJ4PP5vPvq9A/X1iy+uWL407eZ1a4vr6xZXNTTWl8iqovYNDPh37drTferkR76HH/ve4aUN9T2rVzdlrluzqqi6uqr8MytXLCFFcpw49dH2gYGhSWaWrnV7etYILSCwJLsW+a5cyCQhnJCAIQy4A25YFAtiLDEhOpCEkclhHOk9imHfCO6q2oJCVz6IZAChVKzb74Yn6JkzveHxeHW3Z8wLieCItcdkZKTHmsZUOpmJCK+//mbH8MDw61aLRY5xOiy3b9xQn5AQn2AYRsiGJoLH7fX8/Bev79+//+DQj370w1sWLaoqq6pakFeYn/vh0WMfehCyv0Vqaora2FBXBCGgKqrU1LQsY9myhiS/P8gWRbXp/oBRWlKSsbCsLO7QoZZhAKYsyyRJktLS0jp06GDL4I4duy4+/thDgfXr1y2tqFyYvWXzxuJdu/b0K4oigcG79+wb2Pluc3/zmj0Xv//4I9qi+kXV1ZUVhXfesaX86X969tDsr/Knx6wQmplhkS1YU7ASTtVx2XW/HsCk5kOiw4V4W1zIfpZkHO05hlODZ5AWk4oVeUvhtEZMkVDx0sD44OUVeLMIIqLx8XH97Nlzw+Nejz82LsG5sLIsIy4u9rRhGKYkhXzt5ub3R995Z+ewEIyiwnz7mlVNZfHx8ZcVs5tCmKNu93jz7r29b731+49ysrOyy4pLCu6++47CCxe7jnu944bVapXr6xbnFBYWJDMz0lJSUv76S3+5johYCIbVolplSZItVquyauWKkh27mvv6+vr9RAQigqqqkqIofPzEKc9rr7/ZVllZXlpYXJxYUlKUnJefa+/p7g3IsgyLRZVUVaH39x10/6+/f3rfyy/9uNzhsFubljfmP/X0M9cFoWclysEAylNKUZCYB1lSpgpxTGFO2ch2xQ6XPQEgwtDEIPZ1HcLAxCBuLF6NgsS8sDMVep9hGuh0d8+ZRRcqDCK0tnw4fP5sx3lFkaX6ukWFWzZvzAxq2tRTpiiKFBMTI8fGxsgOh+PjPCuSSCKbza48/8LLbZ1d3d3EJN224abavLwcuxCCExLi1TWrmxbY7TbVOzHhO3js2Ednz5/vOdPe3nvuQkfXh6dOnXR7vWPMjIaG2rz8vFy7EGL66oTidCSxd3xcG5+YDAIMRVHkGKdT4Svy2rIsU9/gsBEppHI4HepMrWW0MeMaOrRWjKbcpUi0JUzz8AkGmxicHAYAqLICp+oAE+FYTyuO9X6IrLgMNGTVhkwR8DRHUscFTyckSGCEUuaznP5mRVHk/QcP+3fseu9M2YKS4sy0zLR7772zqau7x79//6E+IrKESzdJlmU4nA4hWxQnFFIUi+qMPIwSQApBkSRSBgeHtN/+9p1jRXl56elpaRl/+cV765/44f/eGR8fJ9XWL8pgCNHe0XHxwa89sl1VVQkIOah+v998+KGv1mzZeNuKzKyM9Mqq8iSL1WJtazvR7fV6raYZsnCYWSopLozJz8tNYmYEA0F22O0WlyuBvd7xADPbAchWq1XasnlDukKqxIbQezu7+8PzMT5mPa4ZzIrJkR6Tioq0BbAqNkTUKlHoZngD42Aw7IoNiQ4X+sa6sOfiPgz5RnBPzVYUJeZHvKypLV2GMHDR0z0bon8siIhMIfDKz7Z1VFWUt61Zs6quvm5x0T89/XcJO3c2n37ppZ+39vb1+7KyMqXbb9+Yf+PalfVZWRnJhmEI9/i4FtHVkceQAdisVvnH//bi2U0bb6mtil8Yf8vNa6veevv3x7MzsxIzklOTglow2Np6ouP06bMTqqpEnE/SNB3b3/p959qmpuqY+Gxn04plFVs2b4wbG3N79+7ad+KXb7zZa7VYpM/etj737nvvaIqNi7X09/V7T50+437kka+tUGRJ+cW211v27T80FBcXy5s335r3hfvuvFFVFHV0bGzshZdfPTW95PVaxswRmkPVc4JDzmBaTGr48qVCfoMNjPhGAYTS4Q7VjsM9x9DS24a8+GzUZy1GjC0OzOJS3TAAXegYnBieMdE/KRRFpvb2i5Pff+LJD3TTxMqVK2qyszJT7rn7jsStf/G5JcxgIgmKIis2lRRd141jrcfb/+eT/7j39lvX54QLVKbsECKiyclJ45evvXkiLzcnMzk5Oe6v7v9Ck2qz+iSVyNs/7nvzje29FotKETtdCEFWqwX/8du3+x79+lfdGbmZadXVFXnBYNCorCjPWbl02cKHHn7QBAiKKssWu0X1eryBd3c2H/3NG9tP/+B731pbs6iqcPnyxtKgHhQhU0SWFUVRvBMT469s+1Vzy9HWqOzIng3MDKEZYGKAAafFgcacOrgcrtDm1WmmgWEaGJocAhAyObo8PdjZ3gxv0IsNZTehNLkYFK4VjugGIUxccHfBFMYn2wU+g4hQ8fTpc+N/9aUHt3/5S/dd3LJ5Y0N2dla8rFgVgIhZwOfT/Oe6L469/c7OU8+/+Mqh7u4ezbdmdbrH4/F6PN5xnz9gRhIysixLzz3/UsvtmzaUFhbkZRWXFCb3Dwz2HW5pPT7QPzi2e88HnRQ6vIfDMjAAYiH4zd/9rk1jnVRVtR461HKxrm5RTl5mdrKiqgoABIOa1tHZObj9rXeOP/f8Sy0TE5P6rvf2nHY4HbbMjPR4kqAIZgQCgeCFC12nfvbKa8df//V/9Gqaft0cBRE1w/OGZxtXI3TAyxShDZhYnlOP/9bwZWTFZyOcSQsTGxicHMZjO55A+8gFlCYXozS5CG+d2YFkZyL+ZtkDWJ63AsTm1E5uEEEzdbx2/A38+7GfwbgsgxyGBAzv9/yu45W+vYpdjtpu4itxla1NrCqKpFos5HIlWBYvrnbFxDhV0zS5uXnvwMTEpKHr+tQuEFVRJLvDLpmmycFgUBiGGal7JmZmh8Muy7JCzAwhTAZC2cJAICimZyOny6GqKqmqSkQgwzCEqqpSZka6fdHiKhcz0NvT5zt6rG1M1w02DEMAgKookqwoVFNVEZ+TmxUjyRK1tZ0Y6+zs8QWDQTNif0fmOANLKQN4bnR09EI0OptRG1qWZCzJqkNGXEYovBw5iiCyNYkFhiZGIJGE9tEOtI92wBQCdZmLsDC1PFJjGW5+aavS2ZFzEHOvnf9AAMM0he7zwe/3B3p7+65MY061JyIYpinGxyfE9GuRdkQEvz9wlad1qt30vqZ+NgyDDeOS36ZpOp89d37i7LnzE1OdX7FVSzcMoek6Dhw6Mnbg0JEra3GvC608HTNGaAYj2ZGMBHsC3EEvhHl5WS2zwAV3F/xG4LJ9dU6LHVlxmdCEQL+3L5zqDufgwBjxjeKj4XaIOYpB/zFcSbg5xh/IcbXI4TUm838K0SS0idABfFMxS8M0sLO9GUe6WyCEuGzFDGGg091zVWLu7zqMcyMdEMywKpZwMjCUIewf78eQb+S6qtGdx+whaoRm5jEAJ4moBgRILMHj8+CDCwfCewUvJ1/IBCEQaIqYRAS/HsDx/pNT+wuvVBtSuP08mf+sELWbGU1CdxLRNgCVAGRQqFRSpk/nl82T9f8rEIAgQp/uUUE0U99eAK8y8y/BLBCJTEy9ojjSJ8OfhU3454ZwqJXCLxmhI3X/pLPeroaoOoXNzQfbV61q+C4TtYPoswgdlxr2+MTMl3kyIJEEEKksWBVCKOGThWZw0Hl8GkR23zCzRkRnAOwlovFo9R/tKAcDOMOK9Hdg/AZA+tQYZuTPMwyJQESDzDwSOcloHtcWwoQ2mXlYCOGO5vaumQrbeQAcvOzKzOU4LoEByMrUS5YlzP9LimsP06kgRKiswWKxXrWtpgVnSap5zGMe85jHPOYxj0+M/wsN9nZIYSW/MAAAAABJRU5ErkJggg==",
          "x": 0.052,
          "xanchor": "right",
          "xref": "x domain",
          "y": 1.05,
          "yanchor": "top",
          "yref": "y domain"
         },
         {
          "sizex": 0.1,
          "sizey": 0.1,
          "source": "data:image/png;base64,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",
          "x": 0.22399999999999998,
          "xanchor": "right",
          "xref": "x domain",
          "y": 1.05,
          "yanchor": "top",
          "yref": "y domain"
         },
         {
          "sizex": 0.1,
          "sizey": 0.1,
          "source": "data:image/png;base64,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",
          "x": 0.39599999999999996,
          "xanchor": "right",
          "xref": "x domain",
          "y": 1.05,
          "yanchor": "top",
          "yref": "y domain"
         },
         {
          "sizex": 0.1,
          "sizey": 0.1,
          "source": "data:image/png;base64,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",
          "x": 0.5680000000000001,
          "xanchor": "right",
          "xref": "x domain",
          "y": 1.05,
          "yanchor": "top",
          "yref": "y domain"
         },
         {
          "sizex": 0.1,
          "sizey": 0.1,
          "source": "data:image/png;base64,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",
          "x": 0.74,
          "xanchor": "right",
          "xref": "x domain",
          "y": 1.05,
          "yanchor": "top",
          "yref": "y domain"
         },
         {
          "sizex": 0.1,
          "sizey": 0.1,
          "source": "data:image/png;base64,iVBORw0KGgoAAAANSUhEUgAAALQAAAArCAYAAADR/aKkAAAW7klEQVR4nO1cd3wd1ZX+zr0z86qqbblJsqzihmXZcse4YGBj00JxAgQWsiEETDahhABJCGmw2ZBCkgWWEBaWLARsTLIGQgI27uDem9wluaiX18vM3LN/vPdkSRZljWwpu/r8G7+fZubW+e6Z0+4AfehDH/rQhz70oQ996EMf/jegc1Hpv127zUWSxxDxUIA0AABz4qBz0mSyCYYUOjaeeLP+1V0/anJqXhJCgM5hm304a5gAmgC0Njc3q+6qVOuuigDgqeu2EYAiZnwBjAUglHdn/f8LrASwDonxcfLoQ+8BAYgAOAJgXXZ29snuInW3EpoZ+QAeA/BFfKz074pfn12KtqvBBGAnT6mPaLAPPQsdwAVIPJ+/AfB1R6XdRuinF2zJYFY3AVgATnCLGfg48qYIyG3/d5dqQEwkWAjRba+yPnQ7GAmhUwwgA72N0AByifgGABKUfM935nJKl2UAClDtlQEBkPiMOjYBnFxNRKSISJx9ZX04D2AATgCyuyrsTkJnAzSmwxk6U+YyM0gQcsdqyCuVcKULRIPAqYo4Tuy1YUb5rI24TuunzxL8+0G3qYTdSWgJwPioi8wMIkBqhPGXGyiaqiNjsIQ0ADsO5JdLHNtkYsc7MUQDZ0/q84iuOvhxD6a9hkWfcG8fzhLdRuiPezoJMhOIgOGTdIy5xAFPVvKaAoQGZORIjJlLiAQYO9+Jt5XpSSilOqgsRMRE1J6Q7YdN7c6fURZALHldB2AKIfTUvcxMzHxWg23Xpy773MX9qtPfZ9Nsr8U5JXTnqSJBKJmuw5VxWli1mYcMOL0CuWM0VG0z0VLD59Jl/amRIlqKNNzRMODktdTf1LmsEAJSCkipCTAbtlJQShnMrFJlPw2hiQiaJkkImewDw7JsZmbuTMp2fYaUkqQUyfOAUopt2+7c71S5Du19xHyc0a/ehG4j9KcZluYAMgcLiDYZ0u7Nm4y7uDMInkyBllO9w0FBRHC73SLN69WkJpKdJYCZTdO0Q+GwHY3GVLs3CjEzCyEoLc2rlZaWZk2eVJo+qmhEkVLMVVXHj2/fvTu4acvWU8Fg0LYsWyVJDU3TKDMjQ9MNncLhsB0IBO3U+by8Ic5rrrmioLi4uH80Go0GAkFz3dr1NWvWflhnmqbdnlhCCPZ6vVpxcZE+dWr5sBEjijOFECISiUTXr99YvW7dxtZgMGTF43GVKsfM6Ncv2zAMQ5imqZqbW0ylVIfFwsxwOh0yIyNdAwC/L2BFolG7N5G6W/3QZwVOWI7Jn07vcQYzdb1YztMcCiHwyPe+PfbG666ZLZ26kXp2SrFdU1NT/+Zbf9v/yh8X76uuPhFCsusul0srLx/f/4EH7p5eXl5WZBiGzlEmAExEEyzbsvYdPFD5m98+u3nlqrXHQ6Gwbds2TZkypf+vn3hsXkFB/uCVa9du+fZDj65vamo2b755QeE3vnHnxUOGDMyGIuJ4YsHcvOD6wO9feOn9Hz3+xB632y0AQNd1UTZurGvh3V+bNXPmjFEuTWuza0gIuvlLX7JPnTrV8PzzL6599bU3jkYiEcXMiMViasniP1xfVFSQV338RMudd927aO/eikB7iRyJRO0v33ZTybfu//rlgqT51DPPL//lr56q8HjcvcabdF46klrBZpTRWGVD2R2vMwASid4EGgF/fTt1Iym5eyreR0Rwuhya4XS6nE6HMxaLx6LRWMyyLDVsWH7ewrtuv+zR7z80Y+DAHMO2bZMA+/av/GPpk798/LoLp00bqwndEfSHIvv3VxyoqKg41ORvbpEOKcrLx4/+2c9+fM0931w41uEw4kqpiK7r7Ha5nG632+XSHS5d08RFM6ZnPPjAvfNzhwwdGA7F7Krqk3UHjh6ramn1+S2lbGk4hFLMzAxmxpVXzit4+ulffOnyeXPLvS7DFY/FopXHT5w4ePTYMV9ra4u0bS7Oz8/93kMPXPUvj/9gev/+/VymaZFSilwup8PtdrkKhxcMXHjn7Rd4vV4j8VQgmFkopYRgUm7dRS6ny+1wOCT3Mtv2vEpoVsDeFXH0GyaROfi065GS5lSgQaFqu4lAgwJpCSJLg+BwJaR0LMSwLT7/DrnkMwuFwqE5c6/4XVNTS7y4aHjadx6+f/bcS+aUzpp5Ydltt95U991HfrzxSzcuGPHl226aNnx4wQCf3x9dtmzF7n//9xc27K84GLBtmwcNzDHu+8bdF8y/6rIZgwcPyrjhhutnNjQ0hn/71O92pdZuqk1D18UtNy4ozc7KSvP5/KGf/+K3y//r5UW7bdsS6Wnp+mUXXzwgEAxGDUMnpRSXjRvb/757F84qGJY/KBqNmRs3bql48jfPfrBjx85my7I4OztT++rttxbe+IUvzBoyaODAqy6fN+lUTY3vZz97cq9pxhPNMiCllPPmXzbjvWUra956+68nlFJts5BYOSlVuneRGegBlaP2oI3Nf4pi3OccSOsvIDWCUoxgM6NiVRyH1schZGJiDRehYKKG/As0gIDqXTaqtpmIx3puIiORqB2Px3jHzj1Nzzz7/OqcnP7ZEydPHlY+oSy/qHD4oa997Z8m5uXl5oRCYfPVV5ds+OWvnlrX1NQSA9hgZqqqPh599Cf/srOhpcn6ylduuSR/WF6/6667svT9FSurlK06DExqGo0ZNWIAAFRWVTe88OLLO5VSsG2bGmKNsVdff/0kiJSu62RaFr7x9TsmDR82bDAzY8XKNTseevgHf6urqweSIqC2tj762OO/2FFX3xj+1je/fsWgQYP6X3vl5eM3bdpSt3TpX+pSjQcCwZDH43Y98MDXZ23bumPJ8ZMnY+d1kj8Dzrvuo2zG0Y0Wlj8TwaYlMWx/O4otf45h1XMR7F0ehzKTNzKheJqOaTc4UHKRgeLpBi661YncUg0kuohCnjcQmImFEFRdfTJ8qqa2iQjweD3uG264fnTe0CGDNKlh29Ydh//zpT9ubmhoihMl5pmIWAgBn88fe/mVRfs2rN98gEAYUVKYO2/e3EGmaZ4elQAzs93q94dBQLrX65pYPr5fKBS2bKUSrsOkEaqUolEjS9InjC8b4vF4tLraurpf/eqpVbW1dfGEuzTh2kupfi/+58tH3l+xckvcNM2iwsKCi6ZPG0JESoBADBw6dKQyEAgGiouLhvzz3XeMcjgcqZyYXo/zTuiURR9osLF/ZQzb34phz3sxNFVbgGAwMcCAphPyLtCRliWhFAACNCcwbIKE1IAee90xMTNgWbZKT0/TMjIyPABgmnZgxIgSbUB2fw+xwPoPN+49erQyIqWQRCSFECp1aJom9+8/aG/ZvL0yEojEM9Ky0gvyC7LQXpmSwjZtK/bOsvcPRkJhc1h+Xs4PH33oc/fds7CkeHihy7QsWJbFRCQsyxazZl7YL8Ob5iIbWL9uw/5Tp2oUERnJRZRqG1JKPRQM84Yt207W19c1SilFbu7QzAEDBpAGYQtF8Pn8rcuWrdymbCWuvvaK2Z/7h7lDbFv9XUjpHrFOk1IDQp4+SBDa/BmUkMBWnKHU6adMBNhmj5oh7PP7LX8gYOfkDPAuuP7q0WMvGJ0XCYftw4cPN2anp7s8Ho8nFApFDh+tbA2HwzYlxOIZXdZ1nY5VVQfq6mqbNd0hB+cMHpCZleVqf49lWWrp0r9UvbdsxbZ4PG5Pmza55DsP3rvgN7/81zk//dGjE8aPK00PhcO2bdtcVDh8gNPpdAPA9l17a1tafVanJtvMbE3T6NChI6H6+oYgAAwZOiQzf1iuK+XRsJVSL770yp6DBw/XZWVmeO/46m3ThwwZlN7bDMCu0CvcLSkLvb2LyI4xKrda8NcpSD0RTfTX2zi2xYKygJ6wDB2G4Xjh+X+b+/qiFy997ne/nv/FL1w7Kys7y713777K1xa9ccDjcmtC08jna/X7AwFTCPGRIW4iIByJ2LF4PA5muD0ed3p6mqPDJDDj6NHKwPd/+NOVry56Y/nmzVuPmqZFs+bOmnTXHf/0Dz/98aNzrrnqiiGmZaFfVpZH13UDAGpq6xoi0Wj0o/zDQhAaG5vi4VAkBgAZ6WnOzIyMhD1FgLKVqKysDrz8x9fXRiLR+LiysQVfvf3WMjMet7ussBehx/3QXYa4KbHPpWqXCdtmDCyRYCbUHzFxcr8NZfdMWNxwGMbV11wxM9lz+Fp8wVWr1u555ZXFm1esWF3/vYcfkCAGBDmkJj8ug4wBxKUUbLPSIQDIpKtHAxgqma3IGhHpNTW10W99+/vrp0wuP3bRhdMGXXbpxaMmThw/avpFU8dpDs3d2NT4DgkoBSUsWLBsS+8iL6wDpJQaC2iQBAa7pJSGrRRSdqlt21i8+E8VM6ZP23rNlfNmfP7K+WXvr1h9TDN0BU0YJKhXiuseJ3R7sGpn7BGDTeDoVhMn9lpgAFaMQaKnwq2EaDQafem5F5fF43FbKVb19fWhD9dvatqzZ3+rEJKaWprj0ViEM7My0tK8Xt1OsEPgzJwPtm3bzBkwwEhP96ZBAM0tTf76uvowNCJOOt+ZoQHQpJQsJXjT5m316zdsrnt/1Zrq7z/y7dgll8yZUDahtPDaa64cVltXH41EI6bmlLJkROEgr9fbHIvFuozi2bbNBQX56ZlZ6ZkkgcbGxlhjY5OtmEkpBRKkhBAiGAyrF174ry3jRo8akZ+bm3PHV28bt237zipI0omoV+rUvYbQGYMkiqdqSB8oYFvAiT0mju+yEA8zrKTx33NkTsA0LfMnj/18R3NziwkAUgrWdYM0TZKu63To0BGfz+eP5uQMcI0fXzr0b+8ur/H7A6YQZ2h2rOu6VlhYkJWTk+OJhENmVVV1SzAYMD9qdEQEw9AFs6a2bt3R8Oab7+wZPWpEYf6w/IzCgoLclavXngwGQ6H0TK9z6tRJxW+88daR6uoT4a7HYfKokSXpA3NyMsHA8RMnTx0+fDRARB2mlwi0fcfO1jf/8u76++5ZePWkSRNGOBwODyu2uy+DuXvRozp0Ql0kZOcJzLjFiXHzHSi5UMfImTpm3OzCuPkGXOmJxKWUIdnDII/HLdPSvFpamle63W6h6xoRERmGLtZ9sKGmsam5GQAunjOzpKSkyJMMSnSAZVk8dcqk/lMml482DJ3qautrdu/eV6/r+ic+DyIiIQg+nz8WCofjAEM3dOfGTVuPhkKhRhBh8uQJxWPGjHR0sZBg2zYXFxdlTpw4YXh2v2xnQ0Nj9MCBQ7Wtra1nSFwionAkYi9+47/3rV2/advgwYP6TZo4vlh1NahegvNC6C6tYwYIBFcaYdQsA7ljJQxXwlgSAvBkC4y9zIGcIi1B5I/R2HrQ+k4G7EFSSn3dBxsaDu47eMSMx+JFhQV533nw3ktHjx7pEkLYOB28VyNHlqQvXHj79PKJ4wtM08SOnXtOLl++uknTNLJiCsQEKaVT1zUxbVq51+NxU5KcCmClFNujRo3w5g4dnMWQ8Acjjdu27/K9v2rt/lAoGsjKzHZ+56H750+ZMjHL0HWVKAeLme2cnP7O+++5e9Ilc+aMlVLi8NEjR9Z9sKFGSikSWXqnMweTqahyf0VF9NXXFu9ubWmNZWdnedLS0ly9ldPnXOVI6cREifTRxC/afvsNk8gr1UB0ehMAQGAFuNIS6aStJxQiQU7Uldy6xSpxJFfG+UbnDZBMSQf7Dx97YnNBUX5O6dgxI2dcOHXU75/9ddqbb/11z6LX/7xLCCEunTu75Lrrrho3YUJZvmEYYvfuvVUvvPjy3qbm5jgJIigk3ZcknE6nfOihB2eFAn657sONlUuX/mVvmtdrfP7z8yfdeMO1kz1ej3bi+PGWdR9uqLUsk574+W/2l469oGjq1EljxowZVfjsM09+8Y0/Ld319tvv7m1qbglPmVI+9JZbbiibXF422u10GkcOHj750kuvbt21a69P07p8O1DqzfjOX987NWnShA23/uONczRN9Pir8qNwzvKhCac9GJpB8GQJZOUK9B8u0C9fwJMp4UwDNAfBcCWzojtNEytg9MUGii7UYMUZoWZGoFGhscpG83GFpkoFM0YJHftcTjER6HTKSZdDZmYIIehYZWX4J48/ueb+e+7k8WWlRSNHluTdVzh88Df/+c45ACCE0DRd02zFauuW7ceefub3q9es+eC4JqVMruVUkwAAj8ftnDp5QsncubNHP/LdBy4FmKQkXdM02drSGnn33eVbFi9acsThcAi/P2B995EfL//how+radMmjRw6dPCAhXfdPudrd3x5BjNYkpAOzdAU2ThUefjUc8//YfXixX+uTG2+6CKvO5U3Tc3NLdF33nnvwMSJ40eUjh0ztONtvQfnNh+aAW9/QtnlBoZP0WG4OkrojjIOZzCaOUF44Ujkl3qygQFFEoVTDLBKJDPteS+G/avMhD5+TuaXEQwE4z6/3xe343GlulZvUhsApJRYs2Zt/Y4dO5Y8/OC9My++eOao/tnZbk3TNACIm/HYiZOnmlavW3/g6aef23jqVG2AiCQRUTwet/2+QNDn8/v9/kA4Eonab7319h6noXny8/OyNU2TABCNxqLV1Uda3nzrrzte+sNr+0KhkErpyxUVB5vvuvu+P99044Lx1117VdmwYXnZuq7rAKBYWfX1Da3vr1lz8OU/Ltq1ffuuemZISsLn84d8Pr8/EAhEVaeBapom3lu24mRZ2dgPBg8aOC8SiQTD4bApet6u6YBu681TC7bMQeIDL215zcpmFE/TMeFKB7JzJYTeLgmdgLYPGDASEcEOvaF2H1pq8+W1bbxlJNJRT+y2sPL5COLhREhRkobNJ95+97U9P/nApXs/ky2e2AxC0HWdHA5DMDNCoXBKHz7j3s6nHIYhDIchBg4c6Jwwfmw2CUJtbX1k69adLZZpqrhpJvI+k4MTQsDldAopJcVNk+PxmJJSksPhFHl5Q9zjxo3NUsrm41Ungjt37/VZls2WZTF3TGxhIoImpdANg7xejzZ79oyBmpTU0tIaW7tufYNl2TBNU6lUTkhyPG63W0opyYzHVSweP2M3DDND13XhdDoEMxCLRZVpWoo+G6klgP9obm6u/CyVpHBOJTQJ4Ng2C/EIUDxdQ3auhMNN0BwE3UHQdIBkInIlUt84alehAKAUQ9mAMgHLVLDjgBljRIOMU/ttHFpvJsh8DvadpqSuaZpsmubHWkHt9/WlEE+SNhg8Gjpy5GgodZ4ZTG2qBZ0+zYxwJNIhGpcgbYgrKg4FKioOBdrfnCrbFaEs21ZWJIJIJKKWLFl6/GPKtfU70qntzvUSESzLUsGgpT7qnp5G9xmFXaW/EUFZjOO7TRzfZcKdJZA5SCA9R8CbLeDKIBjOhA4tDKC9lykVZLHiDDMCRAKMULNCuJXRWqPgq1Ow4u33wPXG7FwAXXTrLDjQRR2fupIOZXsbAbsb3UdoIhuJT3Dpbefah7UJCLcqhFsUTu5PWPJta4ABCIY8XRJsA8pGUu04rWq0/+1DHzqjO70cLQD2EVFZ4sSZ8rI9MU+76NquJpOO2p0RCV27807jzpsl/q9Lnf8H6LYH2G2BFWauBvA6Et8r+0Sk/JunD3R5dH1vx6MPf7cgJL5X0m1ZfN0ZKfQDWMTMS5Da3dBmc/B5+dcJvVSl/v+N5Ns25bSVSHxS199d9XdrpHD16tVHZs+e/SgzjoDpajBdACDxqSE6DxG9pL7NgM6sdKWU1n7rUR96HsmAKjNznIgOAviAiAKfWPBTortD3wzgIFv0BAhLCRjU1sYnJeh2GwgA1zNzU8qP3IfehSShbWZuVEq1dv482WfBucrl8AHY1P6dz4rOiw6gOn30o7cm0fShD33oQx/60Ic+9OHvFv8DjB8Cn38e2yYAAAAASUVORK5CYII=",
          "x": 0.9119999999999999,
          "xanchor": "right",
          "xref": "x domain",
          "y": 1.05,
          "yanchor": "top",
          "yref": "y domain"
         },
         {
          "sizex": 0.1,
          "sizey": 0.1,
          "source": "data:image/png;base64,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",
          "x": 0.052,
          "xanchor": "right",
          "xref": "x domain",
          "y": 0.6900000000000001,
          "yanchor": "top",
          "yref": "y domain"
         },
         {
          "sizex": 0.1,
          "sizey": 0.1,
          "source": "data:image/png;base64,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",
          "x": 0.22399999999999998,
          "xanchor": "right",
          "xref": "x domain",
          "y": 0.6900000000000001,
          "yanchor": "top",
          "yref": "y domain"
         },
         {
          "sizex": 0.1,
          "sizey": 0.1,
          "source": "data:image/png;base64,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",
          "x": 0.39599999999999996,
          "xanchor": "right",
          "xref": "x domain",
          "y": 0.6900000000000001,
          "yanchor": "top",
          "yref": "y domain"
         },
         {
          "sizex": 0.1,
          "sizey": 0.1,
          "source": "data:image/png;base64,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",
          "x": 0.5680000000000001,
          "xanchor": "right",
          "xref": "x domain",
          "y": 0.6900000000000001,
          "yanchor": "top",
          "yref": "y domain"
         },
         {
          "sizex": 0.1,
          "sizey": 0.1,
          "source": "data:image/png;base64,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",
          "x": 0.74,
          "xanchor": "right",
          "xref": "x domain",
          "y": 0.6900000000000001,
          "yanchor": "top",
          "yref": "y domain"
         },
         {
          "sizex": 0.1,
          "sizey": 0.1,
          "source": "data:image/png;base64,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",
          "x": 0.9119999999999999,
          "xanchor": "right",
          "xref": "x domain",
          "y": 0.6900000000000001,
          "yanchor": "top",
          "yref": "y domain"
         },
         {
          "sizex": 0.1,
          "sizey": 0.1,
          "source": "data:image/png;base64,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",
          "x": 0.052,
          "xanchor": "right",
          "xref": "x domain",
          "y": 0.33000000000000007,
          "yanchor": "top",
          "yref": "y domain"
         },
         {
          "sizex": 0.1,
          "sizey": 0.1,
          "source": "data:image/png;base64,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",
          "x": 0.22399999999999998,
          "xanchor": "right",
          "xref": "x domain",
          "y": 0.33000000000000007,
          "yanchor": "top",
          "yref": "y domain"
         },
         {
          "sizex": 0.1,
          "sizey": 0.1,
          "source": "data:image/png;base64,iVBORw0KGgoAAAANSUhEUgAAALQAAAArCAYAAADR/aKkAAAZ/UlEQVR4nO18eZhV1ZXvb+1zzp1vzfM8UkANUBQg4ACKQ9R01BYlkpho0mob534ao22e2jGxOx2J3XlJP41Jp7X7i7aJIpMgojIpyExBFdRAAUXN8607n3P2en/ce4sSi4jPKiSd+n3f+er7Tp297977/M7aa/322huYxCQmMYlJTGISk5jEJCbxeUATUemyuzfaTRXTWSCbAHUifmNsMAAVJw6v6z6w5bk+VXOQEAJEE9LNSXwx6AD6AAz29/fL8ap0XMm27J6NBKAYjJsIWMLArPGs/3PgfQBbEekfR69JnD8gAAEAzQC2JiUltY0XqcfXejLyADwD4GbwxFj/s4QOsInIwElMEvp8hAagHJH3sw7A0HhUOm6EXvrAxnhT4hYClgAgPks6MwMAgxkgwoh7wHyKg5/LZSCABDGRYCHEuE1lkxh3MAATQAmAeJxvhAaQywJfZ0CJ3SDGn/TSmRlEBItGUBWCLyBH7tttAsxAKMwjz30WmAmCOPZhSCISX7hXk5hIMAAbRnHmi2I8X3giAdMIEQ4TcFYhp91GmF1ux9QCK2JGWTKQn6lhfpUDCW4BPkuH4TTOT0aCfz4YN5dwPAmtALB8ngLMgMshcEmNE6X5VsgYoSWQn2XBJTVOJCeoZ03ov2DQadfZ/u9s/v9nhXMoqX0SETcCiHcpmFZoRygEaApBMkMIIC1RRUmBDWlJCppacdZux3i38XSMRxuYmZjPHGUQERPRmJ/x6WWjrtXoWCFGzFh5eVpZcTZlx2rj6JhkjHacsc3nEl8aoQHAogkUZllg1Qguu0C8S6DPYyLeJZAQp8CiETJSNNitAoHgxMZ3p5P39OD0TEQei/Rj1TNGOSIixHRyKSWklBwpckYygwgQQiFFEdGKCTIC5lilny7H0baQoihCiFOPmKY0pZQcLTZWWYqW5dPvn07oPzkQ5whfMqEJeZkWSAm47AJZaRo8fon0ZA2JbgVsMvIzLXDZBfwBebqPPG6IBKE2JS7OrQpFoYhxIzBHPiJdN2QwEDQDwaCMkS5W1OGwK/Hx8don3UBCOByWPp/fDIVCMkq003+T09PTbfPmzE5MT0+37d63b2jXrt39YxEjOjuRzWYTOTlZ1iuuWJhRXj41BQD39w2K/Qfqhvbvr23r6OjyBQIBjhE0NqspiiIcDrsoKMhzXXXl4qKcnGwXCNzT3Wts2rT1+L79td2BQNA0TTP2AZLVahXx8XEWMMMz7DUCgYB5erOsVquIc7tVVVNpYGAwHA6HzS97EeucEPqUFSMQYcQntloIJbkWMAOpiSqWXpmAIa8Jl0MgOz1C9PxMC1wOga5+jEh7MakPGB8XwO8PyLv/9rtT7vne31zudrtdsR8ypQ4Go6eru2/frv31r7z6ZsPBQ3VDQ0MenYjg9XrNR7//YMV99955jWGY0R4CIEJbW3v7qtXr6v/zv147fPJku+90lykUCpmXL74k47HHHvpKamp63DtrNhx49Imn3jvZ1u4RQmiIxDccK1dUVOC69ZtLK5YuvaHa7rDFEYGkZClIEQSBYCior1y5dv/y5b/88GRbu09RIsKBxWIRCy9ZkH377d+onlNTk29VLXEcHTyhkLj9tm+EP/5417EXXvzd5i1bP+qSUkJVVVq69K/znnrs+9dLKc3X3lyx9YkfPrNvdB9CoTB//ZYlWY88cO9lGRkZaQ8/+sSr//HK74/bbNYvldETTmhmRmyKYx6tOxPiXQoyUzUwGJoFKMzRENHbY8RlpCYKJMUrONYesTjM9Am9WspPqRufv41gWK0WxWlz2J0Wu9Xn8/l1PWxIwQCRkpqakfLV6/MuveTShXPfWrlmz/P/+n+3dHf3hplZWK1W1e6w24P+kOH3+gOGYZhCCJGbm5N737135ufl5qQ++fSz67q7ewCAoh+3tFisxpTSYld6amqqpmooKy1KnF5WmnCyvcMgIsnR6YGIMGtWlfNHTz9+/YwZFflCCPgDAW9PV2/fYO/gcFJqUnxCcmKK3WazT5tWlpuZlWE/0drmFYJJURT66jVX5j/2g4euycnJTpaGlIODnqGOnt4+TVGU9JTkxDi323XFokunlRQV25965h83rFmzvktKSZpmI5vTatM0zXL1lYtnrX373aNbtmwbVBQl6p8zrBaLsNpsNpvVatdUVUTf7v9wQgPITFEx7JcY9p1atLNaCDPK7BjxBGlsa0tEKC+2oeF4GMM+EzF3wGkTSIxXcKIjjPEaQyKiYY/H8+xPl6954bcvtzgcDi4szEtYfNnC4iVLrq8sKynK+sYtN88HSD759D9u4lgXSaC9s6PtmR//bMNbb63pLCzIdz799OMLL7v04qorr7yscu26DbVr177TbpomAyDTNLl6ZmXyzBmV05mEGQ6GkJ2Tk11ZUZ6yfuMHfaPbU1CQ53zsBw9dW11dVWgYprl3z74jv/zXlz58Z9MH3YIEWErjwgvnZ976zZtrFFWxRtwNQAhB5dOnxv/g0Qevzs3JSfH5fMEPNm878MxPln/U2nrCJyWjuLjQ+v2HH6i5fNHCOUUFBYUPP3Tfhe3tnRv376/1xDwoIkJ6emr6PXd/5+KdO3ev/bRbcV64ziOYwIUHjlpU4MJqJ1ITFcioLieIkJeh4SsLXGewrjxyMQOLZjtRmmeBMmLpGTYr4bK5TsR8xfGEbhjS7w+YgUDArK9v6P3lr176+M47739j1+59jU6X03bjDX81a9ElF+ZxtEMxWSAcDpvBYFA2NR/1/uy5X2zzDHuH3G6X/dKFF013OOwqECGIrhtcUlzoLC0pzmo9dqKvvv5Iu93lslWUl6ekpaZqUkZ8d01T6eabriueN29OMTPz7j37jtx6290r1mzY0KWHdQ6FQqwbBm/esq31u3fct+L5f/m3Ta2tJ31CCLJYLOKuu26vyc3JTtZ13Vi9dv2u2797z+qmpiZvKBRmXde5vv7I8H0PPPL+xg827wyHQqGZ5eXlN994Q0l8fJwaG1HTNGUwGNKrZ1YVLbnxa4WhUEjiPJb3JojQEdeAQYhzKijNtyA9WUNktgJUlbBghgMO21iZcLFZ65QsatEIF1Q64LBHmiuIkJKooqzAiuT4cVtkAkc/wlEgACSlRENj88DPlv/iPc+Qx+90OeOWLbup2jTNiAogGSxZVRRFYYYkIj50qL5bmmYYAMXFue0xaYGZ2el0qNPLp6ZlZGa4e3r7ej/eubvR5xkKVVWW51ZVlDuNqEPudru1q65YPEUVitLXNzC0/Oe/2trX1++PSWTRiwAIIYTYt+9gV29vf0AIwUlJCZaFFy8oUoQienr6+p9b/stdRKSMLiuEII9n2PzN717e19HV2cZEvHjxxeU52VkWMBODKBgMhffXHjqWmJjg/va3bplRVFTgMk3TwPlmmqOYQAtNkCahOMeKpHgVBVkW2CxRQitAWYEVYf1PjQkhogoRdD1Sj9VCYACKApTkWBDvUD6xwvhFIeWYhBZEJJiZGpuODhw4WN+happSUJifpGmayoYkmIA0pEMQtGAwENR1w/z2t75ebrNYXCSZjzQ0doTDYRMATNPksiklCTWzqstNZm7v7Opav/G9pq6+3qHsguz8yqrpCYjkOMjpU8tSCgvzi8Cgxsbmrm3bdrQpiqIKEclTEULIKKEVAIoQpMa05ZkzKjOcLleSqUu5b9+hE60n28IALLFy0UtYLBbrO++8P9DY0tJuGoaRlZmempKarIBIYwAhQzc+2r7zeFt752BZaUnpXXfcXqXrusHMp6se5wUmNNeBOeI/u+wCM6fakZ4ccdmJAJdDwcHmAAzjzGwkAiQzGk6EoKkENepyJMUpmFvhgM0akfomGCPppz6f3zzS0NhFRIhzu+1lZVPdDGZmhsvltFxx5WUlTz31+OyfL//JRfd+747FCQlx7vbOzsEtW7c3hUIhSURkmCZn52TZppSVZA4MDATq6g4Pbd22vb29vaPD4XQqlRXTC7Ozs5wAsGDB3AJFCMUwDGPv3to2OtUeAKBQKMQDA4P6wOCpy+PxmMyM2TXVuYoiFNM0jf21da0Y26IyANY0jY4ePeYNBoO6w+JwlBaXpimKIgAGgai9o9OzZs36j2xWq7b40ounXb54YXYoFD4vCT2hQSEjshJo1Qi56RqumOfGGxuHEAwzJDMONARgswhUlNiiStmpMWcGFAE0tYaxq86Pq+a7IQQQ51RwxTw3inMisl5SnHLO5j5dN7ivr98LAIqqKrm5uY6IcsNITk5yfe2rV883DIMdDocCZj5Ud6T1jTdXbz90sL5HSlYBIM7tVmfXVKempae5mhqb27Zv39XZ3d3jO3r0WNec2dXGjKry4imlxXs6O7v8ublZCUIIYUppHG05PihHzR7BYEguW7Yk99prrioxzahkSISBgYHQr3/9H/tS01LcgoRgZqOjq3voDHEGAYAQRN09vQFd100ASEtLi+sbGAzGZFa/3x98a+WaoxctuKByWvm03O/c9s2a3bv3eSTL8y7XfAIJHVUzrARVJUjJmFflwImuMD7a74fHKzHklXjno2EUZlvgtH9ysiACAiGJ9z/2omfQwLBfQjJQNcWGi2uckXRrwbBaxLkYUgLABMjoqgsiqmJk2iUiBAKBcENzc6emakpxcUG6TbOK/379rR3/51cvHkRkJiQpJfJyshwXzZ1dRCa49fjJjo3vfdDFzLRn34GTV1x+6WB+Xn7y1CmliR9t39lFJCQJEdEmT0MwGDQvXXhx/vU3/PVCwIw8w4yOzva+VavfbiSiHiZpkkqwRqJpycxyVMwSWx5nZpaaqlgxkvUWDb5NBpsAQcG+/QdDK1at3VNUXJw8f+6c6UtvvvGwZMkgWEjBeRMmTpDLQSBiEDHChoQZUVRh0QhzpjtABBw5HoLLruBwSwhb9/ohxCmfmZmgKMCeugAOHAnAaRNo7QojbDCqp9phtwmAIll5uinP2WBqFg2paSkuADAMw2hpafHG5Mb+/gH/66+v2PUPP/qndV1dPb1Wi1XMnl2dkpKa4pBSqswsDMNEVlaWo7KiosQIhQ2r1arce99dRU/+8LGaKSXFGWyyYbXalDmzZ5VkZWXYOjq7hxiQilDElNKiJCFOsdHhsCt/eOOthueXP7/in5997s3d23cd1P1B3TQMXygU5qbmox7D1KVQScnLyUzC2BsdGACbppS5OdkJFotmAYDGxoY+XddNSAYkWDIhEAiIN95c3bhn195DqekZcX917VfKc3Ky0hmsQNAXXwwYJ0xoUEgE9A6a8AdPLVvnZmhISVRxqDmIGWV2xDkVbNnjRcvJEES0NUIA7d06tuz1wTCB6ql2HDkegsMuUJJrHdGuw2FGZ59xzoyD0+lUyqaUZjIzhjyeYHNzU4CiPTMMUw4MDHhXrnr76PbtO5u9Xq++eOElsy+YMztORFbtOCkpwXL5oouLXG63U1NVtWZGVdljf/fgtffffcfVt9x04yVpKSnJkBIzZ1YW5eRk2zdv+bDZNKWhqqo6c0ZlVjTDHEBkBXDDhve7H3n0ib3ff/x/7zlUV9cmTdMEgZiZP/zw407TlFJRFKW8alrOmcaImeF2O22lJcXJdrtdHfIMe4+2tHgimjmNGAtVVdHc3BJ4Y+Xq+q6urq4ZVRUVM2ZUFkkpzytfekKDQkHA8Y4wBofNyMIJCDarwLwKB9q6dIR1ib+9ORkXVDrQ1q0DHE3mB9DRa2BKnhX33pICm02g6UQYc8vtSHBHpD4C4A9JNLeGJtxCMzOrqirmz5tTMH361KxAIKjv31/baRiGHP3bJASpqoqXfvvK3oH+wX6X0+m69dalVSnJSRYpJVJSkrWauTWZDMDj9Q7tqa09dLipqaWhqflk09GWzuOtrV3BYFDPL8hLKptSklpXd7inru5wGxFQWlqccdmllxSO8oXZYrGQy+VSVE1TFVUd0UCZGfX1R7ydnd0nFVURM2ZV5i9ctDB9rL6Fw2G57OtLyjIz0zOEEGhsOdoyODQUHmuRS1GEWLVmXcemTVtrbXabVlZWkulwOGzjvQ7wRTChhCYCWk7qONmpI/bBx/Ixhv0Sb28dht0KXDbXiaop9uh8GAkYp+RbceUCNzJSVLy3w4uefgMsEXFfCJBgdPaEcbglNG58VoQAKYqAEpsrYBDB0DRNVpRPi7/rztsvcbtdtp6e3v5XX3vjoKKoEIpgqARFVQKmYYY1TVX3HzjY98G2D5u8QV94wfy51XNmz0q2WCxmTlaWOrOiYkowGAi8v3nLnnvue/i9+x969L0HH35s7QP/6wdv/fiflr9/sqtjwKJqYv68udmKIiyvvvaHnbpp6knJSXEPP3zfogXz52YJIUxEXAhTVVXTZrXpNqfNJhVWiRShKqr0+fzGyrferteDhpEcn5jwvbtuuyAnJ8sWTQE1o5dRVVmR+LWvXVOelpoSFzbCQytWrjnQ3t7pVWgkXBiBqqrc29MbWrFqTdPx1taT6enpce44t/18igsnnNC6LvHhPh+6+w0AQGunjnd3eBHWGSc6dfzXmiGEwgy3Q4ykRzIDTrsAA3h9wxDqjwYhJeO9j71obg1DMsPjk9i0yxfVssfPRBMRORwONS01xZKamqLVzJqZ/tCDdy948YWf31xRMT3P6/X5V7y1ev+uXXvbKeI7cmQfI6L5F0SCCC/8+rc72zu7em02q/22by+bl52dZa+eWVVos1ptPq8v+MGWre3NR1sCTY3N/sNHGr31Rxo9b6xY1dTZ2dlj6gbmVFdPTU1Jsa1ava513fqNB6WUZkXF9Lyf/vRH1z3+2N9dPHVqaWJOdpbj2muuLHnl5X+7YdGii6otVk3x+XyhsK5LwzDk73//x8NbtnzYAIAuXHDB9Fd+98JNt9+2bGZhQb67oCDP9b27vzvnpReev+nCBRdMUVUVb69/t27N2vWt4VDoU24EEYGIWNM0envdhq5Nm7c1BAIBQ1UEnUcGeqJzOSLB4YHGIHYdCmDhbIF3dwyjb9CIrMpJ4Fh7GLVNQSya7QJFA2+KxhhHjgXReDwE3eARq77+w2FkZ2iobQxgV31gXNsKZo5zu91///BD1z/60P0mFGYmFgAJRRFKV1f3wMuvvLrjpd+8vNswDDmSkBz5M5JSSkTi8OHGvv37ak/kZGelLVgwt/S6r149/aIF84pNKeXQkGd47Zp32qwWC0UXRhgABcK6PHiwvrti6rTi7MyM1OKigriDdfVtP/7Jc+8EAoHQ9dddO6uosCD9zjtuS/3O7bcuAABFIUVVFZWI0N7e2f/ir3+3o7b20LAQAifb2v3/8ON/Xvus3W6pmTWzoHx6Wf4Pf/ho1t8//ogBAKoiVE1VVWY233t/y8F/+cULO06cOOnTNE3EkqBPj/aIiExTyj/8cWXT7Jrq4pkzK4sjj43jq/gCmPDkJCKCaTJWbfYgbDBqG4MwTAaBwGAYJsPr+7QsRQB8AYmwcSpNlBmoaw5iw0fD2LrXC92IPfnFIIjg9/v1QY/HwxIytvQoWcLn9wVaT7YPHayt63j9jyv3Hzp0uDcQCJhEREQCPp8vPDTk8QwNebzBYMiMuvdgZrzw4r/vnD27Ojcuzu289qrLc31e7/DevXtrd+/Ze6K7py+oKKc2jwCAxaKJFSvXNpYUFialp6W50jNSrTarlY4dO+598slnN2zZ8lHzt2695YJp00ozSAhBIDJNqff29g19/PGeE6/852s7tu/Y1RPVpYmZ+dChw5577nvkj8tuWVJ9/XXXVqampbiFUBSAYRhm6OjRY13//fqbO994c3VdV3dPCBGZCf5AQPcMeYaCoVA4GAwao4aLNU0V27fvbFu7bsOe+IQ4V0pysj3gDxhjbS441xi3Bix9YOMiRA54+RRifvMpSTWWQM+wWQQun+fEsmsSR+U5ExSFsGqTByveH4LXLzFKscIZpNlIh0igteGd9Qc2L9+mWZxnlejBzNA0VVitttHK2Mj/TGmyaZrQdUPy6KiMGZqmCbvdJkzD5GAoJE3TjOVXcMR9sStEAqZpRHKbQTBMk8PhsDz9/UdSbQVZrRYhhEA4HGbDMEcWL4QQpGmayMxMt1ZVlSc5nQ61qallqLa2zsMsEQ7rctTuk5E6iYhUVSVNVSk3L8deUzMjJRgMmQ0NTUPNzS0+QzfYME05Ot9ZURRht9sEM2NU8v/IKiUzs6ZpItZWvz9gGobxqY0MZwEFwG/6+/uPfd6CY+GcJPjH+niKhKc6bZgcJSxgyFM+NBHgD0jo+qdPrDkTmf//20cwDFMaxhhTxWeWM+TwsFeOvocoAZmZfT6/caayY91jZg4GP+3DAoCUkoPBoHns2InAsWMn2mL3R++IOb3eWHsMw2Bd19HQ0ORraGjyfVZZ0zSld9TUeVq9HOu7YRhneuZLwZd+boVhAn2DJrx+CVUhCIqc0REIMvoGzc9IYPrLw6gPZuQ6WyJ9kbJ/LhhPC20icgDfWWcLEUV2eR/v0LFmiwezptlhswqEdcbBpiDqW4JgBkZv6pzEJP4Uxo3QzDwAoI6IZnyecoIIQz4TqzYNY099AAlxKoZ9Jtq6dQRDPEnmvwyM20seT0KfIKLXAVTgcx7tJIhgmIxj7Tq4TQcosso4Seb/8SAAIURm93HBuPnQr//iCg+A15j5D4julhx9fRYiZ1RE1A1F0HgEGJPO93mI2BEh0UtB5Ehdz3jVP64qx6ZNm5oXLlz4BDPqiHETMcoRnU7kqR1VE4ioHChZYyk1KaUa3W400T88ibNETMlh5jARNQDYRkTD41b/eFU0Gkvuf9elmjRdMDIQ/WgM5VyYTAaRitYj67oPbP5Zn2pxTp7gfx4iesqTCaBXSjk4PDw8eezxJCYxiUlMYhKTmMQkJvEl4f8BB9i8WjDZT5MAAAAASUVORK5CYII=",
          "x": 0.39599999999999996,
          "xanchor": "right",
          "xref": "x domain",
          "y": 0.33000000000000007,
          "yanchor": "top",
          "yref": "y domain"
         },
         {
          "sizex": 0.1,
          "sizey": 0.1,
          "source": "data:image/png;base64,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",
          "x": 0.5680000000000001,
          "xanchor": "right",
          "xref": "x domain",
          "y": 0.33000000000000007,
          "yanchor": "top",
          "yref": "y domain"
         },
         {
          "sizex": 0.1,
          "sizey": 0.1,
          "source": "data:image/png;base64,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",
          "x": 0.74,
          "xanchor": "right",
          "xref": "x domain",
          "y": 0.33000000000000007,
          "yanchor": "top",
          "yref": "y domain"
         },
         {
          "sizex": 0.1,
          "sizey": 0.1,
          "source": "data:image/png;base64,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",
          "x": 0.9119999999999999,
          "xanchor": "right",
          "xref": "x domain",
          "y": 0.33000000000000007,
          "yanchor": "top",
          "yref": "y domain"
         }
        ],
        "polar": {
         "angularaxis": {
          "direction": "clockwise",
          "rotation": 90,
          "thetaunit": "degrees"
         },
         "domain": {
          "x": [
           0,
           0.1388888888888889
          ],
          "y": [
           0.7333333333333333,
           1
          ]
         },
         "gridshape": "linear",
         "radialaxis": {
          "range": [
           0,
           110
          ],
          "visible": false
         }
        },
        "polar10": {
         "angularaxis": {
          "direction": "clockwise",
          "rotation": 90,
          "thetaunit": "degrees"
         },
         "domain": {
          "x": [
           0.5166666666666667,
           0.6555555555555557
          ],
          "y": [
           0.36666666666666664,
           0.6333333333333333
          ]
         },
         "gridshape": "linear",
         "radialaxis": {
          "range": [
           0,
           110
          ],
          "visible": false
         }
        },
        "polar11": {
         "angularaxis": {
          "direction": "clockwise",
          "rotation": 90,
          "thetaunit": "degrees"
         },
         "domain": {
          "x": [
           0.6888888888888889,
           0.8277777777777777
          ],
          "y": [
           0.36666666666666664,
           0.6333333333333333
          ]
         },
         "gridshape": "linear",
         "radialaxis": {
          "range": [
           0,
           110
          ],
          "visible": false
         }
        },
        "polar12": {
         "angularaxis": {
          "direction": "clockwise",
          "rotation": 90,
          "thetaunit": "degrees"
         },
         "domain": {
          "x": [
           0.861111111111111,
           1
          ],
          "y": [
           0.36666666666666664,
           0.6333333333333333
          ]
         },
         "gridshape": "linear",
         "radialaxis": {
          "range": [
           0,
           110
          ],
          "visible": false
         }
        },
        "polar13": {
         "angularaxis": {
          "direction": "clockwise",
          "rotation": 90,
          "thetaunit": "degrees"
         },
         "domain": {
          "x": [
           0,
           0.1388888888888889
          ],
          "y": [
           0,
           0.26666666666666666
          ]
         },
         "gridshape": "linear",
         "radialaxis": {
          "range": [
           0,
           110
          ],
          "visible": false
         }
        },
        "polar14": {
         "angularaxis": {
          "direction": "clockwise",
          "rotation": 90,
          "thetaunit": "degrees"
         },
         "domain": {
          "x": [
           0.17222222222222222,
           0.3111111111111111
          ],
          "y": [
           0,
           0.26666666666666666
          ]
         },
         "gridshape": "linear",
         "radialaxis": {
          "range": [
           0,
           110
          ],
          "visible": false
         }
        },
        "polar15": {
         "angularaxis": {
          "direction": "clockwise",
          "rotation": 90,
          "thetaunit": "degrees"
         },
         "domain": {
          "x": [
           0.34444444444444444,
           0.48333333333333334
          ],
          "y": [
           0,
           0.26666666666666666
          ]
         },
         "gridshape": "linear",
         "radialaxis": {
          "range": [
           0,
           110
          ],
          "visible": false
         }
        },
        "polar16": {
         "angularaxis": {
          "direction": "clockwise",
          "rotation": 90,
          "thetaunit": "degrees"
         },
         "domain": {
          "x": [
           0.5166666666666667,
           0.6555555555555557
          ],
          "y": [
           0,
           0.26666666666666666
          ]
         },
         "gridshape": "linear",
         "radialaxis": {
          "range": [
           0,
           110
          ],
          "visible": false
         }
        },
        "polar17": {
         "angularaxis": {
          "direction": "clockwise",
          "rotation": 90,
          "thetaunit": "degrees"
         },
         "domain": {
          "x": [
           0.6888888888888889,
           0.8277777777777777
          ],
          "y": [
           0,
           0.26666666666666666
          ]
         },
         "gridshape": "linear",
         "radialaxis": {
          "range": [
           0,
           110
          ],
          "visible": false
         }
        },
        "polar18": {
         "angularaxis": {
          "direction": "clockwise",
          "rotation": 90,
          "thetaunit": "degrees"
         },
         "domain": {
          "x": [
           0.861111111111111,
           1
          ],
          "y": [
           0,
           0.26666666666666666
          ]
         },
         "gridshape": "linear",
         "radialaxis": {
          "range": [
           0,
           110
          ],
          "visible": false
         }
        },
        "polar2": {
         "angularaxis": {
          "direction": "clockwise",
          "rotation": 90,
          "thetaunit": "degrees"
         },
         "domain": {
          "x": [
           0.17222222222222222,
           0.3111111111111111
          ],
          "y": [
           0.7333333333333333,
           1
          ]
         },
         "gridshape": "linear",
         "radialaxis": {
          "range": [
           0,
           110
          ],
          "visible": false
         }
        },
        "polar3": {
         "angularaxis": {
          "direction": "clockwise",
          "rotation": 90,
          "thetaunit": "degrees"
         },
         "domain": {
          "x": [
           0.34444444444444444,
           0.48333333333333334
          ],
          "y": [
           0.7333333333333333,
           1
          ]
         },
         "gridshape": "linear",
         "radialaxis": {
          "range": [
           0,
           110
          ],
          "visible": false
         }
        },
        "polar4": {
         "angularaxis": {
          "direction": "clockwise",
          "rotation": 90,
          "thetaunit": "degrees"
         },
         "domain": {
          "x": [
           0.5166666666666667,
           0.6555555555555557
          ],
          "y": [
           0.7333333333333333,
           1
          ]
         },
         "gridshape": "linear",
         "radialaxis": {
          "range": [
           0,
           110
          ],
          "visible": false
         }
        },
        "polar5": {
         "angularaxis": {
          "direction": "clockwise",
          "rotation": 90,
          "thetaunit": "degrees"
         },
         "domain": {
          "x": [
           0.6888888888888889,
           0.8277777777777777
          ],
          "y": [
           0.7333333333333333,
           1
          ]
         },
         "gridshape": "linear",
         "radialaxis": {
          "range": [
           0,
           110
          ],
          "visible": false
         }
        },
        "polar6": {
         "angularaxis": {
          "direction": "clockwise",
          "rotation": 90,
          "thetaunit": "degrees"
         },
         "domain": {
          "x": [
           0.861111111111111,
           1
          ],
          "y": [
           0.7333333333333333,
           1
          ]
         },
         "gridshape": "linear",
         "radialaxis": {
          "range": [
           0,
           110
          ],
          "visible": false
         }
        },
        "polar7": {
         "angularaxis": {
          "direction": "clockwise",
          "rotation": 90,
          "thetaunit": "degrees"
         },
         "domain": {
          "x": [
           0,
           0.1388888888888889
          ],
          "y": [
           0.36666666666666664,
           0.6333333333333333
          ]
         },
         "gridshape": "linear",
         "radialaxis": {
          "range": [
           0,
           110
          ],
          "visible": false
         }
        },
        "polar8": {
         "angularaxis": {
          "direction": "clockwise",
          "rotation": 90,
          "thetaunit": "degrees"
         },
         "domain": {
          "x": [
           0.17222222222222222,
           0.3111111111111111
          ],
          "y": [
           0.36666666666666664,
           0.6333333333333333
          ]
         },
         "gridshape": "linear",
         "radialaxis": {
          "range": [
           0,
           110
          ],
          "visible": false
         }
        },
        "polar9": {
         "angularaxis": {
          "direction": "clockwise",
          "rotation": 90,
          "thetaunit": "degrees"
         },
         "domain": {
          "x": [
           0.34444444444444444,
           0.48333333333333334
          ],
          "y": [
           0.36666666666666664,
           0.6333333333333333
          ]
         },
         "gridshape": "linear",
         "radialaxis": {
          "range": [
           0,
           110
          ],
          "visible": false
         }
        },
        "showlegend": false,
        "template": {
         "data": {
          "bar": [
           {
            "error_x": {
             "color": "#2a3f5f"
            },
            "error_y": {
             "color": "#2a3f5f"
            },
            "marker": {
             "line": {
              "color": "#E5ECF6",
              "width": 0.5
             },
             "pattern": {
              "fillmode": "overlay",
              "size": 10,
              "solidity": 0.2
             }
            },
            "type": "bar"
           }
          ],
          "barpolar": [
           {
            "marker": {
             "line": {
              "color": "#E5ECF6",
              "width": 0.5
             },
             "pattern": {
              "fillmode": "overlay",
              "size": 10,
              "solidity": 0.2
             }
            },
            "type": "barpolar"
           }
          ],
          "carpet": [
           {
            "aaxis": {
             "endlinecolor": "#2a3f5f",
             "gridcolor": "white",
             "linecolor": "white",
             "minorgridcolor": "white",
             "startlinecolor": "#2a3f5f"
            },
            "baxis": {
             "endlinecolor": "#2a3f5f",
             "gridcolor": "white",
             "linecolor": "white",
             "minorgridcolor": "white",
             "startlinecolor": "#2a3f5f"
            },
            "type": "carpet"
           }
          ],
          "choropleth": [
           {
            "colorbar": {
             "outlinewidth": 0,
             "ticks": ""
            },
            "type": "choropleth"
           }
          ],
          "contour": [
           {
            "colorbar": {
             "outlinewidth": 0,
             "ticks": ""
            },
            "colorscale": [
             [
              0,
              "#0d0887"
             ],
             [
              0.1111111111111111,
              "#46039f"
             ],
             [
              0.2222222222222222,
              "#7201a8"
             ],
             [
              0.3333333333333333,
              "#9c179e"
             ],
             [
              0.4444444444444444,
              "#bd3786"
             ],
             [
              0.5555555555555556,
              "#d8576b"
             ],
             [
              0.6666666666666666,
              "#ed7953"
             ],
             [
              0.7777777777777778,
              "#fb9f3a"
             ],
             [
              0.8888888888888888,
              "#fdca26"
             ],
             [
              1,
              "#f0f921"
             ]
            ],
            "type": "contour"
           }
          ],
          "contourcarpet": [
           {
            "colorbar": {
             "outlinewidth": 0,
             "ticks": ""
            },
            "type": "contourcarpet"
           }
          ],
          "heatmap": [
           {
            "colorbar": {
             "outlinewidth": 0,
             "ticks": ""
            },
            "colorscale": [
             [
              0,
              "#0d0887"
             ],
             [
              0.1111111111111111,
              "#46039f"
             ],
             [
              0.2222222222222222,
              "#7201a8"
             ],
             [
              0.3333333333333333,
              "#9c179e"
             ],
             [
              0.4444444444444444,
              "#bd3786"
             ],
             [
              0.5555555555555556,
              "#d8576b"
             ],
             [
              0.6666666666666666,
              "#ed7953"
             ],
             [
              0.7777777777777778,
              "#fb9f3a"
             ],
             [
              0.8888888888888888,
              "#fdca26"
             ],
             [
              1,
              "#f0f921"
             ]
            ],
            "type": "heatmap"
           }
          ],
          "heatmapgl": [
           {
            "colorbar": {
             "outlinewidth": 0,
             "ticks": ""
            },
            "colorscale": [
             [
              0,
              "#0d0887"
             ],
             [
              0.1111111111111111,
              "#46039f"
             ],
             [
              0.2222222222222222,
              "#7201a8"
             ],
             [
              0.3333333333333333,
              "#9c179e"
             ],
             [
              0.4444444444444444,
              "#bd3786"
             ],
             [
              0.5555555555555556,
              "#d8576b"
             ],
             [
              0.6666666666666666,
              "#ed7953"
             ],
             [
              0.7777777777777778,
              "#fb9f3a"
             ],
             [
              0.8888888888888888,
              "#fdca26"
             ],
             [
              1,
              "#f0f921"
             ]
            ],
            "type": "heatmapgl"
           }
          ],
          "histogram": [
           {
            "marker": {
             "pattern": {
              "fillmode": "overlay",
              "size": 10,
              "solidity": 0.2
             }
            },
            "type": "histogram"
           }
          ],
          "histogram2d": [
           {
            "colorbar": {
             "outlinewidth": 0,
             "ticks": ""
            },
            "colorscale": [
             [
              0,
              "#0d0887"
             ],
             [
              0.1111111111111111,
              "#46039f"
             ],
             [
              0.2222222222222222,
              "#7201a8"
             ],
             [
              0.3333333333333333,
              "#9c179e"
             ],
             [
              0.4444444444444444,
              "#bd3786"
             ],
             [
              0.5555555555555556,
              "#d8576b"
             ],
             [
              0.6666666666666666,
              "#ed7953"
             ],
             [
              0.7777777777777778,
              "#fb9f3a"
             ],
             [
              0.8888888888888888,
              "#fdca26"
             ],
             [
              1,
              "#f0f921"
             ]
            ],
            "type": "histogram2d"
           }
          ],
          "histogram2dcontour": [
           {
            "colorbar": {
             "outlinewidth": 0,
             "ticks": ""
            },
            "colorscale": [
             [
              0,
              "#0d0887"
             ],
             [
              0.1111111111111111,
              "#46039f"
             ],
             [
              0.2222222222222222,
              "#7201a8"
             ],
             [
              0.3333333333333333,
              "#9c179e"
             ],
             [
              0.4444444444444444,
              "#bd3786"
             ],
             [
              0.5555555555555556,
              "#d8576b"
             ],
             [
              0.6666666666666666,
              "#ed7953"
             ],
             [
              0.7777777777777778,
              "#fb9f3a"
             ],
             [
              0.8888888888888888,
              "#fdca26"
             ],
             [
              1,
              "#f0f921"
             ]
            ],
            "type": "histogram2dcontour"
           }
          ],
          "mesh3d": [
           {
            "colorbar": {
             "outlinewidth": 0,
             "ticks": ""
            },
            "type": "mesh3d"
           }
          ],
          "parcoords": [
           {
            "line": {
             "colorbar": {
              "outlinewidth": 0,
              "ticks": ""
             }
            },
            "type": "parcoords"
           }
          ],
          "pie": [
           {
            "automargin": true,
            "type": "pie"
           }
          ],
          "scatter": [
           {
            "marker": {
             "colorbar": {
              "outlinewidth": 0,
              "ticks": ""
             }
            },
            "type": "scatter"
           }
          ],
          "scatter3d": [
           {
            "line": {
             "colorbar": {
              "outlinewidth": 0,
              "ticks": ""
             }
            },
            "marker": {
             "colorbar": {
              "outlinewidth": 0,
              "ticks": ""
             }
            },
            "type": "scatter3d"
           }
          ],
          "scattercarpet": [
           {
            "marker": {
             "colorbar": {
              "outlinewidth": 0,
              "ticks": ""
             }
            },
            "type": "scattercarpet"
           }
          ],
          "scattergeo": [
           {
            "marker": {
             "colorbar": {
              "outlinewidth": 0,
              "ticks": ""
             }
            },
            "type": "scattergeo"
           }
          ],
          "scattergl": [
           {
            "marker": {
             "colorbar": {
              "outlinewidth": 0,
              "ticks": ""
             }
            },
            "type": "scattergl"
           }
          ],
          "scattermapbox": [
           {
            "marker": {
             "colorbar": {
              "outlinewidth": 0,
              "ticks": ""
             }
            },
            "type": "scattermapbox"
           }
          ],
          "scatterpolar": [
           {
            "marker": {
             "colorbar": {
              "outlinewidth": 0,
              "ticks": ""
             }
            },
            "type": "scatterpolar"
           }
          ],
          "scatterpolargl": [
           {
            "marker": {
             "colorbar": {
              "outlinewidth": 0,
              "ticks": ""
             }
            },
            "type": "scatterpolargl"
           }
          ],
          "scatterternary": [
           {
            "marker": {
             "colorbar": {
              "outlinewidth": 0,
              "ticks": ""
             }
            },
            "type": "scatterternary"
           }
          ],
          "surface": [
           {
            "colorbar": {
             "outlinewidth": 0,
             "ticks": ""
            },
            "colorscale": [
             [
              0,
              "#0d0887"
             ],
             [
              0.1111111111111111,
              "#46039f"
             ],
             [
              0.2222222222222222,
              "#7201a8"
             ],
             [
              0.3333333333333333,
              "#9c179e"
             ],
             [
              0.4444444444444444,
              "#bd3786"
             ],
             [
              0.5555555555555556,
              "#d8576b"
             ],
             [
              0.6666666666666666,
              "#ed7953"
             ],
             [
              0.7777777777777778,
              "#fb9f3a"
             ],
             [
              0.8888888888888888,
              "#fdca26"
             ],
             [
              1,
              "#f0f921"
             ]
            ],
            "type": "surface"
           }
          ],
          "table": [
           {
            "cells": {
             "fill": {
              "color": "#EBF0F8"
             },
             "line": {
              "color": "white"
             }
            },
            "header": {
             "fill": {
              "color": "#C8D4E3"
             },
             "line": {
              "color": "white"
             }
            },
            "type": "table"
           }
          ]
         },
         "layout": {
          "annotationdefaults": {
           "arrowcolor": "#2a3f5f",
           "arrowhead": 0,
           "arrowwidth": 1
          },
          "autotypenumbers": "strict",
          "coloraxis": {
           "colorbar": {
            "outlinewidth": 0,
            "ticks": ""
           }
          },
          "colorscale": {
           "diverging": [
            [
             0,
             "#8e0152"
            ],
            [
             0.1,
             "#c51b7d"
            ],
            [
             0.2,
             "#de77ae"
            ],
            [
             0.3,
             "#f1b6da"
            ],
            [
             0.4,
             "#fde0ef"
            ],
            [
             0.5,
             "#f7f7f7"
            ],
            [
             0.6,
             "#e6f5d0"
            ],
            [
             0.7,
             "#b8e186"
            ],
            [
             0.8,
             "#7fbc41"
            ],
            [
             0.9,
             "#4d9221"
            ],
            [
             1,
             "#276419"
            ]
           ],
           "sequential": [
            [
             0,
             "#0d0887"
            ],
            [
             0.1111111111111111,
             "#46039f"
            ],
            [
             0.2222222222222222,
             "#7201a8"
            ],
            [
             0.3333333333333333,
             "#9c179e"
            ],
            [
             0.4444444444444444,
             "#bd3786"
            ],
            [
             0.5555555555555556,
             "#d8576b"
            ],
            [
             0.6666666666666666,
             "#ed7953"
            ],
            [
             0.7777777777777778,
             "#fb9f3a"
            ],
            [
             0.8888888888888888,
             "#fdca26"
            ],
            [
             1,
             "#f0f921"
            ]
           ],
           "sequentialminus": [
            [
             0,
             "#0d0887"
            ],
            [
             0.1111111111111111,
             "#46039f"
            ],
            [
             0.2222222222222222,
             "#7201a8"
            ],
            [
             0.3333333333333333,
             "#9c179e"
            ],
            [
             0.4444444444444444,
             "#bd3786"
            ],
            [
             0.5555555555555556,
             "#d8576b"
            ],
            [
             0.6666666666666666,
             "#ed7953"
            ],
            [
             0.7777777777777778,
             "#fb9f3a"
            ],
            [
             0.8888888888888888,
             "#fdca26"
            ],
            [
             1,
             "#f0f921"
            ]
           ]
          },
          "colorway": [
           "#636efa",
           "#EF553B",
           "#00cc96",
           "#ab63fa",
           "#FFA15A",
           "#19d3f3",
           "#FF6692",
           "#B6E880",
           "#FF97FF",
           "#FECB52"
          ],
          "font": {
           "color": "#2a3f5f"
          },
          "geo": {
           "bgcolor": "white",
           "lakecolor": "white",
           "landcolor": "#E5ECF6",
           "showlakes": true,
           "showland": true,
           "subunitcolor": "white"
          },
          "hoverlabel": {
           "align": "left"
          },
          "hovermode": "closest",
          "mapbox": {
           "style": "light"
          },
          "paper_bgcolor": "white",
          "plot_bgcolor": "#E5ECF6",
          "polar": {
           "angularaxis": {
            "gridcolor": "white",
            "linecolor": "white",
            "ticks": ""
           },
           "bgcolor": "#E5ECF6",
           "radialaxis": {
            "gridcolor": "white",
            "linecolor": "white",
            "ticks": ""
           }
          },
          "scene": {
           "xaxis": {
            "backgroundcolor": "#E5ECF6",
            "gridcolor": "white",
            "gridwidth": 2,
            "linecolor": "white",
            "showbackground": true,
            "ticks": "",
            "zerolinecolor": "white"
           },
           "yaxis": {
            "backgroundcolor": "#E5ECF6",
            "gridcolor": "white",
            "gridwidth": 2,
            "linecolor": "white",
            "showbackground": true,
            "ticks": "",
            "zerolinecolor": "white"
           },
           "zaxis": {
            "backgroundcolor": "#E5ECF6",
            "gridcolor": "white",
            "gridwidth": 2,
            "linecolor": "white",
            "showbackground": true,
            "ticks": "",
            "zerolinecolor": "white"
           }
          },
          "shapedefaults": {
           "line": {
            "color": "#2a3f5f"
           }
          },
          "ternary": {
           "aaxis": {
            "gridcolor": "white",
            "linecolor": "white",
            "ticks": ""
           },
           "baxis": {
            "gridcolor": "white",
            "linecolor": "white",
            "ticks": ""
           },
           "bgcolor": "#E5ECF6",
           "caxis": {
            "gridcolor": "white",
            "linecolor": "white",
            "ticks": ""
           }
          },
          "title": {
           "x": 0.05
          },
          "xaxis": {
           "automargin": true,
           "gridcolor": "white",
           "linecolor": "white",
           "ticks": "",
           "title": {
            "standoff": 15
           },
           "zerolinecolor": "white",
           "zerolinewidth": 2
          },
          "yaxis": {
           "automargin": true,
           "gridcolor": "white",
           "linecolor": "white",
           "ticks": "",
           "title": {
            "standoff": 15
           },
           "zerolinecolor": "white",
           "zerolinewidth": 2
          }
         }
        },
        "width": 1500
       }
      }
     },
     "metadata": {},
     "output_type": "display_data"
    }
   ],
   "source": [
    "cols=['HP', 'Attack', 'Defense', 'Speed', 'Sp. Def', 'Sp. Atk']\n",
    "\n",
    "fig = make_subplots(rows=3, cols=6, start_cell=\"top-left\", #subplot_titles=stats['Type1'].unique(),\n",
    "                     specs=[[{\"type\": \"polar\"}, {\"type\": \"polar\"}, {\"type\": \"polar\"}, {\"type\": \"polar\"}, {\"type\": \"polar\"}, {\"type\": \"polar\"}],\n",
    "                            [{\"type\": \"polar\"}, {\"type\": \"polar\"}, {\"type\": \"polar\"}, {\"type\": \"polar\"}, {\"type\": \"polar\"}, {\"type\": \"polar\"}],\n",
    "                            [{\"type\": \"polar\"}, {\"type\": \"polar\"}, {\"type\": \"polar\"}, {\"type\": \"polar\"}, {\"type\": \"polar\"}, {\"type\": \"polar\"}]])\n",
    "\n",
    "Nrow, Ncol = 1, 1\n",
    "colormap = {item : palette.get(type) for item in cols}\n",
    "\n",
    "total = stats[cols].describe().transpose()\n",
    "total = total.append(total.iloc[0])\n",
    "\n",
    "for type in stats['Type1'].unique():\n",
    "    df = stats[(stats['Type1']==type) | (stats['Type2']==type)]\n",
    "    statistics = df[cols].describe().transpose()\n",
    "    statistics = statistics.append(statistics.iloc[0])\n",
    "    statistics = statistics.rename({'Attack': 'Atk', 'Defense':'Def'})\n",
    "    average = df['Total'].mean().round(decimals=1)\n",
    "\n",
    "    fig.add_trace(go.Scatterpolar(\n",
    "                        r=statistics['mean'],\n",
    "                        theta=statistics.index, \n",
    "                        line={'color':palette.get(type)},\n",
    "                        fillcolor=palette.get(type),\n",
    "                        fill='toself',\n",
    "                        name=average,\n",
    "                        marker={'size':0.1},\n",
    "                        hovertemplate=\"%{r:.1f}<extra></extra>\"\n",
    "                    ), row=Nrow, col=Ncol)\n",
    "\n",
    "    # GLOBAL AVERAGE\n",
    "    fig.add_trace(go.Scatterpolar(\n",
    "                        r=total['mean'],\n",
    "                        theta=statistics.index, \n",
    "                        line={'dash':'dash','color':'black'},\n",
    "                        # marker={'size':0.1},\n",
    "                        # hovertemplate=\"%{r:.1f}<extra></extra>\"\n",
    "                    ), row=Nrow, col=Ncol)\n",
    "\n",
    "    # STD UP\n",
    "    # fig.add_trace(go.Scatterpolar(\n",
    "    #                     r=statistics['mean']+statistics['std'],\n",
    "    #                     theta=statistics.index, \n",
    "    #                     line={'dash':'dash','color':'black'},\n",
    "    #                     # marker={'size':0.1},\n",
    "    #                     # hovertemplate=\"%{r:.1f}<extra></extra>\"\n",
    "    #                 ), row=Nrow, col=Ncol)\n",
    "\n",
    "    # STD DOWN\n",
    "    # fig.add_trace(go.Scatterpolar(\n",
    "    #                     r=statistics['mean']-statistics['std'],\n",
    "    #                     theta=statistics.index, \n",
    "    #                     line={'dash':'dash','color':'black'},\n",
    "    #                     # marker={'size':0.1},\n",
    "    #                     # hovertemplate=\"%{r:.1f}<extra></extra>\"\n",
    "    #                 ), row=Nrow, col=Ncol)\n",
    "\n",
    "    # 1st QUARTILE\n",
    "    # fig.add_trace(go.Scatterpolar(\n",
    "    #                     r=statistics['25%'],\n",
    "    #                     theta=statistics.index, \n",
    "    #                     line={'dash':'dash','color':'black'},\n",
    "    #                     # marker={'size':0.1},\n",
    "    #                     # hovertemplate=\"%{r:.1f}<extra></extra>\"\n",
    "    #                 ), row=Nrow, col=Ncol)\n",
    "\n",
    "    # 3rd QUARTILE\n",
    "    # fig.add_trace(go.Scatterpolar(\n",
    "    #                     r=statistics['75%'],\n",
    "    #                     theta=statistics.index, \n",
    "    #                     line={'dash':'dash','color':'black'},\n",
    "    #                     # marker={'size':0.1},\n",
    "    #                     # hovertemplate=\"%{r:.1f}<extra></extra>\"\n",
    "    #                 ), row=Nrow, col=Ncol)\n",
    "\n",
    "    if Ncol!=6:\n",
    "        Ncol+=1\n",
    "    else:\n",
    "        Ncol=1\n",
    "        Nrow+=1\n",
    "\n",
    "sources = [f\"types\\{typ}.png\" for typ in stats['Type1'].unique()]\n",
    "\n",
    "count=0\n",
    "for col, src in enumerate(sources):\n",
    "    fig.add_layout_image(\n",
    "        # row=1,\n",
    "        # col=col + 1,\n",
    "        source=Image.open(sources[col]),\n",
    "        xref=\"x domain\",\n",
    "        yref=\"y domain\",\n",
    "        x=0.052+(col%6)*0.172,\n",
    "        y=1.05-count*0.36,\n",
    "        xanchor=\"right\",\n",
    "        yanchor=\"top\",\n",
    "        sizex=0.1,\n",
    "        sizey=0.1,\n",
    "    )\n",
    "    if col==5 or col==11:\n",
    "        count+=1\n",
    "\n",
    "fig.update_layout(height=700, width=1500, showlegend=False)\n",
    "fig.update_polars(gridshape='linear', \n",
    "                  angularaxis=dict(\n",
    "                       thetaunit=\"degrees\",\n",
    "                       rotation=90,\n",
    "                      direction='clockwise'),\n",
    "                  radialaxis=dict(visible=False,range=[0, 110]))\n",
    "fig.show()"
   ]
  },
  {
   "cell_type": "code",
   "execution_count": 19,
   "metadata": {},
   "outputs": [],
   "source": [
    "stat = {}\n",
    "temp = 0\n",
    "color_count = {\n",
    "    'Black':0,\n",
    "    'Pink':0,\n",
    "    'Yellow':0,\n",
    "    'White':0,\n",
    "    'Purple':0,\n",
    "    'Red':0,\n",
    "    'Gray':0,\n",
    "    'Green':0,\n",
    "    'Brown':0,\n",
    "    'Blue':0\n",
    "}\n",
    "type_count = {\n",
    "    'Grass': 0,\n",
    "    'Fire': 0,\n",
    "    'Water': 0,\n",
    "    'Bug': 0,\n",
    "    'Normal': 0,\n",
    "    'Poison': 0,\n",
    "    'Electric': 0,\n",
    "    'Ground': 0,\n",
    "    'Fairy': 0,\n",
    "    'Fighting': 0,\n",
    "    'Psychic': 0,\n",
    "    'Rock': 0,\n",
    "    'Ghost': 0,\n",
    "    'Ice': 0,\n",
    "    'Dragon': 0,\n",
    "    'Dark': 0,\n",
    "    'Steel': 0,\n",
    "    'Flying': 0,\n",
    "    '': 0\n",
    "}\n",
    "\n",
    "for statistique in cols:\n",
    "    for i in range(898):\n",
    "        temp += int(stats.iloc[i][f'{statistique}']) * int(ranks[ranks['English']==stats.iloc[i]['Name']]['Votes'])\n",
    "        if statistique == \"HP\":\n",
    "            color_count[str(ranks[ranks['English']==stats.iloc[i]['Name']]['Color'].values[0])] += int(ranks[ranks['English']==stats.iloc[i]['Name']]['Votes'])\n",
    "            type_count[str(ranks[ranks['English']==stats.iloc[i]['Name']]['Type1'].values[0])] += int(ranks[ranks['English']==stats.iloc[i]['Name']]['Votes'])\n",
    "            type_count[str(ranks[ranks['English']==stats.iloc[i]['Name']]['Type2'].values[0])] += int(ranks[ranks['English']==stats.iloc[i]['Name']]['Votes'])\n",
    "    stat[statistique]=(temp/total_votes).round(decimals=2)\n",
    "    temp = 0"
   ]
  },
  {
   "cell_type": "code",
   "execution_count": 20,
   "metadata": {},
   "outputs": [],
   "source": [
    "color_count = pd.DataFrame.from_dict(color_count, columns=['count'], orient='index').sort_values(by=\"count\").reset_index().rename(columns={'index':'color'})\n",
    "type_count = pd.DataFrame.from_dict(type_count, columns=['count'], orient='index').sort_values(by=\"count\").reset_index().rename(columns={'index':'type'})#.drop(18,axis=0)"
   ]
  },
  {
   "cell_type": "code",
   "execution_count": 21,
   "metadata": {},
   "outputs": [
    {
     "data": {
      "application/vnd.plotly.v1+json": {
       "config": {
        "plotlyServerURL": "https://plot.ly"
       },
       "data": [
        {
         "customdata": [
          [
           1,
           6,
           8,
           7,
           7,
           2,
           9,
           6
          ],
          [
           11,
           11,
           5,
           5,
           5,
           4,
           6,
           5
          ],
          [
           3,
           5,
           10,
           8,
           19,
           9,
           9,
           12
          ],
          [
           19,
           12,
           10,
           7,
           12,
           3,
           5,
           7
          ],
          [
           23,
           8,
           7,
           14,
           6,
           7,
           10,
           10
          ],
          [
           16,
           12,
           12,
           6,
           21,
           8,
           7,
           4
          ],
          [
           8,
           8,
           16,
           7,
           23,
           3,
           14,
           8
          ],
          [
           9,
           11,
           20,
           13,
           23,
           5,
           6,
           20
          ],
          [
           35,
           12,
           15,
           17,
           13,
           18,
           13,
           10
          ],
          [
           25,
           15,
           32,
           23,
           27,
           13,
           10,
           12
          ]
         ],
         "hovertemplate": "</br>1G: %{customdata[0]}</br>2G: %{customdata[1]}</br>3G: %{customdata[2]}</br>4G: %{customdata[3]}</br>5G: %{customdata[4]}</br>6G: %{customdata[5]}</br>7G: %{customdata[6]}</br>8G: %{customdata[7]}</br><extra></extra>",
         "marker": {
          "color": [
           "black",
           "pink",
           "yellow",
           "white",
           "purple",
           "red",
           "darkgray",
           "green",
           "brown",
           "blue"
          ]
         },
         "offsetgroup": "2",
         "text": [
          46,
          52,
          75,
          75,
          85,
          86,
          87,
          107,
          133,
          157
         ],
         "textposition": "outside",
         "type": "bar",
         "x": [
          "Black",
          "Pink",
          "White",
          "Yellow",
          "Purple",
          "Red",
          "Gray",
          "Green",
          "Brown",
          "Blue"
         ],
         "y": [
          46,
          52,
          75,
          75,
          85,
          86,
          87,
          107,
          133,
          157
         ],
         "yaxis": "y2"
        },
        {
         "hovertemplate": "%{y} votes<extra></extra>",
         "marker": {
          "color": [
           "pink",
           "black",
           "darkgray",
           "white",
           "yellow",
           "purple",
           "red",
           "brown",
           "green",
           "blue"
          ],
          "line": {
           "color": [
            "pink",
            "black",
            "darkgray",
            "white",
            "yellow",
            "purple",
            "red",
            "brown",
            "green",
            "blue"
           ],
           "width": 1
          },
          "pattern": {
           "fillmode": "replace",
           "shape": ".",
           "size": 0.5
          }
         },
         "offsetgroup": "1",
         "type": "bar",
         "x": [
          "Pink",
          "Black",
          "Gray",
          "Yellow",
          "White",
          "Purple",
          "Red",
          "Brown",
          "Green",
          "Blue"
         ],
         "y": [
          4260,
          8575,
          8780,
          11139,
          11254,
          12563,
          14668,
          15751,
          17124,
          29562
         ],
         "yaxis": "y"
        }
       ],
       "layout": {
        "barmode": "group",
        "height": 700,
        "showlegend": false,
        "template": {
         "data": {
          "bar": [
           {
            "error_x": {
             "color": "#2a3f5f"
            },
            "error_y": {
             "color": "#2a3f5f"
            },
            "marker": {
             "line": {
              "color": "#E5ECF6",
              "width": 0.5
             },
             "pattern": {
              "fillmode": "overlay",
              "size": 10,
              "solidity": 0.2
             }
            },
            "type": "bar"
           }
          ],
          "barpolar": [
           {
            "marker": {
             "line": {
              "color": "#E5ECF6",
              "width": 0.5
             },
             "pattern": {
              "fillmode": "overlay",
              "size": 10,
              "solidity": 0.2
             }
            },
            "type": "barpolar"
           }
          ],
          "carpet": [
           {
            "aaxis": {
             "endlinecolor": "#2a3f5f",
             "gridcolor": "white",
             "linecolor": "white",
             "minorgridcolor": "white",
             "startlinecolor": "#2a3f5f"
            },
            "baxis": {
             "endlinecolor": "#2a3f5f",
             "gridcolor": "white",
             "linecolor": "white",
             "minorgridcolor": "white",
             "startlinecolor": "#2a3f5f"
            },
            "type": "carpet"
           }
          ],
          "choropleth": [
           {
            "colorbar": {
             "outlinewidth": 0,
             "ticks": ""
            },
            "type": "choropleth"
           }
          ],
          "contour": [
           {
            "colorbar": {
             "outlinewidth": 0,
             "ticks": ""
            },
            "colorscale": [
             [
              0,
              "#0d0887"
             ],
             [
              0.1111111111111111,
              "#46039f"
             ],
             [
              0.2222222222222222,
              "#7201a8"
             ],
             [
              0.3333333333333333,
              "#9c179e"
             ],
             [
              0.4444444444444444,
              "#bd3786"
             ],
             [
              0.5555555555555556,
              "#d8576b"
             ],
             [
              0.6666666666666666,
              "#ed7953"
             ],
             [
              0.7777777777777778,
              "#fb9f3a"
             ],
             [
              0.8888888888888888,
              "#fdca26"
             ],
             [
              1,
              "#f0f921"
             ]
            ],
            "type": "contour"
           }
          ],
          "contourcarpet": [
           {
            "colorbar": {
             "outlinewidth": 0,
             "ticks": ""
            },
            "type": "contourcarpet"
           }
          ],
          "heatmap": [
           {
            "colorbar": {
             "outlinewidth": 0,
             "ticks": ""
            },
            "colorscale": [
             [
              0,
              "#0d0887"
             ],
             [
              0.1111111111111111,
              "#46039f"
             ],
             [
              0.2222222222222222,
              "#7201a8"
             ],
             [
              0.3333333333333333,
              "#9c179e"
             ],
             [
              0.4444444444444444,
              "#bd3786"
             ],
             [
              0.5555555555555556,
              "#d8576b"
             ],
             [
              0.6666666666666666,
              "#ed7953"
             ],
             [
              0.7777777777777778,
              "#fb9f3a"
             ],
             [
              0.8888888888888888,
              "#fdca26"
             ],
             [
              1,
              "#f0f921"
             ]
            ],
            "type": "heatmap"
           }
          ],
          "heatmapgl": [
           {
            "colorbar": {
             "outlinewidth": 0,
             "ticks": ""
            },
            "colorscale": [
             [
              0,
              "#0d0887"
             ],
             [
              0.1111111111111111,
              "#46039f"
             ],
             [
              0.2222222222222222,
              "#7201a8"
             ],
             [
              0.3333333333333333,
              "#9c179e"
             ],
             [
              0.4444444444444444,
              "#bd3786"
             ],
             [
              0.5555555555555556,
              "#d8576b"
             ],
             [
              0.6666666666666666,
              "#ed7953"
             ],
             [
              0.7777777777777778,
              "#fb9f3a"
             ],
             [
              0.8888888888888888,
              "#fdca26"
             ],
             [
              1,
              "#f0f921"
             ]
            ],
            "type": "heatmapgl"
           }
          ],
          "histogram": [
           {
            "marker": {
             "pattern": {
              "fillmode": "overlay",
              "size": 10,
              "solidity": 0.2
             }
            },
            "type": "histogram"
           }
          ],
          "histogram2d": [
           {
            "colorbar": {
             "outlinewidth": 0,
             "ticks": ""
            },
            "colorscale": [
             [
              0,
              "#0d0887"
             ],
             [
              0.1111111111111111,
              "#46039f"
             ],
             [
              0.2222222222222222,
              "#7201a8"
             ],
             [
              0.3333333333333333,
              "#9c179e"
             ],
             [
              0.4444444444444444,
              "#bd3786"
             ],
             [
              0.5555555555555556,
              "#d8576b"
             ],
             [
              0.6666666666666666,
              "#ed7953"
             ],
             [
              0.7777777777777778,
              "#fb9f3a"
             ],
             [
              0.8888888888888888,
              "#fdca26"
             ],
             [
              1,
              "#f0f921"
             ]
            ],
            "type": "histogram2d"
           }
          ],
          "histogram2dcontour": [
           {
            "colorbar": {
             "outlinewidth": 0,
             "ticks": ""
            },
            "colorscale": [
             [
              0,
              "#0d0887"
             ],
             [
              0.1111111111111111,
              "#46039f"
             ],
             [
              0.2222222222222222,
              "#7201a8"
             ],
             [
              0.3333333333333333,
              "#9c179e"
             ],
             [
              0.4444444444444444,
              "#bd3786"
             ],
             [
              0.5555555555555556,
              "#d8576b"
             ],
             [
              0.6666666666666666,
              "#ed7953"
             ],
             [
              0.7777777777777778,
              "#fb9f3a"
             ],
             [
              0.8888888888888888,
              "#fdca26"
             ],
             [
              1,
              "#f0f921"
             ]
            ],
            "type": "histogram2dcontour"
           }
          ],
          "mesh3d": [
           {
            "colorbar": {
             "outlinewidth": 0,
             "ticks": ""
            },
            "type": "mesh3d"
           }
          ],
          "parcoords": [
           {
            "line": {
             "colorbar": {
              "outlinewidth": 0,
              "ticks": ""
             }
            },
            "type": "parcoords"
           }
          ],
          "pie": [
           {
            "automargin": true,
            "type": "pie"
           }
          ],
          "scatter": [
           {
            "marker": {
             "colorbar": {
              "outlinewidth": 0,
              "ticks": ""
             }
            },
            "type": "scatter"
           }
          ],
          "scatter3d": [
           {
            "line": {
             "colorbar": {
              "outlinewidth": 0,
              "ticks": ""
             }
            },
            "marker": {
             "colorbar": {
              "outlinewidth": 0,
              "ticks": ""
             }
            },
            "type": "scatter3d"
           }
          ],
          "scattercarpet": [
           {
            "marker": {
             "colorbar": {
              "outlinewidth": 0,
              "ticks": ""
             }
            },
            "type": "scattercarpet"
           }
          ],
          "scattergeo": [
           {
            "marker": {
             "colorbar": {
              "outlinewidth": 0,
              "ticks": ""
             }
            },
            "type": "scattergeo"
           }
          ],
          "scattergl": [
           {
            "marker": {
             "colorbar": {
              "outlinewidth": 0,
              "ticks": ""
             }
            },
            "type": "scattergl"
           }
          ],
          "scattermapbox": [
           {
            "marker": {
             "colorbar": {
              "outlinewidth": 0,
              "ticks": ""
             }
            },
            "type": "scattermapbox"
           }
          ],
          "scatterpolar": [
           {
            "marker": {
             "colorbar": {
              "outlinewidth": 0,
              "ticks": ""
             }
            },
            "type": "scatterpolar"
           }
          ],
          "scatterpolargl": [
           {
            "marker": {
             "colorbar": {
              "outlinewidth": 0,
              "ticks": ""
             }
            },
            "type": "scatterpolargl"
           }
          ],
          "scatterternary": [
           {
            "marker": {
             "colorbar": {
              "outlinewidth": 0,
              "ticks": ""
             }
            },
            "type": "scatterternary"
           }
          ],
          "surface": [
           {
            "colorbar": {
             "outlinewidth": 0,
             "ticks": ""
            },
            "colorscale": [
             [
              0,
              "#0d0887"
             ],
             [
              0.1111111111111111,
              "#46039f"
             ],
             [
              0.2222222222222222,
              "#7201a8"
             ],
             [
              0.3333333333333333,
              "#9c179e"
             ],
             [
              0.4444444444444444,
              "#bd3786"
             ],
             [
              0.5555555555555556,
              "#d8576b"
             ],
             [
              0.6666666666666666,
              "#ed7953"
             ],
             [
              0.7777777777777778,
              "#fb9f3a"
             ],
             [
              0.8888888888888888,
              "#fdca26"
             ],
             [
              1,
              "#f0f921"
             ]
            ],
            "type": "surface"
           }
          ],
          "table": [
           {
            "cells": {
             "fill": {
              "color": "#EBF0F8"
             },
             "line": {
              "color": "white"
             }
            },
            "header": {
             "fill": {
              "color": "#C8D4E3"
             },
             "line": {
              "color": "white"
             }
            },
            "type": "table"
           }
          ]
         },
         "layout": {
          "annotationdefaults": {
           "arrowcolor": "#2a3f5f",
           "arrowhead": 0,
           "arrowwidth": 1
          },
          "autotypenumbers": "strict",
          "coloraxis": {
           "colorbar": {
            "outlinewidth": 0,
            "ticks": ""
           }
          },
          "colorscale": {
           "diverging": [
            [
             0,
             "#8e0152"
            ],
            [
             0.1,
             "#c51b7d"
            ],
            [
             0.2,
             "#de77ae"
            ],
            [
             0.3,
             "#f1b6da"
            ],
            [
             0.4,
             "#fde0ef"
            ],
            [
             0.5,
             "#f7f7f7"
            ],
            [
             0.6,
             "#e6f5d0"
            ],
            [
             0.7,
             "#b8e186"
            ],
            [
             0.8,
             "#7fbc41"
            ],
            [
             0.9,
             "#4d9221"
            ],
            [
             1,
             "#276419"
            ]
           ],
           "sequential": [
            [
             0,
             "#0d0887"
            ],
            [
             0.1111111111111111,
             "#46039f"
            ],
            [
             0.2222222222222222,
             "#7201a8"
            ],
            [
             0.3333333333333333,
             "#9c179e"
            ],
            [
             0.4444444444444444,
             "#bd3786"
            ],
            [
             0.5555555555555556,
             "#d8576b"
            ],
            [
             0.6666666666666666,
             "#ed7953"
            ],
            [
             0.7777777777777778,
             "#fb9f3a"
            ],
            [
             0.8888888888888888,
             "#fdca26"
            ],
            [
             1,
             "#f0f921"
            ]
           ],
           "sequentialminus": [
            [
             0,
             "#0d0887"
            ],
            [
             0.1111111111111111,
             "#46039f"
            ],
            [
             0.2222222222222222,
             "#7201a8"
            ],
            [
             0.3333333333333333,
             "#9c179e"
            ],
            [
             0.4444444444444444,
             "#bd3786"
            ],
            [
             0.5555555555555556,
             "#d8576b"
            ],
            [
             0.6666666666666666,
             "#ed7953"
            ],
            [
             0.7777777777777778,
             "#fb9f3a"
            ],
            [
             0.8888888888888888,
             "#fdca26"
            ],
            [
             1,
             "#f0f921"
            ]
           ]
          },
          "colorway": [
           "#636efa",
           "#EF553B",
           "#00cc96",
           "#ab63fa",
           "#FFA15A",
           "#19d3f3",
           "#FF6692",
           "#B6E880",
           "#FF97FF",
           "#FECB52"
          ],
          "font": {
           "color": "#2a3f5f"
          },
          "geo": {
           "bgcolor": "white",
           "lakecolor": "white",
           "landcolor": "#E5ECF6",
           "showlakes": true,
           "showland": true,
           "subunitcolor": "white"
          },
          "hoverlabel": {
           "align": "left"
          },
          "hovermode": "closest",
          "mapbox": {
           "style": "light"
          },
          "paper_bgcolor": "white",
          "plot_bgcolor": "#E5ECF6",
          "polar": {
           "angularaxis": {
            "gridcolor": "white",
            "linecolor": "white",
            "ticks": ""
           },
           "bgcolor": "#E5ECF6",
           "radialaxis": {
            "gridcolor": "white",
            "linecolor": "white",
            "ticks": ""
           }
          },
          "scene": {
           "xaxis": {
            "backgroundcolor": "#E5ECF6",
            "gridcolor": "white",
            "gridwidth": 2,
            "linecolor": "white",
            "showbackground": true,
            "ticks": "",
            "zerolinecolor": "white"
           },
           "yaxis": {
            "backgroundcolor": "#E5ECF6",
            "gridcolor": "white",
            "gridwidth": 2,
            "linecolor": "white",
            "showbackground": true,
            "ticks": "",
            "zerolinecolor": "white"
           },
           "zaxis": {
            "backgroundcolor": "#E5ECF6",
            "gridcolor": "white",
            "gridwidth": 2,
            "linecolor": "white",
            "showbackground": true,
            "ticks": "",
            "zerolinecolor": "white"
           }
          },
          "shapedefaults": {
           "line": {
            "color": "#2a3f5f"
           }
          },
          "ternary": {
           "aaxis": {
            "gridcolor": "white",
            "linecolor": "white",
            "ticks": ""
           },
           "baxis": {
            "gridcolor": "white",
            "linecolor": "white",
            "ticks": ""
           },
           "bgcolor": "#E5ECF6",
           "caxis": {
            "gridcolor": "white",
            "linecolor": "white",
            "ticks": ""
           }
          },
          "title": {
           "x": 0.05
          },
          "xaxis": {
           "automargin": true,
           "gridcolor": "white",
           "linecolor": "white",
           "ticks": "",
           "title": {
            "standoff": 15
           },
           "zerolinecolor": "white",
           "zerolinewidth": 2
          },
          "yaxis": {
           "automargin": true,
           "gridcolor": "white",
           "linecolor": "white",
           "ticks": "",
           "title": {
            "standoff": 15
           },
           "zerolinecolor": "white",
           "zerolinewidth": 2
          }
         }
        },
        "xaxis": {
         "anchor": "y",
         "domain": [
          0,
          0.94
         ],
         "title": {
          "text": "Pokémon color frequency accross all Generations"
         }
        },
        "yaxis": {
         "anchor": "x",
         "domain": [
          0,
          1
         ],
         "range": [
          0,
          30000
         ],
         "title": {
          "text": "Nombre de votes par couleur de Pokémon"
         }
        },
        "yaxis2": {
         "anchor": "x",
         "overlaying": "y",
         "range": [
          0,
          200
         ],
         "side": "right",
         "title": {
          "text": "Nombre de Pokémons par couleur"
         }
        }
       }
      }
     },
     "metadata": {},
     "output_type": "display_data"
    }
   ],
   "source": [
    "fig = make_subplots(specs=[[{\"secondary_y\": True}]])\n",
    "\n",
    "fig.add_trace(go.Bar(y=color_freq['freq'],\n",
    "                     x=color_freq['color'],\n",
    "                     marker_color=['black',\n",
    "                                'pink',\n",
    "                                'yellow',\n",
    "                                'white',\n",
    "                                'purple',\n",
    "                                'red',\n",
    "                                'darkgray',\n",
    "                                'green',\n",
    "                                'brown',\n",
    "                                'blue'],\n",
    "                     yaxis='y2',\n",
    "                     offsetgroup=2,\n",
    "                     text=color_freq['freq'],\n",
    "                     textposition='outside',\n",
    "                     customdata=color_freq[gen_columns],\n",
    "                     hovertemplate=\"</br>1G: %{customdata[0]}</br>\" +\n",
    "                                   \"2G: %{customdata[1]}</br>\" +\n",
    "                                   \"3G: %{customdata[2]}</br>\" +\n",
    "                                   \"4G: %{customdata[3]}</br>\" +\n",
    "                                   \"5G: %{customdata[4]}</br>\" +\n",
    "                                   \"6G: %{customdata[5]}</br>\" +\n",
    "                                   \"7G: %{customdata[6]}</br>\" +\n",
    "                                   \"8G: %{customdata[7]}</br>\" +\n",
    "                                   \"<extra></extra>\"\n",
    "                    ))\n",
    "\n",
    "fig.add_trace(go.Bar(y=color_count['count'],\n",
    "                     x=color_count['color'],\n",
    "                     marker={\"pattern_fillmode\":\"replace\",\n",
    "                             \"line\":{\"width\":1},\n",
    "                             \"line_color\":['pink',\n",
    "                                'black',\n",
    "                                'darkgray',\n",
    "                                'white',\n",
    "                                'yellow',\n",
    "                                'purple',\n",
    "                                'red',\n",
    "                                'brown',\n",
    "                                'green',\n",
    "                                'blue']},\n",
    "                     marker_pattern_shape=\".\",\n",
    "                     marker_pattern_size=0.5,\n",
    "                     marker_color=['pink',\n",
    "                                'black',\n",
    "                                'darkgray',\n",
    "                                'white',\n",
    "                                'yellow',\n",
    "                                'purple',\n",
    "                                'red',\n",
    "                                'brown',\n",
    "                                'green',\n",
    "                                'blue'],\n",
    "                     yaxis='y',\n",
    "                     offsetgroup=1,\n",
    "                     hovertemplate=\"%{y} votes<extra></extra>\"\n",
    "                     ))\n",
    "\n",
    "fig.update_layout(height=700,\n",
    "                  yaxis={'title':'Nombre de votes par couleur de Pokémon', 'range':[0,30000]},\n",
    "                  yaxis2={'title':'Nombre de Pokémons par couleur', 'range':[0,200]},\n",
    "                  showlegend=False,\n",
    "                  barmode='group',\n",
    "                  xaxis={'title': 'Pokémon color frequency accross all Generations'})\n",
    "fig.show()"
   ]
  },
  {
   "cell_type": "code",
   "execution_count": 22,
   "metadata": {},
   "outputs": [
    {
     "data": {
      "application/vnd.plotly.v1+json": {
       "config": {
        "plotlyServerURL": "https://plot.ly"
       },
       "data": [
        {
         "customdata": [
          [
           5,
           5,
           6,
           6,
           7,
           4,
           1,
           7
          ],
          [
           3,
           1,
           6,
           8,
           9,
           8,
           8,
           9
          ],
          [
           2,
           4,
           9,
           10,
           11,
           5,
           8,
           5
          ],
          [
           5,
           8,
           5,
           2,
           2,
           13,
           12,
           8
          ],
          [
           0,
           6,
           10,
           7,
           16,
           5,
           2,
           10
          ],
          [
           3,
           1,
           9,
           6,
           10,
           9,
           7,
           11
          ],
          [
           9,
           8,
           4,
           7,
           11,
           3,
           6,
           9
          ],
          [
           8,
           3,
           7,
           7,
           15,
           4,
           10,
           8
          ],
          [
           11,
           7,
           12,
           7,
           10,
           8,
           5,
           6
          ],
          [
           14,
           10,
           13,
           10,
           11,
           2,
           4,
           4
          ],
          [
           12,
           10,
           6,
           5,
           15,
           7,
           9,
           7
          ],
          [
           33,
           4,
           5,
           8,
           7,
           2,
           7,
           5
          ],
          [
           12,
           10,
           14,
           9,
           17,
           4,
           11,
           8
          ],
          [
           13,
           10,
           20,
           10,
           15,
           6,
           8,
           9
          ],
          [
           19,
           19,
           12,
           14,
           18,
           8,
           8,
           5
          ],
          [
           14,
           9,
           18,
           14,
           20,
           9,
           13,
           10
          ],
          [
           22,
           15,
           18,
           16,
           18,
           8,
           12,
           8
          ],
          [
           32,
           18,
           28,
           14,
           17,
           8,
           14,
           11
          ]
         ],
         "hovertemplate": "</br>1G: %{customdata[0]}</br>2G: %{customdata[1]}</br>3G: %{customdata[2]}</br>4G: %{customdata[3]}</br>5G: %{customdata[4]}</br>6G: %{customdata[5]}</br>7G: %{customdata[6]}</br>8G: %{customdata[7]}</br><extra></extra>",
         "marker": {
          "color": [
           "#19D3F3",
           "#4C3B7A",
           "#778AAE",
           "#E49DCF",
           "#222A2A",
           "#1616A7",
           "#EECA3B",
           "#FF7818",
           "#A38B5B",
           "#B68100",
           "#FD3216",
           "#9E38AD",
           "#90AD1C",
           "#F261A7",
           "#72B7B2",
           "#2CA02C",
           "#BAB0AC",
           "#0071FF"
          ]
         },
         "offsetgroup": "2",
         "text": [
          41,
          52,
          54,
          55,
          56,
          56,
          57,
          62,
          66,
          68,
          71,
          71,
          85,
          91,
          103,
          107,
          117,
          142
         ],
         "textposition": "outside",
         "type": "bar",
         "x": [
          "Ice",
          "Ghost",
          "Steel",
          "Fairy",
          "Dark",
          "Dragon",
          "Electric",
          "Fighting",
          "Rock",
          "Ground",
          "Fire",
          "Poison",
          "Bug",
          "Psychic",
          "Flying",
          "Grass",
          "Normal",
          "Water"
         ],
         "y": [
          41,
          52,
          54,
          55,
          56,
          56,
          57,
          62,
          66,
          68,
          71,
          71,
          85,
          91,
          103,
          107,
          117,
          142
         ],
         "yaxis": "y2"
        },
        {
         "hovertemplate": "%{y} votes<extra></extra>",
         "marker": {
          "color": [
           "#19D3F3",
           "#A38B5B",
           "#90AD1C",
           "#E49DCF",
           "#9E38AD",
           "#EECA3B",
           "#BAB0AC",
           "#FF7818",
           "#4C3B7A",
           "#778AAE",
           "#B68100",
           "#F261A7",
           "#2CA02C",
           "#222A2A",
           "#FD3216",
           "#1616A7",
           "#72B7B2",
           "#0071FF"
          ],
          "line": {
           "color": [
            "#19D3F3",
            "#A38B5B",
            "#90AD1C",
            "#E49DCF",
            "#9E38AD",
            "#EECA3B",
            "#BAB0AC",
            "#FF7818",
            "#4C3B7A",
            "#778AAE",
            "#B68100",
            "#F261A7",
            "#2CA02C",
            "#222A2A",
            "#FD3216",
            "#1616A7",
            "#72B7B2",
            "#0071FF"
           ],
           "width": 1
          },
          "pattern": {
           "fillmode": "replace",
           "shape": ".",
           "size": 0.5
          }
         },
         "offsetgroup": "1",
         "type": "bar",
         "x": [
          "Ice",
          "Rock",
          "Bug",
          "Fairy",
          "Poison",
          "Electric",
          "Normal",
          "Fighting",
          "Ghost",
          "Steel",
          "Ground",
          "Psychic",
          "Grass",
          "Dark",
          "Fire",
          "Dragon",
          "Flying",
          "Water"
         ],
         "y": [
          4751,
          6566,
          7071,
          7686,
          8901,
          8935,
          9741,
          10667,
          11827,
          13054,
          13144,
          13300,
          13554,
          14191,
          16258,
          16304,
          18689,
          20195
         ],
         "yaxis": "y"
        }
       ],
       "layout": {
        "barmode": "group",
        "height": 700,
        "showlegend": false,
        "template": {
         "data": {
          "bar": [
           {
            "error_x": {
             "color": "#2a3f5f"
            },
            "error_y": {
             "color": "#2a3f5f"
            },
            "marker": {
             "line": {
              "color": "#E5ECF6",
              "width": 0.5
             },
             "pattern": {
              "fillmode": "overlay",
              "size": 10,
              "solidity": 0.2
             }
            },
            "type": "bar"
           }
          ],
          "barpolar": [
           {
            "marker": {
             "line": {
              "color": "#E5ECF6",
              "width": 0.5
             },
             "pattern": {
              "fillmode": "overlay",
              "size": 10,
              "solidity": 0.2
             }
            },
            "type": "barpolar"
           }
          ],
          "carpet": [
           {
            "aaxis": {
             "endlinecolor": "#2a3f5f",
             "gridcolor": "white",
             "linecolor": "white",
             "minorgridcolor": "white",
             "startlinecolor": "#2a3f5f"
            },
            "baxis": {
             "endlinecolor": "#2a3f5f",
             "gridcolor": "white",
             "linecolor": "white",
             "minorgridcolor": "white",
             "startlinecolor": "#2a3f5f"
            },
            "type": "carpet"
           }
          ],
          "choropleth": [
           {
            "colorbar": {
             "outlinewidth": 0,
             "ticks": ""
            },
            "type": "choropleth"
           }
          ],
          "contour": [
           {
            "colorbar": {
             "outlinewidth": 0,
             "ticks": ""
            },
            "colorscale": [
             [
              0,
              "#0d0887"
             ],
             [
              0.1111111111111111,
              "#46039f"
             ],
             [
              0.2222222222222222,
              "#7201a8"
             ],
             [
              0.3333333333333333,
              "#9c179e"
             ],
             [
              0.4444444444444444,
              "#bd3786"
             ],
             [
              0.5555555555555556,
              "#d8576b"
             ],
             [
              0.6666666666666666,
              "#ed7953"
             ],
             [
              0.7777777777777778,
              "#fb9f3a"
             ],
             [
              0.8888888888888888,
              "#fdca26"
             ],
             [
              1,
              "#f0f921"
             ]
            ],
            "type": "contour"
           }
          ],
          "contourcarpet": [
           {
            "colorbar": {
             "outlinewidth": 0,
             "ticks": ""
            },
            "type": "contourcarpet"
           }
          ],
          "heatmap": [
           {
            "colorbar": {
             "outlinewidth": 0,
             "ticks": ""
            },
            "colorscale": [
             [
              0,
              "#0d0887"
             ],
             [
              0.1111111111111111,
              "#46039f"
             ],
             [
              0.2222222222222222,
              "#7201a8"
             ],
             [
              0.3333333333333333,
              "#9c179e"
             ],
             [
              0.4444444444444444,
              "#bd3786"
             ],
             [
              0.5555555555555556,
              "#d8576b"
             ],
             [
              0.6666666666666666,
              "#ed7953"
             ],
             [
              0.7777777777777778,
              "#fb9f3a"
             ],
             [
              0.8888888888888888,
              "#fdca26"
             ],
             [
              1,
              "#f0f921"
             ]
            ],
            "type": "heatmap"
           }
          ],
          "heatmapgl": [
           {
            "colorbar": {
             "outlinewidth": 0,
             "ticks": ""
            },
            "colorscale": [
             [
              0,
              "#0d0887"
             ],
             [
              0.1111111111111111,
              "#46039f"
             ],
             [
              0.2222222222222222,
              "#7201a8"
             ],
             [
              0.3333333333333333,
              "#9c179e"
             ],
             [
              0.4444444444444444,
              "#bd3786"
             ],
             [
              0.5555555555555556,
              "#d8576b"
             ],
             [
              0.6666666666666666,
              "#ed7953"
             ],
             [
              0.7777777777777778,
              "#fb9f3a"
             ],
             [
              0.8888888888888888,
              "#fdca26"
             ],
             [
              1,
              "#f0f921"
             ]
            ],
            "type": "heatmapgl"
           }
          ],
          "histogram": [
           {
            "marker": {
             "pattern": {
              "fillmode": "overlay",
              "size": 10,
              "solidity": 0.2
             }
            },
            "type": "histogram"
           }
          ],
          "histogram2d": [
           {
            "colorbar": {
             "outlinewidth": 0,
             "ticks": ""
            },
            "colorscale": [
             [
              0,
              "#0d0887"
             ],
             [
              0.1111111111111111,
              "#46039f"
             ],
             [
              0.2222222222222222,
              "#7201a8"
             ],
             [
              0.3333333333333333,
              "#9c179e"
             ],
             [
              0.4444444444444444,
              "#bd3786"
             ],
             [
              0.5555555555555556,
              "#d8576b"
             ],
             [
              0.6666666666666666,
              "#ed7953"
             ],
             [
              0.7777777777777778,
              "#fb9f3a"
             ],
             [
              0.8888888888888888,
              "#fdca26"
             ],
             [
              1,
              "#f0f921"
             ]
            ],
            "type": "histogram2d"
           }
          ],
          "histogram2dcontour": [
           {
            "colorbar": {
             "outlinewidth": 0,
             "ticks": ""
            },
            "colorscale": [
             [
              0,
              "#0d0887"
             ],
             [
              0.1111111111111111,
              "#46039f"
             ],
             [
              0.2222222222222222,
              "#7201a8"
             ],
             [
              0.3333333333333333,
              "#9c179e"
             ],
             [
              0.4444444444444444,
              "#bd3786"
             ],
             [
              0.5555555555555556,
              "#d8576b"
             ],
             [
              0.6666666666666666,
              "#ed7953"
             ],
             [
              0.7777777777777778,
              "#fb9f3a"
             ],
             [
              0.8888888888888888,
              "#fdca26"
             ],
             [
              1,
              "#f0f921"
             ]
            ],
            "type": "histogram2dcontour"
           }
          ],
          "mesh3d": [
           {
            "colorbar": {
             "outlinewidth": 0,
             "ticks": ""
            },
            "type": "mesh3d"
           }
          ],
          "parcoords": [
           {
            "line": {
             "colorbar": {
              "outlinewidth": 0,
              "ticks": ""
             }
            },
            "type": "parcoords"
           }
          ],
          "pie": [
           {
            "automargin": true,
            "type": "pie"
           }
          ],
          "scatter": [
           {
            "marker": {
             "colorbar": {
              "outlinewidth": 0,
              "ticks": ""
             }
            },
            "type": "scatter"
           }
          ],
          "scatter3d": [
           {
            "line": {
             "colorbar": {
              "outlinewidth": 0,
              "ticks": ""
             }
            },
            "marker": {
             "colorbar": {
              "outlinewidth": 0,
              "ticks": ""
             }
            },
            "type": "scatter3d"
           }
          ],
          "scattercarpet": [
           {
            "marker": {
             "colorbar": {
              "outlinewidth": 0,
              "ticks": ""
             }
            },
            "type": "scattercarpet"
           }
          ],
          "scattergeo": [
           {
            "marker": {
             "colorbar": {
              "outlinewidth": 0,
              "ticks": ""
             }
            },
            "type": "scattergeo"
           }
          ],
          "scattergl": [
           {
            "marker": {
             "colorbar": {
              "outlinewidth": 0,
              "ticks": ""
             }
            },
            "type": "scattergl"
           }
          ],
          "scattermapbox": [
           {
            "marker": {
             "colorbar": {
              "outlinewidth": 0,
              "ticks": ""
             }
            },
            "type": "scattermapbox"
           }
          ],
          "scatterpolar": [
           {
            "marker": {
             "colorbar": {
              "outlinewidth": 0,
              "ticks": ""
             }
            },
            "type": "scatterpolar"
           }
          ],
          "scatterpolargl": [
           {
            "marker": {
             "colorbar": {
              "outlinewidth": 0,
              "ticks": ""
             }
            },
            "type": "scatterpolargl"
           }
          ],
          "scatterternary": [
           {
            "marker": {
             "colorbar": {
              "outlinewidth": 0,
              "ticks": ""
             }
            },
            "type": "scatterternary"
           }
          ],
          "surface": [
           {
            "colorbar": {
             "outlinewidth": 0,
             "ticks": ""
            },
            "colorscale": [
             [
              0,
              "#0d0887"
             ],
             [
              0.1111111111111111,
              "#46039f"
             ],
             [
              0.2222222222222222,
              "#7201a8"
             ],
             [
              0.3333333333333333,
              "#9c179e"
             ],
             [
              0.4444444444444444,
              "#bd3786"
             ],
             [
              0.5555555555555556,
              "#d8576b"
             ],
             [
              0.6666666666666666,
              "#ed7953"
             ],
             [
              0.7777777777777778,
              "#fb9f3a"
             ],
             [
              0.8888888888888888,
              "#fdca26"
             ],
             [
              1,
              "#f0f921"
             ]
            ],
            "type": "surface"
           }
          ],
          "table": [
           {
            "cells": {
             "fill": {
              "color": "#EBF0F8"
             },
             "line": {
              "color": "white"
             }
            },
            "header": {
             "fill": {
              "color": "#C8D4E3"
             },
             "line": {
              "color": "white"
             }
            },
            "type": "table"
           }
          ]
         },
         "layout": {
          "annotationdefaults": {
           "arrowcolor": "#2a3f5f",
           "arrowhead": 0,
           "arrowwidth": 1
          },
          "autotypenumbers": "strict",
          "coloraxis": {
           "colorbar": {
            "outlinewidth": 0,
            "ticks": ""
           }
          },
          "colorscale": {
           "diverging": [
            [
             0,
             "#8e0152"
            ],
            [
             0.1,
             "#c51b7d"
            ],
            [
             0.2,
             "#de77ae"
            ],
            [
             0.3,
             "#f1b6da"
            ],
            [
             0.4,
             "#fde0ef"
            ],
            [
             0.5,
             "#f7f7f7"
            ],
            [
             0.6,
             "#e6f5d0"
            ],
            [
             0.7,
             "#b8e186"
            ],
            [
             0.8,
             "#7fbc41"
            ],
            [
             0.9,
             "#4d9221"
            ],
            [
             1,
             "#276419"
            ]
           ],
           "sequential": [
            [
             0,
             "#0d0887"
            ],
            [
             0.1111111111111111,
             "#46039f"
            ],
            [
             0.2222222222222222,
             "#7201a8"
            ],
            [
             0.3333333333333333,
             "#9c179e"
            ],
            [
             0.4444444444444444,
             "#bd3786"
            ],
            [
             0.5555555555555556,
             "#d8576b"
            ],
            [
             0.6666666666666666,
             "#ed7953"
            ],
            [
             0.7777777777777778,
             "#fb9f3a"
            ],
            [
             0.8888888888888888,
             "#fdca26"
            ],
            [
             1,
             "#f0f921"
            ]
           ],
           "sequentialminus": [
            [
             0,
             "#0d0887"
            ],
            [
             0.1111111111111111,
             "#46039f"
            ],
            [
             0.2222222222222222,
             "#7201a8"
            ],
            [
             0.3333333333333333,
             "#9c179e"
            ],
            [
             0.4444444444444444,
             "#bd3786"
            ],
            [
             0.5555555555555556,
             "#d8576b"
            ],
            [
             0.6666666666666666,
             "#ed7953"
            ],
            [
             0.7777777777777778,
             "#fb9f3a"
            ],
            [
             0.8888888888888888,
             "#fdca26"
            ],
            [
             1,
             "#f0f921"
            ]
           ]
          },
          "colorway": [
           "#636efa",
           "#EF553B",
           "#00cc96",
           "#ab63fa",
           "#FFA15A",
           "#19d3f3",
           "#FF6692",
           "#B6E880",
           "#FF97FF",
           "#FECB52"
          ],
          "font": {
           "color": "#2a3f5f"
          },
          "geo": {
           "bgcolor": "white",
           "lakecolor": "white",
           "landcolor": "#E5ECF6",
           "showlakes": true,
           "showland": true,
           "subunitcolor": "white"
          },
          "hoverlabel": {
           "align": "left"
          },
          "hovermode": "closest",
          "mapbox": {
           "style": "light"
          },
          "paper_bgcolor": "white",
          "plot_bgcolor": "#E5ECF6",
          "polar": {
           "angularaxis": {
            "gridcolor": "white",
            "linecolor": "white",
            "ticks": ""
           },
           "bgcolor": "#E5ECF6",
           "radialaxis": {
            "gridcolor": "white",
            "linecolor": "white",
            "ticks": ""
           }
          },
          "scene": {
           "xaxis": {
            "backgroundcolor": "#E5ECF6",
            "gridcolor": "white",
            "gridwidth": 2,
            "linecolor": "white",
            "showbackground": true,
            "ticks": "",
            "zerolinecolor": "white"
           },
           "yaxis": {
            "backgroundcolor": "#E5ECF6",
            "gridcolor": "white",
            "gridwidth": 2,
            "linecolor": "white",
            "showbackground": true,
            "ticks": "",
            "zerolinecolor": "white"
           },
           "zaxis": {
            "backgroundcolor": "#E5ECF6",
            "gridcolor": "white",
            "gridwidth": 2,
            "linecolor": "white",
            "showbackground": true,
            "ticks": "",
            "zerolinecolor": "white"
           }
          },
          "shapedefaults": {
           "line": {
            "color": "#2a3f5f"
           }
          },
          "ternary": {
           "aaxis": {
            "gridcolor": "white",
            "linecolor": "white",
            "ticks": ""
           },
           "baxis": {
            "gridcolor": "white",
            "linecolor": "white",
            "ticks": ""
           },
           "bgcolor": "#E5ECF6",
           "caxis": {
            "gridcolor": "white",
            "linecolor": "white",
            "ticks": ""
           }
          },
          "title": {
           "x": 0.05
          },
          "xaxis": {
           "automargin": true,
           "gridcolor": "white",
           "linecolor": "white",
           "ticks": "",
           "title": {
            "standoff": 15
           },
           "zerolinecolor": "white",
           "zerolinewidth": 2
          },
          "yaxis": {
           "automargin": true,
           "gridcolor": "white",
           "linecolor": "white",
           "ticks": "",
           "title": {
            "standoff": 15
           },
           "zerolinecolor": "white",
           "zerolinewidth": 2
          }
         }
        },
        "xaxis": {
         "anchor": "y",
         "domain": [
          0,
          0.94
         ],
         "title": {
          "text": "Pokémon color frequency accross all Generations"
         }
        },
        "yaxis": {
         "anchor": "x",
         "domain": [
          0,
          1
         ],
         "range": [
          0,
          21000
         ],
         "title": {
          "text": "Nombre de votes par couleur de Pokémon"
         }
        },
        "yaxis2": {
         "anchor": "x",
         "overlaying": "y",
         "range": [
          0,
          150
         ],
         "side": "right",
         "title": {
          "text": "Nombre de Pokémons par couleur"
         }
        }
       }
      }
     },
     "metadata": {},
     "output_type": "display_data"
    }
   ],
   "source": [
    "alternate_palette=['#19D3F3','#4C3B7A','#778AAE','#E49DCF','#222A2A','#1616A7','#EECA3B','#FF7818','#A38B5B','#B68100','#FD3216','#9E38AD','#90AD1C','#F261A7','#72B7B2','#2CA02C','#BAB0AC','#0071FF']\n",
    "alternate_palette2=['#19D3F3','#A38B5B','#90AD1C','#E49DCF','#9E38AD','#EECA3B','#BAB0AC','#FF7818','#4C3B7A','#778AAE','#B68100','#F261A7','#2CA02C','#222A2A','#FD3216','#1616A7','#72B7B2','#0071FF']\n",
    "\n",
    "fig = make_subplots(specs=[[{\"secondary_y\": True}]])\n",
    "\n",
    "fig.add_trace(go.Bar(y=type_freq['freq'],\n",
    "                     x=type_freq['type'],\n",
    "                     marker_color=alternate_palette,\n",
    "                    yaxis='y2',\n",
    "                     offsetgroup=2,\n",
    "                     text=type_freq['freq'],\n",
    "                     textposition='outside',\n",
    "                     customdata=type_freq[gen_columns],\n",
    "                     hovertemplate=\"</br>1G: %{customdata[0]}</br>\" +\n",
    "                                   \"2G: %{customdata[1]}</br>\" +\n",
    "                                   \"3G: %{customdata[2]}</br>\" +\n",
    "                                   \"4G: %{customdata[3]}</br>\" +\n",
    "                                   \"5G: %{customdata[4]}</br>\" +\n",
    "                                   \"6G: %{customdata[5]}</br>\" +\n",
    "                                   \"7G: %{customdata[6]}</br>\" +\n",
    "                                   \"8G: %{customdata[7]}</br>\" +\n",
    "                                   \"<extra></extra>\"\n",
    "                    ))\n",
    "\n",
    "fig.add_trace(go.Bar(y=type_count.iloc[0:18]['count'],\n",
    "                     x=type_count.iloc[0:18]['type'],\n",
    "                     marker={\"pattern_fillmode\":\"replace\",\n",
    "                             \"line\":{\"width\":1},\n",
    "                             \"line_color\":alternate_palette2},\n",
    "                     marker_pattern_shape=\".\",\n",
    "                     marker_pattern_size=0.5,\n",
    "                     marker_color=alternate_palette2,\n",
    "                     yaxis='y',\n",
    "                     offsetgroup=1,\n",
    "                     hovertemplate=\"%{y} votes<extra></extra>\"\n",
    "                     ))\n",
    "\n",
    "fig.update_layout(height=700,\n",
    "                  yaxis={'title':'Nombre de votes par couleur de Pokémon', 'range':[0,21000]},\n",
    "                  yaxis2={'title':'Nombre de Pokémons par couleur', 'range':[0,150]},\n",
    "                  showlegend=False,\n",
    "                  barmode='group',\n",
    "                  xaxis={'title': 'Pokémon color frequency accross all Generations'})\n",
    "fig.show()"
   ]
  },
  {
   "cell_type": "code",
   "execution_count": 23,
   "metadata": {},
   "outputs": [
    {
     "data": {
      "application/vnd.plotly.v1+json": {
       "config": {
        "plotlyServerURL": "https://plot.ly"
       },
       "data": [
        {
         "domain": {
          "x": [
           0,
           0.5
          ],
          "y": [
           0.1,
           0.7
          ]
         },
         "hole": 0.4,
         "hovertemplate": "<extra></extra>",
         "labels": [
          "Légendaires",
          "Non Légendaires"
         ],
         "marker": {
          "colors": [
           "lightgray",
           "darkblue"
          ],
          "line": {
           "color": "#000000",
           "width": 2
          }
         },
         "name": "Votes",
         "opacity": 0.9,
         "textfont": {
          "size": 20
         },
         "type": "pie",
         "values": [
          110573,
          23103
         ]
        },
        {
         "domain": {
          "x": [
           0.5,
           1
          ],
          "y": [
           0.1,
           0.7
          ]
         },
         "hole": 0.4,
         "hovertemplate": "<extra></extra>",
         "labels": [
          "Légendaires",
          "Non Légendaires"
         ],
         "marker": {
          "colors": [
           "lightgray",
           "darkblue"
          ],
          "line": {
           "color": "#000000",
           "width": 2
          }
         },
         "name": "Pokédex",
         "opacity": 0.9,
         "textfont": {
          "size": 20
         },
         "type": "pie",
         "values": [
          819,
          79
         ]
        }
       ],
       "layout": {
        "annotations": [
         {
          "bgcolor": "rgba(255,255,255,0.85)",
          "bordercolor": "#c7c7c7",
          "borderpad": 4,
          "borderwidth": 2,
          "font": {
           "size": 20
          },
          "showarrow": false,
          "text": "Votes",
          "x": 0.25,
          "xanchor": "center",
          "xref": "paper",
          "y": 0.36,
          "yanchor": "bottom",
          "yref": "paper"
         },
         {
          "bgcolor": "rgba(255,255,255,0.85)",
          "bordercolor": "#c7c7c7",
          "borderpad": 4,
          "borderwidth": 2,
          "font": {
           "size": 20
          },
          "showarrow": false,
          "text": "Pokédex",
          "x": 0.75,
          "xanchor": "center",
          "xref": "paper",
          "y": 0.36,
          "yanchor": "bottom",
          "yref": "paper"
         }
        ],
        "height": 488.75,
        "images": [
         {
          "layer": "below",
          "opacity": 0.65,
          "sizex": 870.4,
          "sizey": 488.75,
          "sizing": "stretch",
          "source": "legendary.png",
          "x": 0,
          "xref": "x",
          "y": 488.75,
          "yref": "y"
         }
        ],
        "legend": {
         "bgcolor": "rgba(255,255,255,0.85)",
         "bordercolor": "#c7c7c7",
         "borderwidth": 2,
         "title": {
          "text": "Les Pokémons légendaires sont cools"
         },
         "x": 0.35,
         "xanchor": "left",
         "y": 0.9,
         "yanchor": "top"
        },
        "margin": {
         "b": 0,
         "l": 0,
         "r": 0,
         "t": 0
        },
        "template": {
         "data": {
          "bar": [
           {
            "error_x": {
             "color": "#2a3f5f"
            },
            "error_y": {
             "color": "#2a3f5f"
            },
            "marker": {
             "line": {
              "color": "#E5ECF6",
              "width": 0.5
             },
             "pattern": {
              "fillmode": "overlay",
              "size": 10,
              "solidity": 0.2
             }
            },
            "type": "bar"
           }
          ],
          "barpolar": [
           {
            "marker": {
             "line": {
              "color": "#E5ECF6",
              "width": 0.5
             },
             "pattern": {
              "fillmode": "overlay",
              "size": 10,
              "solidity": 0.2
             }
            },
            "type": "barpolar"
           }
          ],
          "carpet": [
           {
            "aaxis": {
             "endlinecolor": "#2a3f5f",
             "gridcolor": "white",
             "linecolor": "white",
             "minorgridcolor": "white",
             "startlinecolor": "#2a3f5f"
            },
            "baxis": {
             "endlinecolor": "#2a3f5f",
             "gridcolor": "white",
             "linecolor": "white",
             "minorgridcolor": "white",
             "startlinecolor": "#2a3f5f"
            },
            "type": "carpet"
           }
          ],
          "choropleth": [
           {
            "colorbar": {
             "outlinewidth": 0,
             "ticks": ""
            },
            "type": "choropleth"
           }
          ],
          "contour": [
           {
            "colorbar": {
             "outlinewidth": 0,
             "ticks": ""
            },
            "colorscale": [
             [
              0,
              "#0d0887"
             ],
             [
              0.1111111111111111,
              "#46039f"
             ],
             [
              0.2222222222222222,
              "#7201a8"
             ],
             [
              0.3333333333333333,
              "#9c179e"
             ],
             [
              0.4444444444444444,
              "#bd3786"
             ],
             [
              0.5555555555555556,
              "#d8576b"
             ],
             [
              0.6666666666666666,
              "#ed7953"
             ],
             [
              0.7777777777777778,
              "#fb9f3a"
             ],
             [
              0.8888888888888888,
              "#fdca26"
             ],
             [
              1,
              "#f0f921"
             ]
            ],
            "type": "contour"
           }
          ],
          "contourcarpet": [
           {
            "colorbar": {
             "outlinewidth": 0,
             "ticks": ""
            },
            "type": "contourcarpet"
           }
          ],
          "heatmap": [
           {
            "colorbar": {
             "outlinewidth": 0,
             "ticks": ""
            },
            "colorscale": [
             [
              0,
              "#0d0887"
             ],
             [
              0.1111111111111111,
              "#46039f"
             ],
             [
              0.2222222222222222,
              "#7201a8"
             ],
             [
              0.3333333333333333,
              "#9c179e"
             ],
             [
              0.4444444444444444,
              "#bd3786"
             ],
             [
              0.5555555555555556,
              "#d8576b"
             ],
             [
              0.6666666666666666,
              "#ed7953"
             ],
             [
              0.7777777777777778,
              "#fb9f3a"
             ],
             [
              0.8888888888888888,
              "#fdca26"
             ],
             [
              1,
              "#f0f921"
             ]
            ],
            "type": "heatmap"
           }
          ],
          "heatmapgl": [
           {
            "colorbar": {
             "outlinewidth": 0,
             "ticks": ""
            },
            "colorscale": [
             [
              0,
              "#0d0887"
             ],
             [
              0.1111111111111111,
              "#46039f"
             ],
             [
              0.2222222222222222,
              "#7201a8"
             ],
             [
              0.3333333333333333,
              "#9c179e"
             ],
             [
              0.4444444444444444,
              "#bd3786"
             ],
             [
              0.5555555555555556,
              "#d8576b"
             ],
             [
              0.6666666666666666,
              "#ed7953"
             ],
             [
              0.7777777777777778,
              "#fb9f3a"
             ],
             [
              0.8888888888888888,
              "#fdca26"
             ],
             [
              1,
              "#f0f921"
             ]
            ],
            "type": "heatmapgl"
           }
          ],
          "histogram": [
           {
            "marker": {
             "pattern": {
              "fillmode": "overlay",
              "size": 10,
              "solidity": 0.2
             }
            },
            "type": "histogram"
           }
          ],
          "histogram2d": [
           {
            "colorbar": {
             "outlinewidth": 0,
             "ticks": ""
            },
            "colorscale": [
             [
              0,
              "#0d0887"
             ],
             [
              0.1111111111111111,
              "#46039f"
             ],
             [
              0.2222222222222222,
              "#7201a8"
             ],
             [
              0.3333333333333333,
              "#9c179e"
             ],
             [
              0.4444444444444444,
              "#bd3786"
             ],
             [
              0.5555555555555556,
              "#d8576b"
             ],
             [
              0.6666666666666666,
              "#ed7953"
             ],
             [
              0.7777777777777778,
              "#fb9f3a"
             ],
             [
              0.8888888888888888,
              "#fdca26"
             ],
             [
              1,
              "#f0f921"
             ]
            ],
            "type": "histogram2d"
           }
          ],
          "histogram2dcontour": [
           {
            "colorbar": {
             "outlinewidth": 0,
             "ticks": ""
            },
            "colorscale": [
             [
              0,
              "#0d0887"
             ],
             [
              0.1111111111111111,
              "#46039f"
             ],
             [
              0.2222222222222222,
              "#7201a8"
             ],
             [
              0.3333333333333333,
              "#9c179e"
             ],
             [
              0.4444444444444444,
              "#bd3786"
             ],
             [
              0.5555555555555556,
              "#d8576b"
             ],
             [
              0.6666666666666666,
              "#ed7953"
             ],
             [
              0.7777777777777778,
              "#fb9f3a"
             ],
             [
              0.8888888888888888,
              "#fdca26"
             ],
             [
              1,
              "#f0f921"
             ]
            ],
            "type": "histogram2dcontour"
           }
          ],
          "mesh3d": [
           {
            "colorbar": {
             "outlinewidth": 0,
             "ticks": ""
            },
            "type": "mesh3d"
           }
          ],
          "parcoords": [
           {
            "line": {
             "colorbar": {
              "outlinewidth": 0,
              "ticks": ""
             }
            },
            "type": "parcoords"
           }
          ],
          "pie": [
           {
            "automargin": true,
            "type": "pie"
           }
          ],
          "scatter": [
           {
            "marker": {
             "colorbar": {
              "outlinewidth": 0,
              "ticks": ""
             }
            },
            "type": "scatter"
           }
          ],
          "scatter3d": [
           {
            "line": {
             "colorbar": {
              "outlinewidth": 0,
              "ticks": ""
             }
            },
            "marker": {
             "colorbar": {
              "outlinewidth": 0,
              "ticks": ""
             }
            },
            "type": "scatter3d"
           }
          ],
          "scattercarpet": [
           {
            "marker": {
             "colorbar": {
              "outlinewidth": 0,
              "ticks": ""
             }
            },
            "type": "scattercarpet"
           }
          ],
          "scattergeo": [
           {
            "marker": {
             "colorbar": {
              "outlinewidth": 0,
              "ticks": ""
             }
            },
            "type": "scattergeo"
           }
          ],
          "scattergl": [
           {
            "marker": {
             "colorbar": {
              "outlinewidth": 0,
              "ticks": ""
             }
            },
            "type": "scattergl"
           }
          ],
          "scattermapbox": [
           {
            "marker": {
             "colorbar": {
              "outlinewidth": 0,
              "ticks": ""
             }
            },
            "type": "scattermapbox"
           }
          ],
          "scatterpolar": [
           {
            "marker": {
             "colorbar": {
              "outlinewidth": 0,
              "ticks": ""
             }
            },
            "type": "scatterpolar"
           }
          ],
          "scatterpolargl": [
           {
            "marker": {
             "colorbar": {
              "outlinewidth": 0,
              "ticks": ""
             }
            },
            "type": "scatterpolargl"
           }
          ],
          "scatterternary": [
           {
            "marker": {
             "colorbar": {
              "outlinewidth": 0,
              "ticks": ""
             }
            },
            "type": "scatterternary"
           }
          ],
          "surface": [
           {
            "colorbar": {
             "outlinewidth": 0,
             "ticks": ""
            },
            "colorscale": [
             [
              0,
              "#0d0887"
             ],
             [
              0.1111111111111111,
              "#46039f"
             ],
             [
              0.2222222222222222,
              "#7201a8"
             ],
             [
              0.3333333333333333,
              "#9c179e"
             ],
             [
              0.4444444444444444,
              "#bd3786"
             ],
             [
              0.5555555555555556,
              "#d8576b"
             ],
             [
              0.6666666666666666,
              "#ed7953"
             ],
             [
              0.7777777777777778,
              "#fb9f3a"
             ],
             [
              0.8888888888888888,
              "#fdca26"
             ],
             [
              1,
              "#f0f921"
             ]
            ],
            "type": "surface"
           }
          ],
          "table": [
           {
            "cells": {
             "fill": {
              "color": "#EBF0F8"
             },
             "line": {
              "color": "white"
             }
            },
            "header": {
             "fill": {
              "color": "#C8D4E3"
             },
             "line": {
              "color": "white"
             }
            },
            "type": "table"
           }
          ]
         },
         "layout": {
          "annotationdefaults": {
           "arrowcolor": "#2a3f5f",
           "arrowhead": 0,
           "arrowwidth": 1
          },
          "autotypenumbers": "strict",
          "coloraxis": {
           "colorbar": {
            "outlinewidth": 0,
            "ticks": ""
           }
          },
          "colorscale": {
           "diverging": [
            [
             0,
             "#8e0152"
            ],
            [
             0.1,
             "#c51b7d"
            ],
            [
             0.2,
             "#de77ae"
            ],
            [
             0.3,
             "#f1b6da"
            ],
            [
             0.4,
             "#fde0ef"
            ],
            [
             0.5,
             "#f7f7f7"
            ],
            [
             0.6,
             "#e6f5d0"
            ],
            [
             0.7,
             "#b8e186"
            ],
            [
             0.8,
             "#7fbc41"
            ],
            [
             0.9,
             "#4d9221"
            ],
            [
             1,
             "#276419"
            ]
           ],
           "sequential": [
            [
             0,
             "#0d0887"
            ],
            [
             0.1111111111111111,
             "#46039f"
            ],
            [
             0.2222222222222222,
             "#7201a8"
            ],
            [
             0.3333333333333333,
             "#9c179e"
            ],
            [
             0.4444444444444444,
             "#bd3786"
            ],
            [
             0.5555555555555556,
             "#d8576b"
            ],
            [
             0.6666666666666666,
             "#ed7953"
            ],
            [
             0.7777777777777778,
             "#fb9f3a"
            ],
            [
             0.8888888888888888,
             "#fdca26"
            ],
            [
             1,
             "#f0f921"
            ]
           ],
           "sequentialminus": [
            [
             0,
             "#0d0887"
            ],
            [
             0.1111111111111111,
             "#46039f"
            ],
            [
             0.2222222222222222,
             "#7201a8"
            ],
            [
             0.3333333333333333,
             "#9c179e"
            ],
            [
             0.4444444444444444,
             "#bd3786"
            ],
            [
             0.5555555555555556,
             "#d8576b"
            ],
            [
             0.6666666666666666,
             "#ed7953"
            ],
            [
             0.7777777777777778,
             "#fb9f3a"
            ],
            [
             0.8888888888888888,
             "#fdca26"
            ],
            [
             1,
             "#f0f921"
            ]
           ]
          },
          "colorway": [
           "#636efa",
           "#EF553B",
           "#00cc96",
           "#ab63fa",
           "#FFA15A",
           "#19d3f3",
           "#FF6692",
           "#B6E880",
           "#FF97FF",
           "#FECB52"
          ],
          "font": {
           "color": "#2a3f5f"
          },
          "geo": {
           "bgcolor": "white",
           "lakecolor": "white",
           "landcolor": "#E5ECF6",
           "showlakes": true,
           "showland": true,
           "subunitcolor": "white"
          },
          "hoverlabel": {
           "align": "left"
          },
          "hovermode": "closest",
          "mapbox": {
           "style": "light"
          },
          "paper_bgcolor": "white",
          "plot_bgcolor": "#E5ECF6",
          "polar": {
           "angularaxis": {
            "gridcolor": "white",
            "linecolor": "white",
            "ticks": ""
           },
           "bgcolor": "#E5ECF6",
           "radialaxis": {
            "gridcolor": "white",
            "linecolor": "white",
            "ticks": ""
           }
          },
          "scene": {
           "xaxis": {
            "backgroundcolor": "#E5ECF6",
            "gridcolor": "white",
            "gridwidth": 2,
            "linecolor": "white",
            "showbackground": true,
            "ticks": "",
            "zerolinecolor": "white"
           },
           "yaxis": {
            "backgroundcolor": "#E5ECF6",
            "gridcolor": "white",
            "gridwidth": 2,
            "linecolor": "white",
            "showbackground": true,
            "ticks": "",
            "zerolinecolor": "white"
           },
           "zaxis": {
            "backgroundcolor": "#E5ECF6",
            "gridcolor": "white",
            "gridwidth": 2,
            "linecolor": "white",
            "showbackground": true,
            "ticks": "",
            "zerolinecolor": "white"
           }
          },
          "shapedefaults": {
           "line": {
            "color": "#2a3f5f"
           }
          },
          "ternary": {
           "aaxis": {
            "gridcolor": "white",
            "linecolor": "white",
            "ticks": ""
           },
           "baxis": {
            "gridcolor": "white",
            "linecolor": "white",
            "ticks": ""
           },
           "bgcolor": "#E5ECF6",
           "caxis": {
            "gridcolor": "white",
            "linecolor": "white",
            "ticks": ""
           }
          },
          "title": {
           "x": 0.05
          },
          "xaxis": {
           "automargin": true,
           "gridcolor": "white",
           "linecolor": "white",
           "ticks": "",
           "title": {
            "standoff": 15
           },
           "zerolinecolor": "white",
           "zerolinewidth": 2
          },
          "yaxis": {
           "automargin": true,
           "gridcolor": "white",
           "linecolor": "white",
           "ticks": "",
           "title": {
            "standoff": 15
           },
           "zerolinecolor": "white",
           "zerolinewidth": 2
          }
         }
        },
        "width": 870.4,
        "xaxis": {
         "range": [
          0,
          870.4
         ],
         "visible": false
        },
        "yaxis": {
         "range": [
          0,
          488.75
         ],
         "scaleanchor": "x",
         "visible": false
        }
       }
      }
     },
     "metadata": {},
     "output_type": "display_data"
    }
   ],
   "source": [
    "fig = make_subplots(rows=1, cols=2, subplot_titles=[\"Votes\", \"Pokédex\"], specs=[[{'type':'domain'}, {'type':'domain'}]])\n",
    "\n",
    "fig.add_trace(go.Pie(values=[NonLegVotes, LegVotes], labels=['Légendaires', 'Non Légendaires'], opacity=0.9, hovertemplate=\"<extra></extra>\", name=\"Votes\"), row=1, col=1)\n",
    "fig.add_trace(go.Pie(values=[NonLeg, Leg], labels=['Légendaires', 'Non Légendaires'], opacity=0.9, hovertemplate=\"<extra></extra>\", name=\"Pokédex\"), row=1, col=2)\n",
    "fig.update_traces(hole=.4, textfont_size=20,\n",
    "                  marker=dict(colors=[\"lightgray\", \"darkblue\"], line=dict(color='#000000', width=2)))\n",
    "fig.update_layout(\n",
    "    annotations=[dict(text='Votes', x=0.25, y=0.36, font_size=20, showarrow=False,bordercolor=\"#c7c7c7\",borderwidth=2,borderpad=4,bgcolor='rgba(255,255,255,0.85)'),\n",
    "                 dict(text='Pokédex', x=0.75, y=0.36, font_size=20, showarrow=False,bordercolor=\"#c7c7c7\",borderwidth=2,borderpad=4,bgcolor='rgba(255,255,255,0.85)')])\n",
    "\n",
    "img_width = 1024\n",
    "img_height = 575\n",
    "scale_factor = 0.85\n",
    "\n",
    "fig.update_xaxes(\n",
    "    visible=False,\n",
    "    range=[0, img_width * scale_factor]\n",
    ")\n",
    "\n",
    "fig.update_yaxes(\n",
    "    visible=False,\n",
    "    range=[0, img_height * scale_factor],\n",
    "    # the scaleanchor attribute ensures that the aspect ratio stays constant\n",
    "    scaleanchor=\"x\"\n",
    ")\n",
    "\n",
    "fig.add_layout_image(\n",
    "        dict(\n",
    "            source=\"legendary.png\",\n",
    "            x=0,\n",
    "            sizex=img_width * scale_factor,\n",
    "            y=img_height * scale_factor,\n",
    "            sizey=img_height * scale_factor,\n",
    "            xref=\"x\",\n",
    "            yref=\"y\",\n",
    "            opacity=0.65,\n",
    "            layer=\"below\",\n",
    "            sizing=\"stretch\"\n",
    "        )\n",
    ")\n",
    "fig.data[0].domain={'x': [0, 0.5], 'y': [0.1, 0.7]}\n",
    "fig.data[1].domain={'x': [0.5, 1], 'y': [0.1, 0.7]}\n",
    "\n",
    "fig.update_layout(\n",
    "    width=img_width * scale_factor,\n",
    "    height=img_height * scale_factor,\n",
    "    margin={\"l\": 0, \"r\": 0, \"t\": 0, \"b\": 0},\n",
    "    legend=dict(yanchor=\"top\", y=0.9, xanchor=\"left\", x=0.35, title='Les Pokémons légendaires sont cools',bordercolor=\"#c7c7c7\",\n",
    "        borderwidth=2,\n",
    "        bgcolor='rgba(255,255,255,0.85)')\n",
    ")\n",
    "fig.show()"
   ]
  },
  {
   "cell_type": "code",
   "execution_count": 24,
   "metadata": {},
   "outputs": [
    {
     "data": {
      "application/vnd.plotly.v1+json": {
       "config": {
        "plotlyServerURL": "https://plot.ly"
       },
       "data": [
        {
         "customdata": [
          "Carchacrok",
          "Ectoplasma",
          "Rayquaza",
          "Amphinobi",
          "Lucario",
          "Laggron",
          "Dracaufeu",
          "Simiabraz",
          "Tyranocif",
          "Metalosse",
          "Cizayox",
          "Jungko",
          "Brasegali",
          "Gardevoir",
          "Pingoleon",
          "Libegon",
          "Scorvol",
          "Yveltal",
          "Noctali",
          "Dracolosse",
          "Lugia",
          "Etouraptor",
          "Pyrax",
          "Luxray",
          "Darkrai",
          "Exagide",
          "Typhlosion",
          "Arcanin",
          "Archeduc",
          "Trioxhydre",
          "Lugulabre",
          "Milobellus",
          "Giratina",
          "Zoroark",
          "Majaspic",
          "Lanssorien",
          "Aligatueur",
          "Mimiqui",
          "Drattak",
          "Torterra",
          "Galeking",
          "Mewtwo",
          "Leviator",
          "Kyogre",
          "Nostenfer",
          "Arceus",
          "Evoli",
          "Gobou",
          "Groudon",
          "Gallame",
          "Ho-Oh",
          "Mentali",
          "Dialga",
          "Crocorible",
          "Bulbizarre",
          "Absol",
          "Zekrom",
          "Ronflex",
          "Dimoret",
          "Nymphali",
          "Suicune",
          "Corvaillus",
          "Salarsen",
          "Chapignon",
          "Tortank",
          "Lougaroc",
          "Alakazam",
          "Pyrobut",
          "Togekiss",
          "Nidoking",
          "Electhor",
          "Zeraora",
          "Mew",
          "Xerneas",
          "Flambusard",
          "Victini",
          "Roserade",
          "Pharamp",
          "Scalproie",
          "Givrali",
          "Marshadow",
          "Porygon-Z",
          "Momartik",
          "Massko",
          "Feunard",
          "Azumarill",
          "Mysdibule",
          "Scarhino",
          "Shaymin",
          "Voltali",
          "Rexillius",
          "Phyllali",
          "Aquali",
          "Reshiram",
          "Bruyverne",
          "Deoxys",
          "Corboss",
          "Latias",
          "Florizarre",
          "Hericendre",
          "Minotaupe",
          "Mammochon",
          "Lokhlass",
          "Tiplouf",
          "Tranchodon",
          "Zacian",
          "Shifours",
          "Jirachi",
          "Brindibou",
          "Demolosse",
          "Kaiminus",
          "Zorua",
          "Elekable",
          "Latios",
          "Pikachu",
          "Artikodin",
          "Felinferno",
          "Magnezone",
          "Oratoria",
          "Motisma",
          "Ohmassacre",
          "Palkia",
          "Coatox",
          "Raikou",
          "Steelix",
          "Tortipouss",
          "Brutapode",
          "Muplodocus",
          "Carapuce",
          "Lunala",
          "Kyurem",
          "Meloetta",
          "Clamiral",
          "Vipelierre",
          "Heatran",
          "Katagami",
          "Keunotor",
          "Symbios",
          "Lockpin",
          "Hyporoi",
          "Regieleki",
          "Sarmurai",
          "Roucarnage",
          "Celebi",
          "Heliatronc",
          "Noctunoir",
          "Spiritomb",
          "Draco",
          "Drascore",
          "Altaria",
          "Tokorico",
          "Moustillon",
          "Ekaiser",
          "Malamandre",
          "Zygarde",
          "Ixon",
          "Colhomard",
          "Arcko",
          "Magireve",
          "Noacier",
          "Poussifeu",
          "Salameche",
          "Entei",
          "Keldeo",
          "Mackogneur",
          "Necrozma",
          "Hoopa",
          "Riolu",
          "Mygavolt",
          "Goupelin",
          "Demeteros",
          "Maraiste",
          "Diancie",
          "Kabutops",
          "Pyroli",
          "Chelours",
          "Hippodocus",
          "Solgaleo",
          "Flagadoss",
          "Insecateur",
          "Branette",
          "Metamorph",
          "Regigigas",
          "Tengalice",
          "Rhinastoc",
          "Feurisson",
          "Tritosor",
          "Spectreval",
          "Flamiaou",
          "Brutalibre",
          "Elecsprint",
          "Mateloutre",
          "Manaphy",
          "Mustebouee",
          "Golemastoc",
          "Spectrum",
          "Goupix",
          "Gorythmic",
          "Sharpedo",
          "Angoliath",
          "Raichu",
          "Gueriaigle",
          "Psykokwak",
          "Darumacho",
          "Ptera",
          "Ludicolo",
          "Sucreine",
          "Baggaid",
          "Lezargus",
          "Lixy",
          "Ouisticram",
          "Genesect",
          "Feunnec",
          "Yanmega",
          "Gamblast",
          "Tenefix",
          "Charkos",
          "Fragilady",
          "Roitiflam",
          "Flambino",
          "Tutankafer",
          "Airmure",
          "Munja",
          "Musteflott",
          "Obalie",
          "Hydragon",
          "Sorcilence",
          "Melmetal",
          "Donphan",
          "Scolocendre",
          "Predasterie",
          "Silvallie",
          "Mandrillon",
          "Fulguris",
          "Dragmara",
          "Roussil",
          "Grenousse",
          "Dardargnan",
          "Tokopiyon",
          "Gigalithe",
          "Magearna",
          "Kaimorse",
          "Farfaduvet",
          "Floramantis",
          "Sablaireau",
          "Magicarpe",
          "Minidraco",
          "Lucanon",
          "Staross",
          "Meganium",
          "Germignon",
          "Maganon",
          "Mistigrix",
          "Volcanion",
          "Griknot",
          "Dratatin",
          "Moumouton",
          "Tarsal",
          "Kravarech",
          "Zamazenta",
          "Shaofouine",
          "Tokopisco",
          "Herbizarre",
          "Mangriff",
          "Ossatueur",
          "Osselait",
          "Wattouat",
          "Ouistempo",
          "Charmilly",
          "Regidrago",
          "Ethernatos",
          "Caninos",
          "Rocabot",
          "Crefadet",
          "Galekid",
          "Scorplane",
          "Gruikui",
          "Manternel",
          "Galopa",
          "Sulfura",
          "Palarticho",
          "Axoloto",
          "Beldeneige",
          "Nemelios",
          "Heledelle",
          "Pashmilla",
          "Goinfrex",
          "Otaquin",
          "Desseliande",
          "Larmeleon",
          "Betochef",
          "Nigosier",
          "Ramoloss",
          "Cancrelove",
          "Fouinar",
          "Blindepique",
          "Hexadron",
          "Pichu",
          "Tartard",
          "Wailord",
          "Meteno",
          "Cobaltium",
          "Insolourdo",
          "Embrylex",
          "Archeodong",
          "Rondoudou",
          "Camerupt",
          "Wushours",
          "Carabaffe",
          "Phanpy",
          "Polthegeist",
          "Blizzaroi",
          "Grolem",
          "Brouhabam",
          "Crustabri",
          "Tokotoro",
          "Farfuret",
          "Lapyro",
          "Cresselia",
          "Trepassable",
          "Zarude",
          "Chimpenfeu",
          "Lançargot",
          "Tarenbulle",
          "Pierroteknik",
          "Tarpaud",
          "Iguolta",
          "Roigada",
          "Lanturn",
          "Tentacruel",
          "Bekaglaçon",
          "Sylveroy",
          "Rhinoferos",
          "Crapustule",
          "Cradopaud",
          "Funecire",
          "Aeropteryx",
          "Cacturne",
          "Pandarbare",
          "Matoufeu",
          "Nidoqueen",
          "Bastiodon",
          "Cornebre",
          "Oniglali",
          "Tutetekri",
          "Sabelette",
          "Boreas",
          "Grahyena",
          "Grodrive",
          "Colossinge",
          "Cliticlic",
          "Escroco",
          "Carmache",
          "Frissonille",
          "Cablifere",
          "Bazoucan",
          "Togepi",
          "Papilusion",
          "Feuforeve",
          "Rubombelle",
          "Kicklee",
          "Pomdrapi",
          "Toxizap",
          "Marisson",
          "Zeroid",
          "Zeblitz",
          "Lianaja",
          "Statitik",
          "Flobio",
          "Mucuscule",
          "Vemini",
          "Kirlia",
          "Regice",
          "Morpeko",
          "Croaporal",
          "Bourrinos",
          "Reptincel",
          "Pachirisu",
          "Bamboiselle",
          "Viridium",
          "Monaflemit",
          "Caratroc",
          "Luxio",
          "Porygon2",
          "Krabboss",
          "Abra",
          "Grotadmorv",
          "Tauros",
          "Galifeu",
          "Dimocles",
          "Kangourex",
          "Nounourson",
          "Cryptero",
          "Tropius",
          "Braisillon",
          "Crehelf",
          "Coupenotte",
          "Mascaiman",
          "Haydaim",
          "Armaldo",
          "Monorpale",
          "Canarticho",
          "Tygnon",
          "Ptyranidur",
          "Magneton",
          "Capumain",
          "Froussardine",
          "Type:0",
          "Ninjask",
          "Crocrodil",
          "Chevroum",
          "Rafflesia",
          "Florges",
          "Pijako",
          "Bekipan",
          "Akwakwak",
          "Ponyta",
          "Porygon",
          "Mouscoto",
          "Xatu",
          "Regirock",
          "Seviper",
          "Qulbutoke",
          "Etourmi",
          "Bouldeneu",
          "Registeel",
          "Brocelome",
          "Terrakium",
          "Arbok",
          "Apireine",
          "Sepiatroce",
          "Mastouffe",
          "Cosmog",
          "Capidextre",
          "Passerouge",
          "Krakos",
          "Sorbouboul",
          "Kraknoix",
          "Solochi",
          "Onix",
          "Elektek",
          "Galegon",
          "Emolga",
          "Fantyrm",
          "Miaouss",
          "Drakkarmin",
          "Empiflor",
          "Pandespiegle",
          "Smogogo",
          "Baggiguane",
          "Ecrapince",
          "Sinistrail",
          "Charmina",
          "Arkeapti",
          "Laporeille",
          "Kranidos",
          "Kaorine",
          "Zigzaton",
          "Cotovol",
          "Blizzeval",
          "Crefollet",
          "Concombaffe",
          "Vibraninf",
          "Foretress",
          "Roselia",
          "Fulgudog",
          "Melodelfe",
          "Astronelle",
          "Prinplouf",
          "Vacilys",
          "Terhal",
          "Megapagos",
          "Eoko",
          "Lumineon",
          "Chartor",
          "Girafarig",
          "Baudrive",
          "Tritox",
          "Voltoutou",
          "Moyade",
          "Galvagon",
          "Octillery",
          "Ursaring",
          "Effleche",
          "Sancoki",
          "Meltan",
          "Dispareptil",
          "Ecremeuh",
          "Duralugon",
          "Azurill",
          "Noarfang",
          "Floette",
          "Engloutyran",
          "Metang",
          "Togetic",
          "Vaututrice",
          "Coxyclaque",
          "Corayome",
          "Ama-Ama",
          "Melancolux",
          "Polarhume",
          "Tutafeh",
          "Amagara",
          "Zarbi",
          "Leveinard",
          "Draieul",
          "Dodoala",
          "Banshitrouye",
          "Pyronille",
          "Persian",
          "Bebecaille",
          "Queulorior",
          "Medhyena",
          "Macronium",
          "Skelenox",
          "Monthracite",
          "Dedenne",
          "Trousselin",
          "Prismillon",
          "Polagriffe",
          "Verpom",
          "Sonistrelle",
          "Hypocean",
          "Torgamord",
          "Demanta",
          "Seracrawl",
          "Hexagel",
          "Lamantine",
          "Diamat",
          "Teddiursa",
          "Dunaconda",
          "Relicanth",
          "Etourvol",
          "Chenipan",
          "Lineon",
          "Crabaraque",
          "Pitrouille",
          "Darumarond",
          "Limaspeed",
          "Poulpaf",
          "Draby",
          "Chapotus",
          "Kapoera",
          "Stalgamin",
          "Boskara",
          "Helionceau",
          "Lainergie",
          "Charmillon",
          "Fermite",
          "Fantominus",
          "Volcaropod",
          "M. Glaquette",
          "Grodoudou",
          "Siderella",
          "Castorno",
          "Kadabra",
          "Vortente",
          "Ecaid",
          "Teraclope",
          "Tylton",
          "Machopeur",
          "Chinchidou",
          "Maracachi",
          "Scobolide",
          "Skitty",
          "Venipatte",
          "Ceriflor",
          "Phione",
          "Dodrio",
          "Amonistar",
          "Vorasterie",
          "Colimucus",
          "Galvagla",
          "Lakmecygne",
          "Excavarenne",
          "Togedemaru",
          "M. Mime",
          "Pifeuil",
          "Tetarte",
          "Leuphorie",
          "Grotichon",
          "Marcacrin",
          "Psystigri",
          "Leopardus",
          "Triopikeur",
          "Hariyama",
          "Cochignon",
          "Scarabrute",
          "Negapi",
          "Melokrik",
          "Boumata",
          "Berserkatt",
          "Carapagos",
          "Balignon",
          "Barbicha",
          "Dynavolt",
          "Maskadra",
          "Minisange",
          "Rongrigou",
          "Marill",
          "Flingouste",
          "Rozbouton",
          "Ferosinge",
          "Magmar",
          "Migalos",
          "Spoink",
          "Bleuseille",
          "Fourbelin",
          "Cacnea",
          "Anchwatt",
          "Dinoclier",
          "Hippopotas",
          "Aeromite",
          "Malosse",
          "Magneti",
          "Saquedeneu",
          "Joliflor",
          "Cosmovum",
          "Rattata",
          "Kecleon",
          "Ptitard",
          "Melofee",
          "Vivaldaim",
          "Cabriolaine",
          "Natu",
          "Nirondelle",
          "Sorbebe",
          "Posipi",
          "Mushana",
          "Noadkoko",
          "Deflaisan",
          "Simularbre",
          "Candine",
          "Scalpion",
          "Quartermac",
          "Crabicoque",
          "Drackhaus",
          "Plumeline",
          "Galvaran",
          "Furaiglon",
          "Corayon",
          "Parasect",
          "Wimessir",
          "Nosferalto",
          "Otarlette",
          "Bombydou",
          "Nidoran♂",
          "Amonita",
          "Bacabouh",
          "Cupcanaille",
          "Avaltout",
          "Blizzi",
          "Nanmeouie",
          "Kungfouine",
          "Arrozard",
          "Cremy",
          "Mystherbe",
          "Roucoups",
          "Neitram",
          "Morpheo",
          "Moumouflon",
          "Miasmax",
          "Geolithe",
          "Couverdure",
          "Cadoizo",
          "Spododo",
          "Incisache",
          "Goupilou",
          "Aflamanoir",
          "Hydragla",
          "Rototaupe",
          "Golgopathe",
          "Nenupiot",
          "Parecool",
          "Elekid",
          "Papinox",
          "Grainipiot",
          "Phogleur",
          "Moufflair",
          "Gaulet",
          "Rhinocorne",
          "Wattapik",
          "Blancoton",
          "Hypotrempe",
          "Grimalin",
          "Wailmer",
          "Barpau",
          "Rapion",
          "Zebibron",
          "Doudouvet",
          "Frison",
          "Delcatty",
          "Chlorobule",
          "Ceribou",
          "Nucleos",
          "Theffroi",
          "Bibichut",
          "Korillon",
          "Flabebe",
          "Electrode",
          "Roublenard",
          "Poichigeon",
          "Grindur",
          "Gringolem",
          "Chamallot",
          "Karaclee",
          "Tic",
          "Nosferapti",
          "Spinda",
          "Roucool",
          "Chenipotte",
          "Yanma",
          "Coudlangue",
          "Pachyradjah",
          "Chetiflor",
          "Feuillajou",
          "Sovkipou",
          "Badabouin",
          "Lampignon",
          "Aspicot",
          "Qwilfish",
          "Couaneton",
          "Seleroc",
          "Solaroc",
          "Rongourmand",
          "Lombre",
          "Goelise",
          "Rhinolove",
          "Batracne",
          "Okeoke",
          "Sucroquin",
          "Ponchiot",
          "Mimitoss",
          "Stari",
          "Nodulithe",
          "Vigoroth",
          "Racaillou",
          "Carvanha",
          "Chaglam",
          "Mesmerella",
          "Sorboul",
          "Limonde",
          "Croquine",
          "Feuiloutan",
          "Taupiqueur",
          "Limagma",
          "Tentacool",
          "Miamiasme",
          "Ramboum",
          "Rosabyss",
          "Babimanta",
          "Sapereau",
          "Krabby",
          "Picassaut",
          "Tarinorme",
          "Viskuse",
          "Nidorino",
          "Hypnomade",
          "Chrysacier",
          "Loupio",
          "Lamperoie",
          "Meios",
          "Judokrak",
          "Denticrisse",
          "Boguerisse",
          "Rapasdepic",
          "Anorith",
          "Trompignon",
          "Chrysapile",
          "Araqua",
          "Mimantis",
          "Ymphect",
          "Polichombr",
          "Scrutella",
          "Kabuto",
          "Guerilande",
          "Abo",
          "Fouinette",
          "Doduo",
          "Granbull",
          "Toudoudou",
          "Crikzik",
          "Papilord",
          "Charbi",
          "Grelaçon",
          "Tiboudet",
          "Clic",
          "Grillepattes",
          "Chuchmur",
          "Boustiflor",
          "Mime Jr.",
          "Flotajou",
          "Crabominable",
          "Gloupti",
          "Strassie",
          "Larveyette",
          "Magby",
          "Sepiatop",
          "Nidoran♀",
          "Chovsourir",
          "Dunaja",
          "Melo",
          "Arakdo",
          "Cerfrousse",
          "Hoothoot",
          "Ecayon",
          "Serpang",
          "Peregrain",
          "Ponchien",
          "Apitrini",
          "Archeomire",
          "Flamoutan",
          "Piclairon",
          "Lepidonille",
          "Venalgue",
          "Coleodome",
          "Kokiyas",
          "Flamajou",
          "Couafarel",
          "Smogo",
          "Lippoutou",
          "Flotoutan",
          "Embrochet",
          "Machoc",
          "Manzai",
          "Dolman",
          "Chaffreux",
          "Rattatac",
          "Excelangue",
          "Otaria",
          "Tritonde",
          "Escargaume",
          "Mimigal",
          "Lewsor",
          "Lippouti",
          "Paras",
          "Tournegrin",
          "Munna",
          "Gravalanch",
          "Nidorina",
          "Debugant",
          "Lovdisc",
          "Bargantua",
          "Crabagarre",
          "Cheniti",
          "Coquiperl",
          "Larvibule",
          "Voltorbe",
          "Soporifik",
          "Chacripan",
          "Pomdepik",
          "Ningale",
          "Charpenti",
          "Vostourno",
          "Meditikka",
          "Gouroutan",
          "Balbuto",
          "Makuhita",
          "Granivol",
          "Khelocrok",
          "Tadmorv",
          "Cocotine",
          "Coxy",
          "Miradar",
          "Snubbull",
          "Barloche",
          "Larvadar",
          "Cheniselle",
          "Mamanbo",
          "Ortide",
          "Tournicoton",
          "Lilia",
          "Colombeau",
          "Ouvrifier",
          "Groret",
          "Blindalys",
          "Carabing",
          "Wagomine",
          "Charibari",
          "Ptiravi",
          "Piafabec",
          "Poissoroy",
          "Armulys",
          "Floravol",
          "Argouste",
          "Ratentif",
          "Coconfort",
          "Remoraid",
          "Fluvetin",
          "Tarinor",
          "Lumivole",
          "Moufouette",
          "Poissirene",
          "Muciole",
          "Manglouton",
          "Opermine",
          "Noeunoeuf",
          "Hastacuda"
         ],
         "hovertemplate": "%{customdata}<extra></extra>",
         "marker": {
          "color": "rgb(158,202,225)",
          "line": {
           "color": "rgb(8,48,107)",
           "width": 0.5
          }
         },
         "opacity": 0.8,
         "showlegend": false,
         "type": "bar",
         "x": [
          4,
          1,
          3,
          6,
          4,
          3,
          1,
          4,
          2,
          3,
          2,
          3,
          3,
          3,
          4,
          3,
          4,
          6,
          2,
          1,
          2,
          4,
          5,
          4,
          4,
          6,
          2,
          1,
          7,
          5,
          5,
          3,
          4,
          5,
          5,
          8,
          2,
          7,
          3,
          4,
          3,
          1,
          1,
          3,
          2,
          5,
          1,
          3,
          3,
          4,
          2,
          2,
          4,
          5,
          1,
          3,
          5,
          1,
          4,
          6,
          2,
          8,
          8,
          3,
          1,
          7,
          1,
          8,
          4,
          1,
          1,
          7,
          2,
          6,
          6,
          5,
          4,
          2,
          5,
          4,
          7,
          4,
          4,
          3,
          1,
          2,
          3,
          2,
          4,
          1,
          6,
          4,
          1,
          5,
          6,
          4,
          4,
          3,
          1,
          2,
          5,
          4,
          1,
          4,
          5,
          8,
          8,
          3,
          7,
          2,
          2,
          5,
          4,
          3,
          1,
          1,
          7,
          4,
          7,
          4,
          5,
          4,
          4,
          2,
          2,
          4,
          5,
          6,
          1,
          7,
          5,
          5,
          5,
          5,
          4,
          7,
          4,
          5,
          4,
          2,
          8,
          7,
          1,
          3,
          2,
          4,
          4,
          1,
          4,
          3,
          7,
          5,
          7,
          7,
          6,
          8,
          3,
          3,
          4,
          5,
          3,
          1,
          2,
          5,
          1,
          7,
          6,
          4,
          5,
          6,
          5,
          2,
          6,
          1,
          1,
          7,
          4,
          7,
          1,
          1,
          3,
          1,
          4,
          3,
          4,
          2,
          4,
          8,
          7,
          6,
          3,
          5,
          4,
          4,
          5,
          1,
          1,
          8,
          3,
          8,
          1,
          5,
          1,
          5,
          1,
          3,
          7,
          5,
          8,
          4,
          4,
          6,
          6,
          4,
          6,
          3,
          4,
          5,
          5,
          8,
          5,
          2,
          3,
          4,
          3,
          8,
          8,
          7,
          2,
          8,
          7,
          7,
          7,
          5,
          6,
          6,
          6,
          1,
          7,
          5,
          7,
          3,
          5,
          7,
          1,
          1,
          1,
          7,
          1,
          2,
          2,
          4,
          6,
          7,
          4,
          8,
          8,
          3,
          6,
          8,
          5,
          7,
          1,
          3,
          1,
          1,
          2,
          8,
          8,
          8,
          8,
          1,
          7,
          4,
          3,
          2,
          5,
          5,
          1,
          1,
          8,
          2,
          8,
          6,
          3,
          5,
          4,
          7,
          6,
          8,
          5,
          8,
          1,
          7,
          2,
          6,
          8,
          2,
          1,
          3,
          7,
          5,
          2,
          2,
          4,
          1,
          3,
          8,
          1,
          2,
          8,
          4,
          1,
          3,
          1,
          7,
          2,
          8,
          4,
          7,
          8,
          4,
          5,
          7,
          7,
          2,
          6,
          2,
          2,
          1,
          8,
          8,
          1,
          5,
          4,
          5,
          5,
          3,
          6,
          7,
          1,
          4,
          2,
          3,
          8,
          1,
          5,
          3,
          4,
          1,
          5,
          5,
          4,
          8,
          7,
          7,
          2,
          1,
          2,
          7,
          1,
          8,
          8,
          6,
          7,
          5,
          5,
          5,
          3,
          6,
          7,
          3,
          3,
          8,
          6,
          7,
          1,
          4,
          7,
          5,
          3,
          2,
          4,
          2,
          1,
          1,
          1,
          1,
          3,
          6,
          1,
          7,
          5,
          3,
          6,
          4,
          5,
          5,
          5,
          3,
          6,
          1,
          1,
          6,
          1,
          2,
          7,
          7,
          3,
          2,
          6,
          1,
          6,
          4,
          3,
          1,
          1,
          1,
          7,
          2,
          3,
          3,
          2,
          4,
          4,
          3,
          6,
          5,
          1,
          4,
          6,
          5,
          7,
          4,
          6,
          8,
          5,
          3,
          5,
          1,
          1,
          3,
          5,
          8,
          1,
          5,
          1,
          6,
          1,
          5,
          3,
          7,
          3,
          5,
          4,
          4,
          3,
          3,
          2,
          8,
          4,
          7,
          3,
          2,
          3,
          8,
          1,
          8,
          4,
          3,
          3,
          5,
          3,
          4,
          3,
          2,
          4,
          7,
          8,
          5,
          8,
          2,
          2,
          7,
          4,
          7,
          8,
          2,
          8,
          3,
          2,
          6,
          7,
          3,
          2,
          5,
          2,
          8,
          7,
          5,
          5,
          5,
          6,
          2,
          1,
          7,
          7,
          6,
          5,
          1,
          7,
          2,
          3,
          2,
          3,
          8,
          6,
          6,
          6,
          5,
          8,
          6,
          1,
          8,
          2,
          6,
          5,
          1,
          5,
          2,
          8,
          3,
          4,
          1,
          3,
          5,
          6,
          5,
          5,
          8,
          3,
          8,
          2,
          3,
          4,
          6,
          2,
          3,
          5,
          1,
          2,
          8,
          1,
          5,
          4,
          1,
          4,
          7,
          3,
          3,
          1,
          5,
          5,
          5,
          3,
          5,
          4,
          4,
          1,
          1,
          7,
          6,
          8,
          5,
          6,
          7,
          1,
          3,
          1,
          2,
          5,
          2,
          6,
          5,
          1,
          3,
          2,
          1,
          3,
          4,
          7,
          8,
          5,
          3,
          3,
          3,
          3,
          8,
          8,
          2,
          6,
          4,
          1,
          1,
          2,
          3,
          8,
          8,
          3,
          5,
          4,
          4,
          1,
          2,
          1,
          1,
          2,
          7,
          1,
          3,
          1,
          1,
          5,
          6,
          2,
          3,
          5,
          3,
          5,
          1,
          5,
          2,
          7,
          5,
          7,
          5,
          3,
          7,
          6,
          5,
          2,
          1,
          8,
          1,
          7,
          7,
          1,
          1,
          7,
          6,
          3,
          4,
          5,
          5,
          8,
          8,
          1,
          1,
          5,
          3,
          8,
          5,
          5,
          5,
          2,
          7,
          5,
          8,
          5,
          8,
          5,
          6,
          3,
          3,
          2,
          3,
          3,
          3,
          4,
          5,
          1,
          8,
          8,
          1,
          8,
          3,
          3,
          4,
          5,
          5,
          5,
          3,
          5,
          4,
          5,
          8,
          8,
          4,
          6,
          1,
          8,
          5,
          5,
          5,
          3,
          5,
          5,
          1,
          3,
          1,
          3,
          2,
          4,
          8,
          1,
          5,
          7,
          8,
          7,
          1,
          2,
          5,
          3,
          3,
          8,
          3,
          3,
          5,
          5,
          3,
          6,
          5,
          1,
          1,
          5,
          3,
          1,
          3,
          4,
          5,
          5,
          5,
          7,
          5,
          1,
          2,
          1,
          5,
          3,
          3,
          4,
          6,
          1,
          7,
          4,
          5,
          1,
          1,
          1,
          2,
          5,
          5,
          5,
          7,
          6,
          1,
          3,
          5,
          7,
          7,
          7,
          2,
          3,
          5,
          1,
          7,
          1,
          2,
          1,
          2,
          2,
          4,
          4,
          8,
          6,
          7,
          5,
          8,
          3,
          1,
          4,
          5,
          7,
          3,
          6,
          5,
          2,
          6,
          1,
          5,
          8,
          2,
          3,
          2,
          2,
          4,
          3,
          6,
          5,
          4,
          4,
          5,
          7,
          6,
          6,
          8,
          1,
          5,
          6,
          1,
          1,
          5,
          8,
          1,
          4,
          8,
          4,
          1,
          1,
          1,
          5,
          5,
          2,
          5,
          2,
          1,
          2,
          5,
          1,
          1,
          2,
          3,
          5,
          7,
          4,
          3,
          7,
          1,
          1,
          5,
          2,
          3,
          5,
          5,
          3,
          7,
          3,
          3,
          2,
          8,
          1,
          6,
          2,
          5,
          2,
          3,
          8,
          4,
          5,
          1,
          8,
          3,
          5,
          5,
          3,
          3,
          5,
          8,
          8,
          4,
          1,
          1,
          3,
          2,
          7,
          5,
          1,
          2,
          6,
          3,
          3,
          4,
          1,
          3,
          7,
          6,
          1,
          8
         ],
         "xaxis": "x",
         "y": [
          2190,
          1999,
          1672,
          1654,
          1441,
          1320,
          1310,
          1288,
          1275,
          1269,
          1235,
          1140,
          1137,
          1134,
          1128,
          976,
          956,
          925,
          915,
          903,
          890,
          860,
          857,
          842,
          842,
          804,
          794,
          788,
          777,
          776,
          774,
          772,
          760,
          728,
          722,
          721,
          717,
          691,
          686,
          673,
          663,
          663,
          609,
          602,
          575,
          563,
          563,
          561,
          560,
          556,
          556,
          545,
          538,
          531,
          527,
          518,
          501,
          498,
          498,
          497,
          495,
          495,
          494,
          492,
          491,
          484,
          483,
          477,
          470,
          469,
          467,
          467,
          467,
          462,
          461,
          457,
          454,
          446,
          443,
          441,
          440,
          439,
          429,
          422,
          419,
          412,
          409,
          406,
          406,
          398,
          390,
          385,
          380,
          380,
          380,
          375,
          374,
          373,
          372,
          370,
          370,
          369,
          368,
          359,
          359,
          357,
          354,
          352,
          350,
          349,
          347,
          343,
          334,
          333,
          329,
          329,
          326,
          323,
          319,
          316,
          312,
          305,
          304,
          302,
          297,
          290,
          289,
          278,
          275,
          274,
          274,
          272,
          272,
          269,
          268,
          266,
          264,
          258,
          257,
          256,
          252,
          251,
          248,
          244,
          242,
          242,
          241,
          237,
          236,
          234,
          229,
          227,
          227,
          227,
          226,
          224,
          221,
          218,
          217,
          212,
          211,
          210,
          210,
          207,
          206,
          206,
          206,
          205,
          204,
          202,
          202,
          199,
          198,
          196,
          195,
          193,
          192,
          192,
          189,
          189,
          187,
          185,
          184,
          184,
          183,
          182,
          181,
          181,
          180,
          180,
          179,
          179,
          177,
          176,
          174,
          174,
          174,
          173,
          173,
          170,
          169,
          168,
          168,
          167,
          163,
          161,
          160,
          160,
          158,
          157,
          157,
          157,
          155,
          154,
          153,
          152,
          151,
          151,
          150,
          150,
          150,
          148,
          148,
          147,
          147,
          143,
          142,
          142,
          142,
          142,
          141,
          140,
          139,
          138,
          137,
          137,
          137,
          136,
          135,
          134,
          134,
          131,
          131,
          130,
          130,
          129,
          127,
          125,
          124,
          123,
          123,
          123,
          123,
          122,
          121,
          121,
          121,
          120,
          120,
          119,
          117,
          117,
          117,
          117,
          113,
          113,
          111,
          111,
          111,
          111,
          110,
          110,
          110,
          110,
          108,
          108,
          107,
          107,
          107,
          107,
          107,
          107,
          107,
          107,
          106,
          106,
          105,
          105,
          105,
          105,
          104,
          104,
          104,
          103,
          102,
          102,
          102,
          102,
          102,
          101,
          100,
          100,
          99,
          98,
          97,
          97,
          97,
          97,
          97,
          97,
          97,
          97,
          97,
          96,
          96,
          95,
          95,
          95,
          95,
          95,
          95,
          95,
          94,
          94,
          94,
          94,
          94,
          93,
          93,
          93,
          93,
          92,
          92,
          92,
          92,
          92,
          92,
          91,
          91,
          91,
          91,
          91,
          90,
          90,
          90,
          89,
          89,
          89,
          89,
          88,
          88,
          88,
          87,
          87,
          86,
          86,
          86,
          86,
          86,
          84,
          83,
          83,
          83,
          83,
          82,
          82,
          82,
          81,
          81,
          81,
          80,
          79,
          79,
          79,
          79,
          79,
          78,
          78,
          78,
          78,
          78,
          77,
          77,
          77,
          77,
          77,
          76,
          76,
          75,
          75,
          75,
          75,
          75,
          74,
          74,
          74,
          74,
          73,
          73,
          73,
          73,
          72,
          72,
          72,
          71,
          71,
          69,
          69,
          69,
          69,
          69,
          69,
          68,
          68,
          68,
          68,
          68,
          68,
          67,
          67,
          67,
          67,
          67,
          66,
          66,
          66,
          66,
          66,
          65,
          65,
          65,
          65,
          64,
          64,
          64,
          64,
          64,
          64,
          64,
          63,
          63,
          63,
          63,
          62,
          62,
          61,
          61,
          61,
          60,
          60,
          60,
          59,
          59,
          59,
          59,
          59,
          59,
          58,
          58,
          58,
          58,
          58,
          57,
          57,
          57,
          57,
          57,
          57,
          57,
          57,
          57,
          57,
          56,
          56,
          56,
          56,
          56,
          56,
          55,
          55,
          55,
          55,
          55,
          55,
          55,
          55,
          54,
          54,
          54,
          54,
          54,
          54,
          54,
          54,
          54,
          53,
          53,
          53,
          52,
          52,
          52,
          52,
          52,
          51,
          51,
          51,
          51,
          51,
          51,
          50,
          50,
          50,
          50,
          50,
          50,
          49,
          49,
          49,
          49,
          49,
          49,
          49,
          49,
          48,
          48,
          47,
          47,
          47,
          47,
          47,
          47,
          46,
          46,
          46,
          46,
          46,
          46,
          45,
          45,
          45,
          45,
          45,
          44,
          44,
          44,
          44,
          43,
          43,
          43,
          43,
          43,
          43,
          43,
          43,
          43,
          43,
          43,
          43,
          43,
          42,
          42,
          42,
          42,
          42,
          42,
          42,
          42,
          42,
          42,
          42,
          41,
          41,
          41,
          41,
          41,
          41,
          41,
          41,
          41,
          41,
          41,
          41,
          41,
          41,
          41,
          40,
          40,
          40,
          39,
          39,
          39,
          39,
          39,
          39,
          39,
          39,
          38,
          38,
          38,
          38,
          38,
          38,
          38,
          38,
          37,
          37,
          37,
          37,
          37,
          37,
          37,
          37,
          37,
          37,
          37,
          37,
          36,
          36,
          36,
          36,
          36,
          35,
          35,
          35,
          35,
          35,
          35,
          35,
          35,
          35,
          35,
          35,
          34,
          34,
          34,
          34,
          34,
          34,
          34,
          34,
          34,
          33,
          33,
          33,
          33,
          33,
          33,
          32,
          32,
          32,
          32,
          32,
          32,
          32,
          32,
          32,
          32,
          31,
          31,
          31,
          31,
          31,
          31,
          31,
          31,
          31,
          31,
          31,
          30,
          30,
          30,
          30,
          30,
          30,
          30,
          30,
          30,
          30,
          30,
          30,
          30,
          30,
          29,
          29,
          29,
          29,
          29,
          29,
          29,
          29,
          29,
          29,
          29,
          28,
          28,
          28,
          28,
          28,
          28,
          28,
          28,
          27,
          27,
          27,
          27,
          27,
          27,
          27,
          27,
          27,
          26,
          26,
          26,
          26,
          26,
          26,
          26,
          26,
          26,
          26,
          25,
          25,
          25,
          25,
          25,
          25,
          25,
          25,
          25,
          25,
          25,
          25,
          25,
          25,
          25,
          25,
          24,
          24,
          24,
          24,
          24,
          24,
          24,
          24,
          23,
          23,
          23,
          23,
          23,
          23,
          23,
          23,
          23,
          23,
          23,
          23,
          23,
          23,
          23,
          23,
          23,
          23,
          23,
          22,
          22,
          22,
          22,
          22,
          22,
          22,
          22,
          22,
          22,
          22,
          22,
          22,
          21,
          21,
          21,
          21,
          21,
          21,
          21,
          21,
          21,
          20,
          20,
          20,
          20,
          20,
          20,
          20,
          20,
          20,
          20,
          20,
          20,
          20,
          20,
          20,
          20,
          19,
          19,
          19,
          19,
          19,
          19,
          19,
          19,
          19,
          19,
          19,
          19,
          19,
          19,
          19,
          19,
          19,
          19,
          19,
          19,
          19,
          18,
          18,
          18,
          18,
          18,
          18,
          18,
          18,
          18,
          18,
          18,
          18,
          17,
          17,
          17,
          17,
          17,
          17,
          17,
          17,
          17,
          17,
          17,
          17,
          17,
          17,
          16,
          16,
          16,
          16,
          16,
          16,
          16,
          16,
          16,
          15,
          15,
          15,
          15,
          15,
          14,
          14,
          14,
          14,
          14,
          14,
          14,
          14,
          14,
          14,
          14,
          14,
          13,
          13,
          13,
          13,
          13,
          13,
          13,
          13,
          13,
          13,
          12,
          12,
          12,
          12,
          11,
          11,
          11,
          11,
          11,
          11,
          10,
          9,
          8,
          8
         ],
         "yaxis": "y"
        },
        {
         "hovertemplate": "Il y a %{y} Pokémons dans la Génération %{x}<extra></extra>",
         "showlegend": false,
         "type": "scatter",
         "x": [
          1,
          2,
          3,
          4,
          5,
          6,
          7,
          8
         ],
         "xaxis": "x",
         "y": [
          150,
          100,
          135,
          107,
          156,
          72,
          89,
          96
         ],
         "yaxis": "y2"
        }
       ],
       "layout": {
        "template": {
         "data": {
          "bar": [
           {
            "error_x": {
             "color": "#2a3f5f"
            },
            "error_y": {
             "color": "#2a3f5f"
            },
            "marker": {
             "line": {
              "color": "#E5ECF6",
              "width": 0.5
             },
             "pattern": {
              "fillmode": "overlay",
              "size": 10,
              "solidity": 0.2
             }
            },
            "type": "bar"
           }
          ],
          "barpolar": [
           {
            "marker": {
             "line": {
              "color": "#E5ECF6",
              "width": 0.5
             },
             "pattern": {
              "fillmode": "overlay",
              "size": 10,
              "solidity": 0.2
             }
            },
            "type": "barpolar"
           }
          ],
          "carpet": [
           {
            "aaxis": {
             "endlinecolor": "#2a3f5f",
             "gridcolor": "white",
             "linecolor": "white",
             "minorgridcolor": "white",
             "startlinecolor": "#2a3f5f"
            },
            "baxis": {
             "endlinecolor": "#2a3f5f",
             "gridcolor": "white",
             "linecolor": "white",
             "minorgridcolor": "white",
             "startlinecolor": "#2a3f5f"
            },
            "type": "carpet"
           }
          ],
          "choropleth": [
           {
            "colorbar": {
             "outlinewidth": 0,
             "ticks": ""
            },
            "type": "choropleth"
           }
          ],
          "contour": [
           {
            "colorbar": {
             "outlinewidth": 0,
             "ticks": ""
            },
            "colorscale": [
             [
              0,
              "#0d0887"
             ],
             [
              0.1111111111111111,
              "#46039f"
             ],
             [
              0.2222222222222222,
              "#7201a8"
             ],
             [
              0.3333333333333333,
              "#9c179e"
             ],
             [
              0.4444444444444444,
              "#bd3786"
             ],
             [
              0.5555555555555556,
              "#d8576b"
             ],
             [
              0.6666666666666666,
              "#ed7953"
             ],
             [
              0.7777777777777778,
              "#fb9f3a"
             ],
             [
              0.8888888888888888,
              "#fdca26"
             ],
             [
              1,
              "#f0f921"
             ]
            ],
            "type": "contour"
           }
          ],
          "contourcarpet": [
           {
            "colorbar": {
             "outlinewidth": 0,
             "ticks": ""
            },
            "type": "contourcarpet"
           }
          ],
          "heatmap": [
           {
            "colorbar": {
             "outlinewidth": 0,
             "ticks": ""
            },
            "colorscale": [
             [
              0,
              "#0d0887"
             ],
             [
              0.1111111111111111,
              "#46039f"
             ],
             [
              0.2222222222222222,
              "#7201a8"
             ],
             [
              0.3333333333333333,
              "#9c179e"
             ],
             [
              0.4444444444444444,
              "#bd3786"
             ],
             [
              0.5555555555555556,
              "#d8576b"
             ],
             [
              0.6666666666666666,
              "#ed7953"
             ],
             [
              0.7777777777777778,
              "#fb9f3a"
             ],
             [
              0.8888888888888888,
              "#fdca26"
             ],
             [
              1,
              "#f0f921"
             ]
            ],
            "type": "heatmap"
           }
          ],
          "heatmapgl": [
           {
            "colorbar": {
             "outlinewidth": 0,
             "ticks": ""
            },
            "colorscale": [
             [
              0,
              "#0d0887"
             ],
             [
              0.1111111111111111,
              "#46039f"
             ],
             [
              0.2222222222222222,
              "#7201a8"
             ],
             [
              0.3333333333333333,
              "#9c179e"
             ],
             [
              0.4444444444444444,
              "#bd3786"
             ],
             [
              0.5555555555555556,
              "#d8576b"
             ],
             [
              0.6666666666666666,
              "#ed7953"
             ],
             [
              0.7777777777777778,
              "#fb9f3a"
             ],
             [
              0.8888888888888888,
              "#fdca26"
             ],
             [
              1,
              "#f0f921"
             ]
            ],
            "type": "heatmapgl"
           }
          ],
          "histogram": [
           {
            "marker": {
             "pattern": {
              "fillmode": "overlay",
              "size": 10,
              "solidity": 0.2
             }
            },
            "type": "histogram"
           }
          ],
          "histogram2d": [
           {
            "colorbar": {
             "outlinewidth": 0,
             "ticks": ""
            },
            "colorscale": [
             [
              0,
              "#0d0887"
             ],
             [
              0.1111111111111111,
              "#46039f"
             ],
             [
              0.2222222222222222,
              "#7201a8"
             ],
             [
              0.3333333333333333,
              "#9c179e"
             ],
             [
              0.4444444444444444,
              "#bd3786"
             ],
             [
              0.5555555555555556,
              "#d8576b"
             ],
             [
              0.6666666666666666,
              "#ed7953"
             ],
             [
              0.7777777777777778,
              "#fb9f3a"
             ],
             [
              0.8888888888888888,
              "#fdca26"
             ],
             [
              1,
              "#f0f921"
             ]
            ],
            "type": "histogram2d"
           }
          ],
          "histogram2dcontour": [
           {
            "colorbar": {
             "outlinewidth": 0,
             "ticks": ""
            },
            "colorscale": [
             [
              0,
              "#0d0887"
             ],
             [
              0.1111111111111111,
              "#46039f"
             ],
             [
              0.2222222222222222,
              "#7201a8"
             ],
             [
              0.3333333333333333,
              "#9c179e"
             ],
             [
              0.4444444444444444,
              "#bd3786"
             ],
             [
              0.5555555555555556,
              "#d8576b"
             ],
             [
              0.6666666666666666,
              "#ed7953"
             ],
             [
              0.7777777777777778,
              "#fb9f3a"
             ],
             [
              0.8888888888888888,
              "#fdca26"
             ],
             [
              1,
              "#f0f921"
             ]
            ],
            "type": "histogram2dcontour"
           }
          ],
          "mesh3d": [
           {
            "colorbar": {
             "outlinewidth": 0,
             "ticks": ""
            },
            "type": "mesh3d"
           }
          ],
          "parcoords": [
           {
            "line": {
             "colorbar": {
              "outlinewidth": 0,
              "ticks": ""
             }
            },
            "type": "parcoords"
           }
          ],
          "pie": [
           {
            "automargin": true,
            "type": "pie"
           }
          ],
          "scatter": [
           {
            "marker": {
             "colorbar": {
              "outlinewidth": 0,
              "ticks": ""
             }
            },
            "type": "scatter"
           }
          ],
          "scatter3d": [
           {
            "line": {
             "colorbar": {
              "outlinewidth": 0,
              "ticks": ""
             }
            },
            "marker": {
             "colorbar": {
              "outlinewidth": 0,
              "ticks": ""
             }
            },
            "type": "scatter3d"
           }
          ],
          "scattercarpet": [
           {
            "marker": {
             "colorbar": {
              "outlinewidth": 0,
              "ticks": ""
             }
            },
            "type": "scattercarpet"
           }
          ],
          "scattergeo": [
           {
            "marker": {
             "colorbar": {
              "outlinewidth": 0,
              "ticks": ""
             }
            },
            "type": "scattergeo"
           }
          ],
          "scattergl": [
           {
            "marker": {
             "colorbar": {
              "outlinewidth": 0,
              "ticks": ""
             }
            },
            "type": "scattergl"
           }
          ],
          "scattermapbox": [
           {
            "marker": {
             "colorbar": {
              "outlinewidth": 0,
              "ticks": ""
             }
            },
            "type": "scattermapbox"
           }
          ],
          "scatterpolar": [
           {
            "marker": {
             "colorbar": {
              "outlinewidth": 0,
              "ticks": ""
             }
            },
            "type": "scatterpolar"
           }
          ],
          "scatterpolargl": [
           {
            "marker": {
             "colorbar": {
              "outlinewidth": 0,
              "ticks": ""
             }
            },
            "type": "scatterpolargl"
           }
          ],
          "scatterternary": [
           {
            "marker": {
             "colorbar": {
              "outlinewidth": 0,
              "ticks": ""
             }
            },
            "type": "scatterternary"
           }
          ],
          "surface": [
           {
            "colorbar": {
             "outlinewidth": 0,
             "ticks": ""
            },
            "colorscale": [
             [
              0,
              "#0d0887"
             ],
             [
              0.1111111111111111,
              "#46039f"
             ],
             [
              0.2222222222222222,
              "#7201a8"
             ],
             [
              0.3333333333333333,
              "#9c179e"
             ],
             [
              0.4444444444444444,
              "#bd3786"
             ],
             [
              0.5555555555555556,
              "#d8576b"
             ],
             [
              0.6666666666666666,
              "#ed7953"
             ],
             [
              0.7777777777777778,
              "#fb9f3a"
             ],
             [
              0.8888888888888888,
              "#fdca26"
             ],
             [
              1,
              "#f0f921"
             ]
            ],
            "type": "surface"
           }
          ],
          "table": [
           {
            "cells": {
             "fill": {
              "color": "#EBF0F8"
             },
             "line": {
              "color": "white"
             }
            },
            "header": {
             "fill": {
              "color": "#C8D4E3"
             },
             "line": {
              "color": "white"
             }
            },
            "type": "table"
           }
          ]
         },
         "layout": {
          "annotationdefaults": {
           "arrowcolor": "#2a3f5f",
           "arrowhead": 0,
           "arrowwidth": 1
          },
          "autotypenumbers": "strict",
          "coloraxis": {
           "colorbar": {
            "outlinewidth": 0,
            "ticks": ""
           }
          },
          "colorscale": {
           "diverging": [
            [
             0,
             "#8e0152"
            ],
            [
             0.1,
             "#c51b7d"
            ],
            [
             0.2,
             "#de77ae"
            ],
            [
             0.3,
             "#f1b6da"
            ],
            [
             0.4,
             "#fde0ef"
            ],
            [
             0.5,
             "#f7f7f7"
            ],
            [
             0.6,
             "#e6f5d0"
            ],
            [
             0.7,
             "#b8e186"
            ],
            [
             0.8,
             "#7fbc41"
            ],
            [
             0.9,
             "#4d9221"
            ],
            [
             1,
             "#276419"
            ]
           ],
           "sequential": [
            [
             0,
             "#0d0887"
            ],
            [
             0.1111111111111111,
             "#46039f"
            ],
            [
             0.2222222222222222,
             "#7201a8"
            ],
            [
             0.3333333333333333,
             "#9c179e"
            ],
            [
             0.4444444444444444,
             "#bd3786"
            ],
            [
             0.5555555555555556,
             "#d8576b"
            ],
            [
             0.6666666666666666,
             "#ed7953"
            ],
            [
             0.7777777777777778,
             "#fb9f3a"
            ],
            [
             0.8888888888888888,
             "#fdca26"
            ],
            [
             1,
             "#f0f921"
            ]
           ],
           "sequentialminus": [
            [
             0,
             "#0d0887"
            ],
            [
             0.1111111111111111,
             "#46039f"
            ],
            [
             0.2222222222222222,
             "#7201a8"
            ],
            [
             0.3333333333333333,
             "#9c179e"
            ],
            [
             0.4444444444444444,
             "#bd3786"
            ],
            [
             0.5555555555555556,
             "#d8576b"
            ],
            [
             0.6666666666666666,
             "#ed7953"
            ],
            [
             0.7777777777777778,
             "#fb9f3a"
            ],
            [
             0.8888888888888888,
             "#fdca26"
            ],
            [
             1,
             "#f0f921"
            ]
           ]
          },
          "colorway": [
           "#636efa",
           "#EF553B",
           "#00cc96",
           "#ab63fa",
           "#FFA15A",
           "#19d3f3",
           "#FF6692",
           "#B6E880",
           "#FF97FF",
           "#FECB52"
          ],
          "font": {
           "color": "#2a3f5f"
          },
          "geo": {
           "bgcolor": "white",
           "lakecolor": "white",
           "landcolor": "#E5ECF6",
           "showlakes": true,
           "showland": true,
           "subunitcolor": "white"
          },
          "hoverlabel": {
           "align": "left"
          },
          "hovermode": "closest",
          "mapbox": {
           "style": "light"
          },
          "paper_bgcolor": "white",
          "plot_bgcolor": "#E5ECF6",
          "polar": {
           "angularaxis": {
            "gridcolor": "white",
            "linecolor": "white",
            "ticks": ""
           },
           "bgcolor": "#E5ECF6",
           "radialaxis": {
            "gridcolor": "white",
            "linecolor": "white",
            "ticks": ""
           }
          },
          "scene": {
           "xaxis": {
            "backgroundcolor": "#E5ECF6",
            "gridcolor": "white",
            "gridwidth": 2,
            "linecolor": "white",
            "showbackground": true,
            "ticks": "",
            "zerolinecolor": "white"
           },
           "yaxis": {
            "backgroundcolor": "#E5ECF6",
            "gridcolor": "white",
            "gridwidth": 2,
            "linecolor": "white",
            "showbackground": true,
            "ticks": "",
            "zerolinecolor": "white"
           },
           "zaxis": {
            "backgroundcolor": "#E5ECF6",
            "gridcolor": "white",
            "gridwidth": 2,
            "linecolor": "white",
            "showbackground": true,
            "ticks": "",
            "zerolinecolor": "white"
           }
          },
          "shapedefaults": {
           "line": {
            "color": "#2a3f5f"
           }
          },
          "ternary": {
           "aaxis": {
            "gridcolor": "white",
            "linecolor": "white",
            "ticks": ""
           },
           "baxis": {
            "gridcolor": "white",
            "linecolor": "white",
            "ticks": ""
           },
           "bgcolor": "#E5ECF6",
           "caxis": {
            "gridcolor": "white",
            "linecolor": "white",
            "ticks": ""
           }
          },
          "title": {
           "x": 0.05
          },
          "xaxis": {
           "automargin": true,
           "gridcolor": "white",
           "linecolor": "white",
           "ticks": "",
           "title": {
            "standoff": 15
           },
           "zerolinecolor": "white",
           "zerolinewidth": 2
          },
          "yaxis": {
           "automargin": true,
           "gridcolor": "white",
           "linecolor": "white",
           "ticks": "",
           "title": {
            "standoff": 15
           },
           "zerolinecolor": "white",
           "zerolinewidth": 2
          }
         }
        },
        "title": {
         "text": "Nombre de votes vs Nombre de Pokémons par génération"
        },
        "xaxis": {
         "anchor": "y",
         "domain": [
          0,
          0.94
         ]
        },
        "yaxis": {
         "anchor": "x",
         "domain": [
          0,
          1
         ],
         "title": {
          "text": "Nombre de Votes par génération"
         }
        },
        "yaxis2": {
         "anchor": "x",
         "overlaying": "y",
         "range": [
          0,
          200
         ],
         "side": "right",
         "title": {
          "text": "Nombre de Pokémons par génération"
         }
        }
       }
      }
     },
     "metadata": {},
     "output_type": "display_data"
    }
   ],
   "source": [
    "fig = make_subplots(specs=[[{\"secondary_y\": True}]])\n",
    "\n",
    "fig.add_trace(\n",
    "    go.Bar(x=ranks['Gen'], y=ranks['Votes'], customdata=ranks['Pokémon'], hovertemplate=\"%{customdata}<extra></extra>\", showlegend = False),\n",
    "    secondary_y=False,\n",
    ")\n",
    "fig.update_traces(marker_color='rgb(158,202,225)', marker_line_color='rgb(8,48,107)',\n",
    "                  marker_line_width=0.5, opacity=0.8)\n",
    "\n",
    "y = [stats[stats['Generation']==gen].count()[0] for gen in stats['Generation'].unique()]\n",
    "\n",
    "fig.add_trace(\n",
    "    go.Scatter(x=stats['Generation'].unique(), y=y, hovertemplate=\"Il y a %{y} Pokémons dans la Génération %{x}<extra></extra>\", showlegend = False),\n",
    "    secondary_y=True,\n",
    ")\n",
    "\n",
    "fig.update_layout(title='Nombre de votes vs Nombre de Pokémons par génération')\n",
    "fig.update_yaxes(range=[0,200], title_text=\"Nombre de Pokémons par génération\", secondary_y=True)\n",
    "fig.update_yaxes(title_text=\"Nombre de Votes par génération\", secondary_y=False)\n",
    "fig.show()"
   ]
  },
  {
   "cell_type": "code",
   "execution_count": 25,
   "metadata": {},
   "outputs": [
    {
     "data": {
      "text/html": [
       "<div>\n",
       "<style scoped>\n",
       "    .dataframe tbody tr th:only-of-type {\n",
       "        vertical-align: middle;\n",
       "    }\n",
       "\n",
       "    .dataframe tbody tr th {\n",
       "        vertical-align: top;\n",
       "    }\n",
       "\n",
       "    .dataframe thead th {\n",
       "        text-align: right;\n",
       "    }\n",
       "</style>\n",
       "<table border=\"1\" class=\"dataframe\">\n",
       "  <thead>\n",
       "    <tr style=\"text-align: right;\">\n",
       "      <th></th>\n",
       "      <th>No</th>\n",
       "      <th>Name</th>\n",
       "      <th>Type1</th>\n",
       "      <th>Type2</th>\n",
       "      <th>Total</th>\n",
       "      <th>HP</th>\n",
       "      <th>Attack</th>\n",
       "      <th>Defense</th>\n",
       "      <th>Sp. Atk</th>\n",
       "      <th>Sp. Def</th>\n",
       "      <th>Speed</th>\n",
       "      <th>Generation</th>\n",
       "      <th>Legendary</th>\n",
       "      <th>Color</th>\n",
       "      <th>Height</th>\n",
       "      <th>Weight</th>\n",
       "      <th>Types</th>\n",
       "    </tr>\n",
       "  </thead>\n",
       "  <tbody>\n",
       "    <tr>\n",
       "      <th>0</th>\n",
       "      <td>1</td>\n",
       "      <td>Bulbasaur</td>\n",
       "      <td>Grass</td>\n",
       "      <td>Poison</td>\n",
       "      <td>318</td>\n",
       "      <td>45</td>\n",
       "      <td>49</td>\n",
       "      <td>49</td>\n",
       "      <td>65</td>\n",
       "      <td>65</td>\n",
       "      <td>45</td>\n",
       "      <td>1</td>\n",
       "      <td>False</td>\n",
       "      <td>Green</td>\n",
       "      <td>0.7</td>\n",
       "      <td>6.9</td>\n",
       "      <td>[Grass, Poison]</td>\n",
       "    </tr>\n",
       "    <tr>\n",
       "      <th>1</th>\n",
       "      <td>2</td>\n",
       "      <td>Ivysaur</td>\n",
       "      <td>Grass</td>\n",
       "      <td>Poison</td>\n",
       "      <td>405</td>\n",
       "      <td>60</td>\n",
       "      <td>62</td>\n",
       "      <td>63</td>\n",
       "      <td>80</td>\n",
       "      <td>80</td>\n",
       "      <td>60</td>\n",
       "      <td>1</td>\n",
       "      <td>False</td>\n",
       "      <td>Green</td>\n",
       "      <td>1.0</td>\n",
       "      <td>13.0</td>\n",
       "      <td>[Grass, Poison]</td>\n",
       "    </tr>\n",
       "    <tr>\n",
       "      <th>2</th>\n",
       "      <td>3</td>\n",
       "      <td>Venusaur</td>\n",
       "      <td>Grass</td>\n",
       "      <td>Poison</td>\n",
       "      <td>525</td>\n",
       "      <td>80</td>\n",
       "      <td>82</td>\n",
       "      <td>83</td>\n",
       "      <td>100</td>\n",
       "      <td>100</td>\n",
       "      <td>80</td>\n",
       "      <td>1</td>\n",
       "      <td>False</td>\n",
       "      <td>Green</td>\n",
       "      <td>2.0</td>\n",
       "      <td>100.0</td>\n",
       "      <td>[Grass, Poison]</td>\n",
       "    </tr>\n",
       "    <tr>\n",
       "      <th>3</th>\n",
       "      <td>4</td>\n",
       "      <td>Charmander</td>\n",
       "      <td>Fire</td>\n",
       "      <td></td>\n",
       "      <td>309</td>\n",
       "      <td>39</td>\n",
       "      <td>52</td>\n",
       "      <td>43</td>\n",
       "      <td>60</td>\n",
       "      <td>50</td>\n",
       "      <td>65</td>\n",
       "      <td>1</td>\n",
       "      <td>False</td>\n",
       "      <td>Red</td>\n",
       "      <td>0.6</td>\n",
       "      <td>8.5</td>\n",
       "      <td>[Fire]</td>\n",
       "    </tr>\n",
       "    <tr>\n",
       "      <th>4</th>\n",
       "      <td>5</td>\n",
       "      <td>Charmeleon</td>\n",
       "      <td>Fire</td>\n",
       "      <td></td>\n",
       "      <td>405</td>\n",
       "      <td>58</td>\n",
       "      <td>64</td>\n",
       "      <td>58</td>\n",
       "      <td>80</td>\n",
       "      <td>65</td>\n",
       "      <td>80</td>\n",
       "      <td>1</td>\n",
       "      <td>False</td>\n",
       "      <td>Red</td>\n",
       "      <td>1.1</td>\n",
       "      <td>19.0</td>\n",
       "      <td>[Fire]</td>\n",
       "    </tr>\n",
       "  </tbody>\n",
       "</table>\n",
       "</div>"
      ],
      "text/plain": [
       "   No        Name  Type1   Type2  Total  HP  Attack  Defense  Sp. Atk  \\\n",
       "0   1   Bulbasaur  Grass  Poison    318  45      49       49       65   \n",
       "1   2     Ivysaur  Grass  Poison    405  60      62       63       80   \n",
       "2   3    Venusaur  Grass  Poison    525  80      82       83      100   \n",
       "3   4  Charmander   Fire            309  39      52       43       60   \n",
       "4   5  Charmeleon   Fire            405  58      64       58       80   \n",
       "\n",
       "   Sp. Def  Speed  Generation  Legendary  Color  Height  Weight  \\\n",
       "0       65     45           1      False  Green     0.7     6.9   \n",
       "1       80     60           1      False  Green     1.0    13.0   \n",
       "2      100     80           1      False  Green     2.0   100.0   \n",
       "3       50     65           1      False    Red     0.6     8.5   \n",
       "4       65     80           1      False    Red     1.1    19.0   \n",
       "\n",
       "             Types  \n",
       "0  [Grass, Poison]  \n",
       "1  [Grass, Poison]  \n",
       "2  [Grass, Poison]  \n",
       "3           [Fire]  \n",
       "4           [Fire]  "
      ]
     },
     "execution_count": 25,
     "metadata": {},
     "output_type": "execute_result"
    }
   ],
   "source": [
    "stats.head()"
   ]
  },
  {
   "cell_type": "code",
   "execution_count": 26,
   "metadata": {},
   "outputs": [
    {
     "data": {
      "text/html": [
       "<div>\n",
       "<style scoped>\n",
       "    .dataframe tbody tr th:only-of-type {\n",
       "        vertical-align: middle;\n",
       "    }\n",
       "\n",
       "    .dataframe tbody tr th {\n",
       "        vertical-align: top;\n",
       "    }\n",
       "\n",
       "    .dataframe thead th {\n",
       "        text-align: right;\n",
       "    }\n",
       "</style>\n",
       "<table border=\"1\" class=\"dataframe\">\n",
       "  <thead>\n",
       "    <tr style=\"text-align: right;\">\n",
       "      <th></th>\n",
       "      <th>Classement</th>\n",
       "      <th>Pokémon</th>\n",
       "      <th>Votes</th>\n",
       "      <th>% de joueurs ayant vote pour</th>\n",
       "      <th>English</th>\n",
       "      <th>Type1</th>\n",
       "      <th>Type2</th>\n",
       "      <th>Types</th>\n",
       "      <th>Gen</th>\n",
       "      <th>Legendary</th>\n",
       "      <th>Color</th>\n",
       "      <th>No</th>\n",
       "    </tr>\n",
       "  </thead>\n",
       "  <tbody>\n",
       "    <tr>\n",
       "      <th>0</th>\n",
       "      <td>1</td>\n",
       "      <td>Carchacrok</td>\n",
       "      <td>2190</td>\n",
       "      <td>12,16%</td>\n",
       "      <td>Garchomp</td>\n",
       "      <td>Dragon</td>\n",
       "      <td>Ground</td>\n",
       "      <td>[Dragon, Ground]</td>\n",
       "      <td>4</td>\n",
       "      <td>False</td>\n",
       "      <td>Blue</td>\n",
       "      <td>445</td>\n",
       "    </tr>\n",
       "    <tr>\n",
       "      <th>1</th>\n",
       "      <td>2</td>\n",
       "      <td>Ectoplasma</td>\n",
       "      <td>1999</td>\n",
       "      <td>11,10%</td>\n",
       "      <td>Gengar</td>\n",
       "      <td>Ghost</td>\n",
       "      <td>Poison</td>\n",
       "      <td>[Ghost, Poison]</td>\n",
       "      <td>1</td>\n",
       "      <td>False</td>\n",
       "      <td>Purple</td>\n",
       "      <td>94</td>\n",
       "    </tr>\n",
       "    <tr>\n",
       "      <th>2</th>\n",
       "      <td>3</td>\n",
       "      <td>Rayquaza</td>\n",
       "      <td>1672</td>\n",
       "      <td>9,29%</td>\n",
       "      <td>Rayquaza</td>\n",
       "      <td>Dragon</td>\n",
       "      <td>Flying</td>\n",
       "      <td>[Dragon, Flying]</td>\n",
       "      <td>3</td>\n",
       "      <td>True</td>\n",
       "      <td>Green</td>\n",
       "      <td>384</td>\n",
       "    </tr>\n",
       "    <tr>\n",
       "      <th>3</th>\n",
       "      <td>4</td>\n",
       "      <td>Amphinobi</td>\n",
       "      <td>1654</td>\n",
       "      <td>9,19%</td>\n",
       "      <td>Greninja</td>\n",
       "      <td>Water</td>\n",
       "      <td>Dark</td>\n",
       "      <td>[Water, Dark]</td>\n",
       "      <td>6</td>\n",
       "      <td>False</td>\n",
       "      <td>Blue</td>\n",
       "      <td>658</td>\n",
       "    </tr>\n",
       "    <tr>\n",
       "      <th>4</th>\n",
       "      <td>5</td>\n",
       "      <td>Lucario</td>\n",
       "      <td>1441</td>\n",
       "      <td>8,00%</td>\n",
       "      <td>Lucario</td>\n",
       "      <td>Fighting</td>\n",
       "      <td>Steel</td>\n",
       "      <td>[Fighting, Steel]</td>\n",
       "      <td>4</td>\n",
       "      <td>False</td>\n",
       "      <td>Blue</td>\n",
       "      <td>448</td>\n",
       "    </tr>\n",
       "  </tbody>\n",
       "</table>\n",
       "</div>"
      ],
      "text/plain": [
       "   Classement     Pokémon  Votes % de joueurs ayant vote pour   English  \\\n",
       "0           1  Carchacrok   2190                       12,16%  Garchomp   \n",
       "1           2  Ectoplasma   1999                       11,10%    Gengar   \n",
       "2           3    Rayquaza   1672                        9,29%  Rayquaza   \n",
       "3           4   Amphinobi   1654                        9,19%  Greninja   \n",
       "4           5     Lucario   1441                        8,00%   Lucario   \n",
       "\n",
       "      Type1   Type2              Types  Gen  Legendary   Color   No  \n",
       "0    Dragon  Ground   [Dragon, Ground]    4      False    Blue  445  \n",
       "1     Ghost  Poison    [Ghost, Poison]    1      False  Purple   94  \n",
       "2    Dragon  Flying   [Dragon, Flying]    3       True   Green  384  \n",
       "3     Water    Dark      [Water, Dark]    6      False    Blue  658  \n",
       "4  Fighting   Steel  [Fighting, Steel]    4      False    Blue  448  "
      ]
     },
     "execution_count": 26,
     "metadata": {},
     "output_type": "execute_result"
    }
   ],
   "source": [
    "ranks.head()"
   ]
  },
  {
   "cell_type": "markdown",
   "metadata": {},
   "source": [
    "## Deep learning let's go\n",
    "\n",
    "On veut\n",
    "* prédire le type | entrées: images | sorties: type\n",
    "* prédire le poids et la taille | entrées: images | sorties: (taille, poids)\n",
    "* reconnaître le nom à partir de l'image ?\n",
    "* prédire les stats ?"
   ]
  },
  {
   "cell_type": "code",
   "execution_count": 27,
   "metadata": {},
   "outputs": [],
   "source": [
    "import tensorflow as tf\n",
    "from tensorflow import keras\n",
    "import tensorflow_hub as hub\n",
    "from keras.preprocessing import image\n",
    "from utils import *\n",
    "import os\n",
    "import glob\n",
    "from PIL import Image\n",
    "from sklearn.preprocessing import MultiLabelBinarizer\n",
    "from sklearn.model_selection import train_test_split\n",
    "from sklearn.calibration import calibration_curve\n",
    "from tensorflow.keras import layers\n",
    "from pathlib import Path"
   ]
  },
  {
   "cell_type": "code",
   "execution_count": 28,
   "metadata": {},
   "outputs": [
    {
     "name": "stdout",
     "output_type": "stream",
     "text": [
      "[name: \"/device:CPU:0\"\n",
      "device_type: \"CPU\"\n",
      "memory_limit: 268435456\n",
      "locality {\n",
      "}\n",
      "incarnation: 2634679133462989911\n",
      ", name: \"/device:GPU:0\"\n",
      "device_type: \"GPU\"\n",
      "memory_limit: 5754978304\n",
      "locality {\n",
      "  bus_id: 1\n",
      "  links {\n",
      "  }\n",
      "}\n",
      "incarnation: 828637019966586908\n",
      "physical_device_desc: \"device: 0, name: NVIDIA GeForce RTX 3070 Laptop GPU, pci bus id: 0000:01:00.0, compute capability: 8.6\"\n",
      "]\n"
     ]
    },
    {
     "data": {
      "text/plain": [
       "<tensorflow.python.eager.context._EagerDeviceContext at 0x25d0fe3dec0>"
      ]
     },
     "execution_count": 28,
     "metadata": {},
     "output_type": "execute_result"
    }
   ],
   "source": [
    "from tensorflow.python.client import device_lib\n",
    "print(device_lib.list_local_devices())\n",
    "tf.device(\"gpu\")"
   ]
  },
  {
   "cell_type": "code",
   "execution_count": 29,
   "metadata": {},
   "outputs": [],
   "source": [
    "CodeGen = {\n",
    "    0: 0,\n",
    "    1: 151,\n",
    "    2: 251,\n",
    "    3: 386,\n",
    "    4: 494,\n",
    "    5: 649,\n",
    "    6: 721,\n",
    "    7: 809,\n",
    "    8: 897,\n",
    "}"
   ]
  },
  {
   "cell_type": "code",
   "execution_count": 60,
   "metadata": {},
   "outputs": [],
   "source": [
    "def getImages(gen):\n",
    "    \n",
    "    poke_df2 = stats\n",
    "    \n",
    "    poke_df2 = poke_df2[poke_df2['No'] <= CodeGen[gen]]\n",
    "    poke_df2 = poke_df2[poke_df2['No'] > CodeGen[gen-1]]\n",
    "    \n",
    "    path = 'sprites/sprites/pokemon/'\n",
    "    png_files = glob.glob(path + \"/**/*.png\", recursive = True)\n",
    "    # print(png_files)\n",
    "    \n",
    "    png_filter = [i for i in png_files if Path(i).stem.isdigit()]\n",
    "    \n",
    "    png_filter = [i for i in png_filter if int(Path(i).stem) in list(poke_df2['No'])]\n",
    "    \n",
    "    gen_poke = pd.DataFrame(png_filter)\n",
    "\n",
    "    poke_df2 = poke_df2.set_index('No')\n",
    "    \n",
    "    gen_poke['Types'] = [poke_df2['Types'][int(Path(i).stem)] for i in png_filter]\n",
    "    \n",
    "    gen_poke = gen_poke.rename(columns={0: \"sprites\"})\n",
    "    # print(gen_poke.isnull().values.sum())\n",
    "    \n",
    "    X_train, X_val, y_train, y_val = train_test_split(gen_poke['sprites'], gen_poke['Types'], test_size=0.2, random_state=44)\n",
    "    \n",
    "    X_train.index = list(range(len(X_train)))\n",
    "    y_train.index = list(range(len(y_train)))\n",
    "    \n",
    "    X_val.index = list(range(len(X_val)))\n",
    "    y_val.index = list(range(len(y_val)))\n",
    "    \n",
    "    return X_train, X_val, y_train, y_val"
   ]
  },
  {
   "cell_type": "code",
   "execution_count": 61,
   "metadata": {},
   "outputs": [],
   "source": [
    "X_train_gen1, X_val_gen1, y_train_gen1, y_val_gen1 = getImages(1)\n",
    "X_train_gen2, X_val_gen2, y_train_gen2, y_val_gen2 = getImages(2)\n",
    "X_train_gen3, X_val_gen3, y_train_gen3, y_val_gen3 = getImages(3)\n",
    "X_train_gen4, X_val_gen4, y_train_gen4, y_val_gen4 = getImages(4)\n",
    "X_train_gen5, X_val_gen5, y_train_gen5, y_val_gen5 = getImages(5)\n",
    "X_train_gen6, X_val_gen6, y_train_gen6, y_val_gen6 = getImages(6)\n",
    "X_train_gen7, X_val_gen7, y_train_gen7, y_val_gen7 = getImages(7)\n",
    "\n",
    "X_train = pd.concat([X_train_gen1, X_train_gen2, X_train_gen3, X_train_gen4, X_train_gen5, X_train_gen6, X_train_gen7], ignore_index = True)\n",
    "X_val = pd.concat([X_val_gen1, X_val_gen2, X_val_gen3, X_val_gen4, X_val_gen5, X_val_gen6, X_val_gen7], ignore_index = True)\n",
    "y_train = pd.concat([y_train_gen1, y_train_gen2, y_train_gen3, y_train_gen4, y_train_gen5, y_train_gen6, y_train_gen7], ignore_index = True)\n",
    "y_val = pd.concat([y_val_gen1, y_val_gen2, y_val_gen3, y_val_gen4, y_val_gen5, y_val_gen6, y_val_gen7], ignore_index = True)\n",
    "\n",
    "X_train = X_train_gen1\n",
    "X_val = X_val_gen1\n",
    "y_train = y_train_gen1\n",
    "y_val = y_val_gen1\n",
    "\n",
    "# Shuffle data\n",
    "# print(len(y_val))\n",
    "# print(len(y_train))\n",
    "# print(len(X_val))\n",
    "# print(len(X_train))\n",
    "\n",
    "p = np.random.permutation(len(y_train))\n",
    "\n",
    "X_train = X_train[p]\n",
    "y_train = y_train[p]\n",
    "# X_train = X_train[:1037]\n",
    "# y_train = y_train[:1037]\n",
    "\n",
    "X_train.index = list(range(len(X_train)))\n",
    "y_train.index = list(range(len(y_train)))\n",
    "\n",
    "q = np.random.permutation(len(y_val))\n",
    "\n",
    "X_val = X_val[q]\n",
    "y_val = y_val[q]\n",
    "# X_val = X_val[:1037]\n",
    "# y_val = y_val[:1037]\n",
    "\n",
    "X_val.index = list(range(len(X_val)))\n",
    "y_val.index = list(range(len(y_val)))"
   ]
  },
  {
   "cell_type": "code",
   "execution_count": 62,
   "metadata": {},
   "outputs": [
    {
     "name": "stdout",
     "output_type": "stream",
     "text": [
      "Labels:\n",
      "0. Bug\n",
      "1. Dragon\n",
      "2. Electric\n",
      "3. Fairy\n",
      "4. Fighting\n",
      "5. Fire\n",
      "6. Flying\n",
      "7. Ghost\n",
      "8. Grass\n",
      "9. Ground\n",
      "10. Ice\n",
      "11. Normal\n",
      "12. Poison\n",
      "13. Psychic\n",
      "14. Rock\n",
      "15. Steel\n",
      "16. Water\n",
      "sprites/sprites/pokemon\\versions\\generation-iii\\ruby-sapphire\\back\\112.png [0 0 0 0 0 0 0 0 0 1 0 0 0 0 1 0 0]\n",
      "sprites/sprites/pokemon\\versions\\generation-i\\yellow\\transparent\\back\\119.png [0 0 0 0 0 0 0 0 0 0 0 0 0 0 0 0 1]\n",
      "sprites/sprites/pokemon\\versions\\generation-vii\\ultra-sun-ultra-moon\\147.png [0 1 0 0 0 0 0 0 0 0 0 0 0 0 0 0 0]\n"
     ]
    }
   ],
   "source": [
    "# Fit the multi-label binarizer on the training set\n",
    "print(\"Labels:\")\n",
    "mlb = MultiLabelBinarizer()\n",
    "mlb.fit(y_train)\n",
    "\n",
    "# Loop over all labels and show them\n",
    "N_LABELS = len(mlb.classes_)\n",
    "for (i, label) in enumerate(mlb.classes_):\n",
    "    print(\"{}. {}\".format(i, label))\n",
    "    \n",
    "# transform the targets of the training and test sets\n",
    "y_train_bin = mlb.transform(y_train)\n",
    "y_val_bin = mlb.transform(y_val)\n",
    "\n",
    "# Print example of Pokemon png files and their binary targets\n",
    "for i in range(3):\n",
    "    print(X_train[i], y_train_bin[i])"
   ]
  },
  {
   "cell_type": "code",
   "execution_count": 63,
   "metadata": {},
   "outputs": [],
   "source": [
    "IMG_SIZE = 224 # Specify height and width of image to match the input format of the model\n",
    "CHANNELS = 3 # Keep RGB color channels to match the input format of the model\n",
    "BATCH_SIZE = 256 # Big enough to measure an F1-score\n",
    "AUTOTUNE = tf.data.experimental.AUTOTUNE # Adapt preprocessing and prefetching dynamically\n",
    "SHUFFLE_BUFFER_SIZE = 1024 # Shuffle the training data by a chunck of 1024 observations"
   ]
  },
  {
   "cell_type": "code",
   "execution_count": 64,
   "metadata": {},
   "outputs": [],
   "source": [
    "def parse_function(filename, label):\n",
    "    \"\"\"Function that returns a tuple of normalized image array and labels array.\n",
    "    Args:\n",
    "        filename: string representing path to image\n",
    "        label: 0/1 one-dimensional array of size N_LABELS\n",
    "    \"\"\"\n",
    "    # Read an image from a file\n",
    "    image_string = tf.io.read_file(filename)\n",
    "    # Decode it into a dense vector\n",
    "    image_decoded = tf.image.decode_jpeg(image_string, channels=CHANNELS)\n",
    "    # Resize it to fixed shape\n",
    "    image_resized = tf.image.resize(image_decoded, [IMG_SIZE, IMG_SIZE])\n",
    "    # Normalize it from [0, 255] to [0.0, 1.0]\n",
    "    image_normalized = image_resized / 255.0\n",
    "    return image_normalized, label"
   ]
  },
  {
   "cell_type": "code",
   "execution_count": 65,
   "metadata": {},
   "outputs": [],
   "source": [
    "def create_dataset(filenames, labels, is_training=True):\n",
    "    \"\"\"Load and parse dataset.\n",
    "    Args:\n",
    "        filenames: list of image paths\n",
    "        labels: numpy array of shape (BATCH_SIZE, N_LABELS)\n",
    "        is_training: boolean to indicate training mode\n",
    "    \"\"\"\n",
    "    \n",
    "    # Create a first dataset of file paths and labels\n",
    "    dataset = tf.data.Dataset.from_tensor_slices((filenames, labels))\n",
    "    # Parse and preprocess observations in parallel\n",
    "    dataset = dataset.map(parse_function, num_parallel_calls=AUTOTUNE)\n",
    "    \n",
    "    if is_training == True:\n",
    "        # This is a small dataset, only load it once, and keep it in memory.\n",
    "        dataset = dataset.cache()\n",
    "        # Shuffle the data each buffer size\n",
    "        dataset = dataset.shuffle(buffer_size=SHUFFLE_BUFFER_SIZE)\n",
    "        \n",
    "    # Batch the data for multiple steps\n",
    "    dataset = dataset.batch(BATCH_SIZE)\n",
    "    # Fetch batches in the background while the model is training.\n",
    "    dataset = dataset.prefetch(buffer_size=AUTOTUNE)\n",
    "    \n",
    "    return dataset\n",
    "    \n",
    "train_ds = create_dataset(X_train, y_train_bin)\n",
    "val_ds = create_dataset(X_val, y_val_bin)"
   ]
  },
  {
   "cell_type": "code",
   "execution_count": 66,
   "metadata": {},
   "outputs": [],
   "source": [
    "def macro_soft_f1(y, y_hat):\n",
    "    \"\"\"Compute the macro soft F1-score as a cost.\n",
    "    Average (1 - soft-F1) across all labels.\n",
    "    Use probability values instead of binary predictions.\n",
    "    \n",
    "    Args:\n",
    "        y (int32 Tensor): targets array of shape (BATCH_SIZE, N_LABELS)\n",
    "        y_hat (float32 Tensor): probability matrix of shape (BATCH_SIZE, N_LABELS)\n",
    "        \n",
    "    Returns:\n",
    "        cost (scalar Tensor): value of the cost function for the batch\n",
    "    \"\"\"\n",
    "    \n",
    "    y = tf.cast(y, tf.float32)\n",
    "    y_hat = tf.cast(y_hat, tf.float32)\n",
    "    tp = tf.reduce_sum(y_hat * y, axis=0)\n",
    "    fp = tf.reduce_sum(y_hat * (1 - y), axis=0)\n",
    "    fn = tf.reduce_sum((1 - y_hat) * y, axis=0)\n",
    "    soft_f1 = 2*tp / (2*tp + fn + fp + 1e-16)\n",
    "    cost = 1 - soft_f1 # reduce 1 - soft-f1 in order to increase soft-f1\n",
    "    macro_cost = tf.reduce_mean(cost) # average on all labels\n",
    "    \n",
    "    return macro_cost"
   ]
  },
  {
   "cell_type": "code",
   "execution_count": 67,
   "metadata": {},
   "outputs": [],
   "source": [
    "def macro_f1(y, y_hat, thresh=0.5):\n",
    "    \"\"\"Compute the macro F1-score on a batch of observations (average F1 across labels)\n",
    "    \n",
    "    Args:\n",
    "        y (int32 Tensor): labels array of shape (BATCH_SIZE, N_LABELS)\n",
    "        y_hat (float32 Tensor): probability matrix from forward propagation of shape (BATCH_SIZE, N_LABELS)\n",
    "        thresh: probability value above which we predict positive\n",
    "        \n",
    "    Returns:\n",
    "        macro_f1 (scalar Tensor): value of macro F1 for the batch\n",
    "    \"\"\"\n",
    "    y_pred = tf.cast(tf.greater(y_hat, thresh), tf.float32)\n",
    "    tp = tf.cast(tf.math.count_nonzero(y_pred * y, axis=0), tf.float32)\n",
    "    fp = tf.cast(tf.math.count_nonzero(y_pred * (1 - y), axis=0), tf.float32)\n",
    "    fn = tf.cast(tf.math.count_nonzero((1 - y_pred) * y, axis=0), tf.float32)\n",
    "    f1 = 2*tp / (2*tp + fn + fp + 1e-16)\n",
    "    macro_f1 = tf.reduce_mean(f1)\n",
    "    return macro_f1"
   ]
  },
  {
   "cell_type": "code",
   "execution_count": 123,
   "metadata": {},
   "outputs": [
    {
     "name": "stdout",
     "output_type": "stream",
     "text": [
      "Model: \"sequential_3\"\n",
      "_________________________________________________________________\n",
      "Layer (type)                 Output Shape              Param #   \n",
      "=================================================================\n",
      "keras_layer_3 (KerasLayer)   (None, 1280)              2257984   \n",
      "_________________________________________________________________\n",
      "hidden_layer (Dense)         (None, 1024)              1311744   \n",
      "_________________________________________________________________\n",
      "output (Dense)               (None, 17)                17425     \n",
      "=================================================================\n",
      "Total params: 3,587,153\n",
      "Trainable params: 1,329,169\n",
      "Non-trainable params: 2,257,984\n",
      "_________________________________________________________________\n",
      "Epoch 1/50\n",
      "37/37 [==============================] - 17s 365ms/step - loss: 0.8344 - macro_f1: 0.2083 - val_loss: 0.7950 - val_macro_f1: 0.2774\n",
      "Epoch 2/50\n",
      "37/37 [==============================] - 11s 293ms/step - loss: 0.7282 - macro_f1: 0.3775 - val_loss: 0.6725 - val_macro_f1: 0.4145\n",
      "Epoch 3/50\n",
      "37/37 [==============================] - 11s 286ms/step - loss: 0.6102 - macro_f1: 0.4951 - val_loss: 0.5938 - val_macro_f1: 0.4797\n",
      "Epoch 4/50\n",
      "37/37 [==============================] - 10s 277ms/step - loss: 0.5323 - macro_f1: 0.5725 - val_loss: 0.5329 - val_macro_f1: 0.5370\n",
      "Epoch 5/50\n",
      "37/37 [==============================] - 10s 274ms/step - loss: 0.4859 - macro_f1: 0.6109 - val_loss: 0.5025 - val_macro_f1: 0.5684\n",
      "Epoch 6/50\n",
      "37/37 [==============================] - 11s 304ms/step - loss: 0.4494 - macro_f1: 0.6426 - val_loss: 0.4761 - val_macro_f1: 0.5974\n",
      "Epoch 7/50\n",
      "37/37 [==============================] - 11s 296ms/step - loss: 0.4250 - macro_f1: 0.6592 - val_loss: 0.4572 - val_macro_f1: 0.5998\n",
      "Epoch 8/50\n",
      "37/37 [==============================] - 10s 278ms/step - loss: 0.4002 - macro_f1: 0.6834 - val_loss: 0.4463 - val_macro_f1: 0.6209\n",
      "Epoch 9/50\n",
      "37/37 [==============================] - 10s 277ms/step - loss: 0.3854 - macro_f1: 0.6933 - val_loss: 0.4299 - val_macro_f1: 0.6268\n",
      "Epoch 10/50\n",
      "37/37 [==============================] - 11s 302ms/step - loss: 0.3698 - macro_f1: 0.7042 - val_loss: 0.4286 - val_macro_f1: 0.6229\n",
      "Epoch 11/50\n",
      "37/37 [==============================] - 11s 287ms/step - loss: 0.3584 - macro_f1: 0.7140 - val_loss: 0.4208 - val_macro_f1: 0.6237\n",
      "Epoch 12/50\n",
      "37/37 [==============================] - 11s 285ms/step - loss: 0.3457 - macro_f1: 0.7247 - val_loss: 0.4174 - val_macro_f1: 0.6279\n",
      "Epoch 13/50\n",
      "37/37 [==============================] - 11s 284ms/step - loss: 0.3297 - macro_f1: 0.7389 - val_loss: 0.3965 - val_macro_f1: 0.6517\n",
      "Epoch 14/50\n",
      "37/37 [==============================] - 11s 283ms/step - loss: 0.3231 - macro_f1: 0.7436 - val_loss: 0.3971 - val_macro_f1: 0.6404\n",
      "Epoch 15/50\n",
      "37/37 [==============================] - 10s 280ms/step - loss: 0.3136 - macro_f1: 0.7499 - val_loss: 0.3836 - val_macro_f1: 0.6578\n",
      "Epoch 16/50\n",
      "37/37 [==============================] - 10s 278ms/step - loss: 0.3042 - macro_f1: 0.7598 - val_loss: 0.3821 - val_macro_f1: 0.6583\n",
      "Epoch 17/50\n",
      "37/37 [==============================] - 10s 276ms/step - loss: 0.2959 - macro_f1: 0.7671 - val_loss: 0.3745 - val_macro_f1: 0.6503\n",
      "Epoch 18/50\n",
      "37/37 [==============================] - 10s 278ms/step - loss: 0.2865 - macro_f1: 0.7751 - val_loss: 0.3761 - val_macro_f1: 0.6632\n",
      "Epoch 19/50\n",
      "37/37 [==============================] - 10s 277ms/step - loss: 0.2839 - macro_f1: 0.7754 - val_loss: 0.3578 - val_macro_f1: 0.6818\n",
      "Epoch 20/50\n",
      "37/37 [==============================] - 10s 278ms/step - loss: 0.2777 - macro_f1: 0.7831 - val_loss: 0.3576 - val_macro_f1: 0.6843\n",
      "Epoch 21/50\n",
      "37/37 [==============================] - 10s 277ms/step - loss: 0.2701 - macro_f1: 0.7876 - val_loss: 0.3503 - val_macro_f1: 0.6813\n",
      "Epoch 22/50\n",
      "37/37 [==============================] - 10s 280ms/step - loss: 0.2626 - macro_f1: 0.7945 - val_loss: 0.3393 - val_macro_f1: 0.6985\n",
      "Epoch 23/50\n",
      "37/37 [==============================] - 10s 280ms/step - loss: 0.2595 - macro_f1: 0.7964 - val_loss: 0.3414 - val_macro_f1: 0.6979\n",
      "Epoch 24/50\n",
      "37/37 [==============================] - 10s 278ms/step - loss: 0.2505 - macro_f1: 0.8037 - val_loss: 0.3424 - val_macro_f1: 0.6996\n",
      "Epoch 25/50\n",
      "37/37 [==============================] - 10s 279ms/step - loss: 0.2420 - macro_f1: 0.8139 - val_loss: 0.3368 - val_macro_f1: 0.7074\n",
      "Epoch 26/50\n",
      "37/37 [==============================] - 10s 280ms/step - loss: 0.2368 - macro_f1: 0.8172 - val_loss: 0.3346 - val_macro_f1: 0.7000\n",
      "Epoch 27/50\n",
      "37/37 [==============================] - 10s 277ms/step - loss: 0.2359 - macro_f1: 0.8164 - val_loss: 0.3217 - val_macro_f1: 0.7266\n",
      "Epoch 28/50\n",
      "37/37 [==============================] - 10s 275ms/step - loss: 0.2332 - macro_f1: 0.8179 - val_loss: 0.3283 - val_macro_f1: 0.7216\n",
      "Epoch 29/50\n",
      "37/37 [==============================] - 10s 275ms/step - loss: 0.2254 - macro_f1: 0.8246 - val_loss: 0.3221 - val_macro_f1: 0.7125\n",
      "Epoch 30/50\n",
      "37/37 [==============================] - 10s 280ms/step - loss: 0.2232 - macro_f1: 0.8265 - val_loss: 0.3171 - val_macro_f1: 0.7185\n",
      "Epoch 31/50\n",
      "37/37 [==============================] - 10s 278ms/step - loss: 0.2193 - macro_f1: 0.8298 - val_loss: 0.3258 - val_macro_f1: 0.7051\n",
      "Epoch 32/50\n",
      "37/37 [==============================] - 11s 287ms/step - loss: 0.2173 - macro_f1: 0.8301 - val_loss: 0.3057 - val_macro_f1: 0.7287\n",
      "Epoch 33/50\n",
      "37/37 [==============================] - 10s 276ms/step - loss: 0.2162 - macro_f1: 0.8302 - val_loss: 0.3103 - val_macro_f1: 0.7101\n",
      "Epoch 34/50\n",
      "37/37 [==============================] - 10s 278ms/step - loss: 0.2070 - macro_f1: 0.8374 - val_loss: 0.3034 - val_macro_f1: 0.7410\n",
      "Epoch 35/50\n",
      "37/37 [==============================] - 11s 292ms/step - loss: 0.2018 - macro_f1: 0.8435 - val_loss: 0.3008 - val_macro_f1: 0.7352\n",
      "Epoch 36/50\n",
      "37/37 [==============================] - 10s 280ms/step - loss: 0.2031 - macro_f1: 0.8409 - val_loss: 0.3017 - val_macro_f1: 0.7346\n",
      "Epoch 37/50\n",
      "37/37 [==============================] - 10s 278ms/step - loss: 0.2015 - macro_f1: 0.8423 - val_loss: 0.2992 - val_macro_f1: 0.7318\n",
      "Epoch 38/50\n",
      "37/37 [==============================] - 10s 276ms/step - loss: 0.1957 - macro_f1: 0.8470 - val_loss: 0.2932 - val_macro_f1: 0.7335\n",
      "Epoch 39/50\n",
      "37/37 [==============================] - 10s 278ms/step - loss: 0.1925 - macro_f1: 0.8491 - val_loss: 0.3093 - val_macro_f1: 0.7152\n",
      "Epoch 40/50\n",
      "37/37 [==============================] - 11s 283ms/step - loss: 0.1888 - macro_f1: 0.8532 - val_loss: 0.3010 - val_macro_f1: 0.7370\n",
      "Epoch 41/50\n",
      "37/37 [==============================] - 10s 277ms/step - loss: 0.1896 - macro_f1: 0.8512 - val_loss: 0.2937 - val_macro_f1: 0.7260\n",
      "Epoch 42/50\n",
      "37/37 [==============================] - 10s 279ms/step - loss: 0.1839 - macro_f1: 0.8564 - val_loss: 0.2869 - val_macro_f1: 0.7364\n",
      "Epoch 43/50\n",
      "37/37 [==============================] - 10s 279ms/step - loss: 0.1859 - macro_f1: 0.8537 - val_loss: 0.2802 - val_macro_f1: 0.7651\n",
      "Epoch 44/50\n",
      "37/37 [==============================] - 10s 279ms/step - loss: 0.1805 - macro_f1: 0.8593 - val_loss: 0.2795 - val_macro_f1: 0.7525\n",
      "Epoch 45/50\n",
      "37/37 [==============================] - 10s 277ms/step - loss: 0.1754 - macro_f1: 0.8632 - val_loss: 0.2846 - val_macro_f1: 0.7509\n",
      "Epoch 46/50\n",
      "37/37 [==============================] - 10s 278ms/step - loss: 0.1844 - macro_f1: 0.8540 - val_loss: 0.2858 - val_macro_f1: 0.7427\n",
      "Epoch 47/50\n",
      "37/37 [==============================] - 10s 278ms/step - loss: 0.1711 - macro_f1: 0.8664 - val_loss: 0.2841 - val_macro_f1: 0.7372\n",
      "Epoch 48/50\n",
      "37/37 [==============================] - 10s 279ms/step - loss: 0.1663 - macro_f1: 0.8705 - val_loss: 0.2759 - val_macro_f1: 0.7403\n",
      "Epoch 49/50\n",
      "37/37 [==============================] - 10s 278ms/step - loss: 0.1689 - macro_f1: 0.8670 - val_loss: 0.2703 - val_macro_f1: 0.7554\n",
      "Epoch 50/50\n",
      "37/37 [==============================] - 10s 275ms/step - loss: 0.1640 - macro_f1: 0.8710 - val_loss: 0.2787 - val_macro_f1: 0.7469\n"
     ]
    }
   ],
   "source": [
    "feature_extractor_url = \"https://tfhub.dev/google/imagenet/mobilenet_v2_100_224/feature_vector/4\"\n",
    "feature_extractor_layer = hub.KerasLayer(feature_extractor_url,\n",
    "                                         input_shape=(IMG_SIZE,IMG_SIZE,CHANNELS))\n",
    "\n",
    "# this prevents the parameters of the pre-trained model being adjusted during the training\n",
    "feature_extractor_layer.trainable = False\n",
    "\n",
    "model = tf.keras.Sequential([\n",
    "    feature_extractor_layer,\n",
    "    layers.Dense(1024, activation='relu', name='hidden_layer'),\n",
    "    layers.Dense(N_LABELS, activation='sigmoid', name='output')\n",
    "])\n",
    "\n",
    "model.summary()\n",
    "\n",
    "LR = 1e-4 # Learning rate. Keep it small when transfer learning\n",
    "EPOCHS = 50\n",
    "\n",
    "model.compile(\n",
    "  optimizer=tf.keras.optimizers.Adam(learning_rate=LR),\n",
    "  loss=macro_soft_f1,\n",
    "  metrics=[macro_f1])\n",
    "\n",
    "history = model.fit(train_ds,\n",
    "                    epochs=EPOCHS,\n",
    "                    validation_data=create_dataset(X_val, y_val_bin))"
   ]
  },
  {
   "cell_type": "code",
   "execution_count": 124,
   "metadata": {},
   "outputs": [
    {
     "data": {
      "image/png": "[encoded data removed]",
      "text/plain": [
       "<Figure size 432x288 with 1 Axes>"
      ]
     },
     "metadata": {
      "needs_background": "light"
     },
     "output_type": "display_data"
    },
    {
     "data": {
      "image/png": "[encoded data removed]",
      "text/plain": [
       "<Figure size 432x288 with 1 Axes>"
      ]
     },
     "metadata": {
      "needs_background": "light"
     },
     "output_type": "display_data"
    }
   ],
   "source": [
    "import matplotlib.pyplot as plt\n",
    "plt.plot(history.history['macro_f1'])\n",
    "plt.plot(history.history['val_macro_f1'])\n",
    "plt.title('model accuracy')\n",
    "plt.ylabel('accuracy')\n",
    "plt.xlabel('epoch')\n",
    "plt.legend(['train', 'test'], loc='upper left')\n",
    "plt.show()\n",
    "# summarize history for loss\n",
    "plt.plot(history.history['loss'])\n",
    "plt.plot(history.history['val_loss'])\n",
    "plt.title('model loss')\n",
    "plt.ylabel('loss')\n",
    "plt.xlabel('epoch')\n",
    "plt.legend(['train', 'test'], loc='upper left')\n",
    "plt.show()"
   ]
  },
  {
   "cell_type": "code",
   "execution_count": 125,
   "metadata": {},
   "outputs": [],
   "source": [
    "# losses, val_losses, macro_f1s, val_macro_f1s = learning_curves(history)"
   ]
  },
  {
   "cell_type": "code",
   "execution_count": 126,
   "metadata": {},
   "outputs": [],
   "source": [
    "def show_prediction(listPoke, model, display_output=False):\n",
    "    acc = 0\n",
    "    nbTypes = 0\n",
    "    for name in listPoke:\n",
    "        # Get each Pokemon's name and type from the generation 6 games\n",
    "        pokeId = stats.loc[stats['Name']==name]['No'].iloc[0]\n",
    "        types = stats.loc[stats['Name']==name]['Types'].iloc[0]\n",
    "        img_path = os.path.join('sprites/sprites/pokemon/', str(pokeId)+'.png')\n",
    "        # img_path = os.path.join('sprites/sprites/pokemon/versions/generation-iii/emerald/', str(pokeId)+'.png')\n",
    "\n",
    "        # Read and prepare image\n",
    "        img = image.load_img(img_path, target_size=(IMG_SIZE,IMG_SIZE,CHANNELS))\n",
    "        if display_output:\n",
    "            plt.imshow(img)\n",
    "            plt.tight_layout()\n",
    "            plt.show()\n",
    "        img = image.img_to_array(img)\n",
    "        img = img/255\n",
    "        img = np.expand_dims(img, axis=0)\n",
    "\n",
    "        # Generate prediction\n",
    "        prediction = (model.predict(img) > 0.5).astype('int')\n",
    "        prediction = pd.Series(prediction[0])\n",
    "        prediction.index = mlb.classes_\n",
    "        prediction = prediction[prediction==1].index.values\n",
    "        \n",
    "        nbTypes += len(types)\n",
    "\n",
    "        if list(prediction):\n",
    "            for type_predicted in list(prediction):\n",
    "                if type_predicted in types:\n",
    "                    acc+=1\n",
    "\n",
    "        if display_output:\n",
    "            print('\\n\\n{}\\nType\\n{}\\n\\nPrediction\\n{}\\n'.format(name, types, list(prediction)))\n",
    "\n",
    "    print(f\"Success : {acc}, overall : {nbTypes}\")\n",
    "    print(f\"accuracy = {acc/nbTypes*100:.1f}%\")"
   ]
  },
  {
   "cell_type": "code",
   "execution_count": 138,
   "metadata": {},
   "outputs": [],
   "source": [
    "def alternate_show_prediction(listPoke, model, display_output=False):\n",
    "    acc = 0\n",
    "    nbTypes = 0\n",
    "    for name in listPoke:\n",
    "        # Get each Pokemon's name and type from the generation 6 games\n",
    "        pokeId = stats.loc[stats['Name']==name]['No'].iloc[0]\n",
    "        types = stats.loc[stats['Name']==name]['Types'].iloc[0]\n",
    "        # img_path = os.path.join('sprites/sprites/pokemon/versions/generation-i/red-blue/', str(pokeId)+'.png')\n",
    "        img_path = os.path.join('sprites/sprites/pokemon/versions/generation-viii/icons/', str(pokeId)+'.png')\n",
    "        \n",
    "        # Read and prepare image\n",
    "        img = image.load_img(img_path, target_size=(IMG_SIZE,IMG_SIZE,CHANNELS))\n",
    "        if display_output:\n",
    "            plt.imshow(img)\n",
    "            plt.tight_layout()\n",
    "            plt.show()\n",
    "        img = image.img_to_array(img)\n",
    "        img = img/255\n",
    "        img = np.expand_dims(img, axis=0)\n",
    "\n",
    "        # Generate prediction\n",
    "        prediction = (model.predict(img) > 0.5).astype('int')\n",
    "        prediction = pd.Series(prediction[0])\n",
    "        prediction.index = mlb.classes_\n",
    "        prediction = prediction[prediction==1].index.values\n",
    "        \n",
    "        nbTypes += len(types)\n",
    "\n",
    "        if list(prediction):\n",
    "            for type_predicted in list(prediction):\n",
    "                if type_predicted in types:\n",
    "                    acc+=1\n",
    "\n",
    "        if display_output:\n",
    "            print('\\n\\n{}\\nType\\n{}\\n\\nPrediction\\n{}\\n'.format(name, types, list(prediction)))\n",
    "    \n",
    "    print(f\"Success : {acc}, overall : {nbTypes}\")\n",
    "    print(f\"accuracy = {acc/nbTypes*100:.1f}%\")"
   ]
  },
  {
   "cell_type": "code",
   "execution_count": 139,
   "metadata": {},
   "outputs": [
    {
     "name": "stdout",
     "output_type": "stream",
     "text": [
      "Success : 79, overall : 1340\n",
      "accuracy = 5.9%\n"
     ]
    }
   ],
   "source": [
    "# Pokemon = list(stats['Name'].iloc[:151].sample(10))\n",
    "\n",
    "Pokemon = list(stats['Name'].iloc[:898])\n",
    "\n",
    "# Pokemon = [\"Inteleon\",\n",
    "        #   \"Zamazenta\",\n",
    "        #   \"Dracovish\",\n",
    "        #   \"Toxtricity\",\n",
    "        #   \"Flapple\",\n",
    "        #   \"Orbeetle\",\n",
    "        #   \"Hattrem\",\n",
    "        #   \"Cufant\"]\n",
    "    \n",
    "\n",
    "show_prediction(Pokemon, model, False)"
   ]
  },
  {
   "cell_type": "code",
   "execution_count": 133,
   "metadata": {},
   "outputs": [
    {
     "name": "stdout",
     "output_type": "stream",
     "text": [
      "Generation 1 predictions :\n",
      "Success : 37, overall : 218\n",
      "accuracy = 17.0%\n"
     ]
    }
   ],
   "source": [
    "gen_to_predict = 1\n",
    "print(\"Generation \" + str(gen_to_predict) + \" predictions :\")\n",
    "\n",
    "show_prediction(list(stats['Name'].iloc[CodeGen[gen_to_predict-1]:CodeGen[gen_to_predict]]), model)"
   ]
  },
  {
   "cell_type": "code",
   "execution_count": null,
   "metadata": {},
   "outputs": [],
   "source": []
  }
 ],
 "metadata": {
  "interpreter": {
   "hash": "837c519a48be08d8749c778cb72b9b5aac116a087aa5d1d99ee0359dceff73e6"
  },
  "kernelspec": {
   "display_name": "Python 3.10.2 64-bit",
   "language": "python",
   "name": "python3"
  },
  "language_info": {
   "codemirror_mode": {
    "name": "ipython",
    "version": 3
   },
   "file_extension": ".py",
   "mimetype": "text/x-python",
   "name": "python",
   "nbconvert_exporter": "python",
   "pygments_lexer": "ipython3",
   "version": "3.10.2"
  },
  "orig_nbformat": 4
 },
 "nbformat": 4,
 "nbformat_minor": 2
}
